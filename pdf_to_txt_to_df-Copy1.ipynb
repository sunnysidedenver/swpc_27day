{
 "cells": [
  {
   "cell_type": "markdown",
   "id": "2f4cb245",
   "metadata": {},
   "source": [
    "<center><h1>Converting Multiple PDF Files to TXT files, then a <br> Pandas Dataframe, for Exploratory Data Analysis & Hypothesis Testing</h1></center><br>\n",
    "<center>John Mayers, Physical Scientist <br> NOAA Space Weather Prediction Center</center>"
   ]
  },
  {
   "cell_type": "markdown",
   "id": "abf76403",
   "metadata": {},
   "source": [
    "<h2>Background:</h2>\n",
    "\n",
    "The Space Weather Prediction Center produces and releases 27-day geomagnetic forecasts found in [\"Weekly Highlights and 27-day Forecast](https://www.swpc.noaa.gov/products/weekly-highlights-and-27-day-forecast), which is in a PDF format. These forecast are not archived in a database and can only be found in these PDF documents. In order to assess forecast skill, the forecasts have to be extracted from these files into a readable format. This program will extract the data from the PDF files (found on page 4) using tabula-py then convert into text files. The text files will then be read into Pandas dataframes for additional analysis.  \n",
    "\n",
    "**Null Hypothesis:** 27 day forecasts are skillful <br>\n",
    "**Alternate Hypothesis:** 27 day forecast are not skillful"
   ]
  },
  {
   "cell_type": "code",
   "execution_count": 76,
   "id": "1b777e7f",
   "metadata": {},
   "outputs": [],
   "source": [
    "import pandas as pd\n",
    "import tabula\n",
    "import os\n",
    "import glob\n",
    "    \n",
    "from tabula.io import read_pdf\n",
    "from tabulate import tabulate\n",
    "from tabula.io import convert_into\n",
    "from tqdm import tqdm"
   ]
  },
  {
   "cell_type": "markdown",
   "id": "009553d0",
   "metadata": {},
   "source": [
    "<h3>Navigating to files</h3>"
   ]
  },
  {
   "cell_type": "code",
   "execution_count": 23,
   "id": "e05cc801",
   "metadata": {},
   "outputs": [
    {
     "name": "stdout",
     "output_type": "stream",
     "text": [
      "The current working directory is C:\\Users\\john.mayers\\Documents\\27_Day\\Data\\test_data.\n"
     ]
    }
   ],
   "source": [
    "#change working directory to location of pdf files\n",
    "    \n",
    "os.chdir('C:/Users/john.mayers/Documents/27_Day/Data/test_data/')\n",
    "print(f'The current working directory is {os. getcwd()}.')"
   ]
  },
  {
   "cell_type": "code",
   "execution_count": 65,
   "id": "b446c73d",
   "metadata": {},
   "outputs": [
    {
     "name": "stdout",
     "output_type": "stream",
     "text": [
      "The are 5 PDF files in this folder. The files are: ['prf2314.pdf', 'prf2315.pdf', 'prf2316.pdf', 'prf2317.pdf', 'prf2318.pdf'].\n"
     ]
    }
   ],
   "source": [
    "pdf_ls = []\n",
    "for file in glob.glob(\"*.pdf\"):\n",
    "    pdf_ls.append(file)\n",
    "pdf_ls\n",
    "\n",
    "num_pdfs = len(pdf_ls)\n",
    "\n",
    "print(f'The are {num_pdfs} PDF files in this folder. The files are: {pdf_ls}.')"
   ]
  },
  {
   "cell_type": "markdown",
   "id": "6fbd10e5",
   "metadata": {},
   "source": [
    "<h3>Preparing to use tabula-py to convert PDF to TXT</h3>"
   ]
  },
  {
   "cell_type": "markdown",
   "id": "07e9fbc2",
   "metadata": {},
   "source": [
    "The tabula-py wrapper has a specific format *(convert_into(input_filename, output_filename, pages=all)* to read PDF files and convert to TXT. Since hundreds of PDF file will need to be processed, loops will be needed to iterate through input and output filenames."
   ]
  },
  {
   "cell_type": "code",
   "execution_count": 27,
   "id": "a4dcbbfc",
   "metadata": {},
   "outputs": [
    {
     "name": "stdout",
     "output_type": "stream",
     "text": [
      "The output files will be: ['C:/Users/john.mayers/Documents/27_Day/Data/test_data/prf2314.txt', 'C:/Users/john.mayers/Documents/27_Day/Data/test_data/prf2315.txt', 'C:/Users/john.mayers/Documents/27_Day/Data/test_data/prf2316.txt', 'C:/Users/john.mayers/Documents/27_Day/Data/test_data/prf2317.txt', 'C:/Users/john.mayers/Documents/27_Day/Data/test_data/prf2318.txt'].\n"
     ]
    }
   ],
   "source": [
    "#creating a list of output_filenames from PDF filenames in dir but with .txt extension\n",
    "\n",
    "filenames = os.listdir() #list all PDF files in folder and save to variable\n",
    "filenames = [i.split('.', 1)[0] for i in filenames] #remove file extension from list of files and resave to variable\n",
    "\n",
    "ls=[]\n",
    "\n",
    "for i in range(len(filenames)):\n",
    "    w = os.path.join(directory + filenames[i]+ \".txt\") #concat directory, filenames with .txt extension\n",
    "    ls.append(w)\n",
    "    \n",
    "print(f'The tabula-py output files will be: {ls}.')"
   ]
  },
  {
   "cell_type": "code",
   "execution_count": 28,
   "id": "e9c69dc0",
   "metadata": {},
   "outputs": [
    {
     "name": "stdout",
     "output_type": "stream",
     "text": [
      "The tabula-py input files will be: ['C:/Users/john.mayers/Documents/27_Day/Data/test_data/prf2314.pdf', 'C:/Users/john.mayers/Documents/27_Day/Data/test_data/prf2315.pdf', 'C:/Users/john.mayers/Documents/27_Day/Data/test_data/prf2316.pdf', 'C:/Users/john.mayers/Documents/27_Day/Data/test_data/prf2317.pdf', 'C:/Users/john.mayers/Documents/27_Day/Data/test_data/prf2318.pdf'].\n"
     ]
    }
   ],
   "source": [
    "#creating a list of input_filenames\n",
    "\n",
    "ls1=[]\n",
    "\n",
    "for i in range(len(filenames)):\n",
    "    r = os.path.join(directory + filenames[i]+ \".pdf\") #concat directory, filenames, with .pdf extension\n",
    "    ls1.append(r)\n",
    "\n",
    "print(f'The tabula-py input files will be: {ls1}.')"
   ]
  },
  {
   "cell_type": "markdown",
   "id": "a690e24e",
   "metadata": {},
   "source": [
    "<h3>Converting PDF to TXT using tabula-py</h3>"
   ]
  },
  {
   "cell_type": "code",
   "execution_count": 78,
   "id": "143268be",
   "metadata": {},
   "outputs": [
    {
     "name": "stderr",
     "output_type": "stream",
     "text": [
      "100%|██████████████████████████████████████████████████████████████████████████████████| 53/53 [03:03<00:00,  3.46s/it]\n"
     ]
    }
   ],
   "source": [
    "#using tabula-py convert_into() function to convert PDF files in dir to TXT\n",
    "\n",
    "directory = 'C:/Users/john.mayers/Documents/27_Day/Data/test_data/'\n",
    "\n",
    "for pdf in tqdm(directory):\n",
    "    for i in range(len(ls)):\n",
    "        convert_into(ls1[i], ls[i], pages=4) #iterating through input and output filenames from lists above"
   ]
  },
  {
   "cell_type": "code",
   "execution_count": 79,
   "id": "5e7acb75",
   "metadata": {},
   "outputs": [
    {
     "name": "stdout",
     "output_type": "stream",
     "text": [
      "All PDF files were successfully converted to TXT files\n"
     ]
    }
   ],
   "source": [
    "#verifying conversion was successful\n",
    "\n",
    "num_txt = len(glob.glob1(directory,\"*.txt\"))\n",
    "\n",
    "if num_pdfs == num_txt:\n",
    "    print(\"All PDF files were successfully converted to TXT files\")\n",
    "else: \n",
    "    print(\"Some PDF files were not successfully converted\")"
   ]
  },
  {
   "cell_type": "markdown",
   "id": "e73d15ae",
   "metadata": {},
   "source": [
    "<h3>Converting all TXT files to Pandas Dataframe</h3>"
   ]
  },
  {
   "cell_type": "code",
   "execution_count": 88,
   "id": "24ff3124",
   "metadata": {},
   "outputs": [],
   "source": [
    "f=[]\n",
    "\n",
    "for file in os.listdir(directory):\n",
    "    if file.endswith(\".txt\"):\n",
    "        f.append(file)"
   ]
  },
  {
   "cell_type": "code",
   "execution_count": 89,
   "id": "e9d7b46e",
   "metadata": {},
   "outputs": [],
   "source": [
    "main_dataframe = pd.DataFrame(pd.read_csv(f[0]))\n",
    "  \n",
    "for i in range(1,len(f)):\n",
    "    data = pd.read_csv(f[i])\n",
    "    df = pd.DataFrame(data)\n",
    "    main_dataframe = pd.concat([main_dataframe,df],axis=1)\n",
    "    main_dataframe.head()"
   ]
  },
  {
   "cell_type": "code",
   "execution_count": 90,
   "id": "6996ef37",
   "metadata": {},
   "outputs": [
    {
     "data": {
      "text/html": [
       "<div>\n",
       "<style scoped>\n",
       "    .dataframe tbody tr th:only-of-type {\n",
       "        vertical-align: middle;\n",
       "    }\n",
       "\n",
       "    .dataframe tbody tr th {\n",
       "        vertical-align: top;\n",
       "    }\n",
       "\n",
       "    .dataframe thead th {\n",
       "        text-align: right;\n",
       "    }\n",
       "</style>\n",
       "<table border=\"1\" class=\"dataframe\">\n",
       "  <thead>\n",
       "    <tr style=\"text-align: right;\">\n",
       "      <th></th>\n",
       "      <th>06 Jan</th>\n",
       "      <th>72</th>\n",
       "      <th>12</th>\n",
       "      <th>4</th>\n",
       "      <th>Unnamed: 4</th>\n",
       "      <th>20 Jan</th>\n",
       "      <th>70</th>\n",
       "      <th>5</th>\n",
       "      <th>2</th>\n",
       "      <th>Unnamed: 9</th>\n",
       "      <th>...</th>\n",
       "      <th>03 Feb</th>\n",
       "      <th>70</th>\n",
       "      <th>5</th>\n",
       "      <th>2</th>\n",
       "      <th>Unnamed: 4</th>\n",
       "      <th>17 Feb</th>\n",
       "      <th>72</th>\n",
       "      <th>5.1</th>\n",
       "      <th>2.1</th>\n",
       "      <th>Unnamed: 9</th>\n",
       "    </tr>\n",
       "  </thead>\n",
       "  <tbody>\n",
       "    <tr>\n",
       "      <th>0</th>\n",
       "      <td>7</td>\n",
       "      <td>72</td>\n",
       "      <td>5</td>\n",
       "      <td>2</td>\n",
       "      <td>NaN</td>\n",
       "      <td>21</td>\n",
       "      <td>70.0</td>\n",
       "      <td>5.0</td>\n",
       "      <td>2.0</td>\n",
       "      <td>NaN</td>\n",
       "      <td>...</td>\n",
       "      <td>4</td>\n",
       "      <td>70</td>\n",
       "      <td>5</td>\n",
       "      <td>2</td>\n",
       "      <td>NaN</td>\n",
       "      <td>18.0</td>\n",
       "      <td>72.0</td>\n",
       "      <td>5.0</td>\n",
       "      <td>2.0</td>\n",
       "      <td>NaN</td>\n",
       "    </tr>\n",
       "    <tr>\n",
       "      <th>1</th>\n",
       "      <td>8</td>\n",
       "      <td>72</td>\n",
       "      <td>8</td>\n",
       "      <td>3</td>\n",
       "      <td>NaN</td>\n",
       "      <td>22</td>\n",
       "      <td>70.0</td>\n",
       "      <td>5.0</td>\n",
       "      <td>2.0</td>\n",
       "      <td>NaN</td>\n",
       "      <td>...</td>\n",
       "      <td>5</td>\n",
       "      <td>70</td>\n",
       "      <td>5</td>\n",
       "      <td>2</td>\n",
       "      <td>NaN</td>\n",
       "      <td>19.0</td>\n",
       "      <td>72.0</td>\n",
       "      <td>5.0</td>\n",
       "      <td>2.0</td>\n",
       "      <td>NaN</td>\n",
       "    </tr>\n",
       "    <tr>\n",
       "      <th>2</th>\n",
       "      <td>9</td>\n",
       "      <td>72</td>\n",
       "      <td>8</td>\n",
       "      <td>3</td>\n",
       "      <td>NaN</td>\n",
       "      <td>23</td>\n",
       "      <td>70.0</td>\n",
       "      <td>5.0</td>\n",
       "      <td>2.0</td>\n",
       "      <td>NaN</td>\n",
       "      <td>...</td>\n",
       "      <td>6</td>\n",
       "      <td>70</td>\n",
       "      <td>12</td>\n",
       "      <td>4</td>\n",
       "      <td>NaN</td>\n",
       "      <td>20.0</td>\n",
       "      <td>72.0</td>\n",
       "      <td>5.0</td>\n",
       "      <td>2.0</td>\n",
       "      <td>NaN</td>\n",
       "    </tr>\n",
       "    <tr>\n",
       "      <th>3</th>\n",
       "      <td>10</td>\n",
       "      <td>72</td>\n",
       "      <td>8</td>\n",
       "      <td>3</td>\n",
       "      <td>NaN</td>\n",
       "      <td>24</td>\n",
       "      <td>70.0</td>\n",
       "      <td>5.0</td>\n",
       "      <td>2.0</td>\n",
       "      <td>NaN</td>\n",
       "      <td>...</td>\n",
       "      <td>7</td>\n",
       "      <td>70</td>\n",
       "      <td>10</td>\n",
       "      <td>3</td>\n",
       "      <td>NaN</td>\n",
       "      <td>21.0</td>\n",
       "      <td>72.0</td>\n",
       "      <td>5.0</td>\n",
       "      <td>2.0</td>\n",
       "      <td>NaN</td>\n",
       "    </tr>\n",
       "    <tr>\n",
       "      <th>4</th>\n",
       "      <td>11</td>\n",
       "      <td>72</td>\n",
       "      <td>5</td>\n",
       "      <td>2</td>\n",
       "      <td>NaN</td>\n",
       "      <td>25</td>\n",
       "      <td>71.0</td>\n",
       "      <td>5.0</td>\n",
       "      <td>2.0</td>\n",
       "      <td>NaN</td>\n",
       "      <td>...</td>\n",
       "      <td>8</td>\n",
       "      <td>70</td>\n",
       "      <td>10</td>\n",
       "      <td>3</td>\n",
       "      <td>NaN</td>\n",
       "      <td>22.0</td>\n",
       "      <td>72.0</td>\n",
       "      <td>5.0</td>\n",
       "      <td>2.0</td>\n",
       "      <td>NaN</td>\n",
       "    </tr>\n",
       "  </tbody>\n",
       "</table>\n",
       "<p>5 rows × 50 columns</p>\n",
       "</div>"
      ],
      "text/plain": [
       "   06 Jan  72  12  4  Unnamed: 4 20 Jan    70    5    2  Unnamed: 9  ...  \\\n",
       "0       7  72   5  2         NaN     21  70.0  5.0  2.0         NaN  ...   \n",
       "1       8  72   8  3         NaN     22  70.0  5.0  2.0         NaN  ...   \n",
       "2       9  72   8  3         NaN     23  70.0  5.0  2.0         NaN  ...   \n",
       "3      10  72   8  3         NaN     24  70.0  5.0  2.0         NaN  ...   \n",
       "4      11  72   5  2         NaN     25  71.0  5.0  2.0         NaN  ...   \n",
       "\n",
       "   03 Feb  70   5  2  Unnamed: 4 17 Feb    72  5.1  2.1  Unnamed: 9  \n",
       "0       4  70   5  2         NaN   18.0  72.0  5.0  2.0         NaN  \n",
       "1       5  70   5  2         NaN   19.0  72.0  5.0  2.0         NaN  \n",
       "2       6  70  12  4         NaN   20.0  72.0  5.0  2.0         NaN  \n",
       "3       7  70  10  3         NaN   21.0  72.0  5.0  2.0         NaN  \n",
       "4       8  70  10  3         NaN   22.0  72.0  5.0  2.0         NaN  \n",
       "\n",
       "[5 rows x 50 columns]"
      ]
     },
     "execution_count": 90,
     "metadata": {},
     "output_type": "execute_result"
    }
   ],
   "source": [
    "main_dataframe.head()"
   ]
  },
  {
   "cell_type": "markdown",
   "id": "f3a72131",
   "metadata": {},
   "source": [
    "<h3>Cleaning the Data for Analysis</h3>"
   ]
  },
  {
   "cell_type": "code",
   "execution_count": null,
   "id": "50d16f2c",
   "metadata": {},
   "outputs": [],
   "source": []
  }
 ],
 "metadata": {
  "kernelspec": {
   "display_name": "Python 3 (ipykernel)",
   "language": "python",
   "name": "python3"
  },
  "language_info": {
   "codemirror_mode": {
    "name": "ipython",
    "version": 3
   },
   "file_extension": ".py",
   "mimetype": "text/x-python",
   "name": "python",
   "nbconvert_exporter": "python",
   "pygments_lexer": "ipython3",
   "version": "3.9.16"
  }
 },
 "nbformat": 4,
 "nbformat_minor": 5
}
