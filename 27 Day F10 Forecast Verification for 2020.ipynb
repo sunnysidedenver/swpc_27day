{
 "cells": [
  {
   "cell_type": "markdown",
   "id": "45014408",
   "metadata": {},
   "source": [
    "<center><h1>27 Day F10.7 Forecast Verification for [test_data] <br> </h1></center><br>\n",
    "<center>John Mayers, Physical Scientist <br> NOAA Space Weather Prediction Center</center>"
   ]
  },
  {
   "cell_type": "markdown",
   "id": "ff7d22fb",
   "metadata": {},
   "source": [
    "The Space Weather Prediction Center produces 27-day geomagnetic and radio forecasts found in the [\"Weekly Highlights and 27-day Forecast\"](https://www.swpc.noaa.gov/products/weekly-highlights-and-27-day-forecast). These forecast are not archived in a database and can only be found in these PDF documents. In order to assess forecast skill, the forecasts have to be extracted from these PDF files into a readable format. This fist part of this program will extract the forecasts from the PDF files (found on page 4) using tabula-py then convert them into text files. The text files will then be read into Pandas dataframes for additional analysis. Once cleaned, these forecasts can be compared against observed values in order to obtain a \"skill score\". Observed data are archived in a database and have been made available in an .xlsx spreadsheet."
   ]
  },
  {
   "cell_type": "code",
   "execution_count": 1,
   "id": "38b6523a",
   "metadata": {},
   "outputs": [],
   "source": [
    "import pandas as pd\n",
    "import tabula\n",
    "import os\n",
    "import glob\n",
    "import numpy as np\n",
    "import matplotlib.pyplot as plt\n",
    "    \n",
    "from tabula.io import read_pdf\n",
    "from tabulate import tabulate\n",
    "from tabula.io import convert_into\n",
    "from tqdm import tqdm\n",
    "from datetime import datetime, timedelta\n",
    "from numpy import nan\n",
    "from matplotlib.pyplot import figure\n",
    "from sklearn.linear_model import Ridge"
   ]
  },
  {
   "cell_type": "markdown",
   "id": "1515312b",
   "metadata": {},
   "source": [
    "<h3>Navigating to files</h3>"
   ]
  },
  {
   "cell_type": "markdown",
   "id": "881a3e55",
   "metadata": {},
   "source": [
    "**Step 1**: Change the working directory"
   ]
  },
  {
   "cell_type": "code",
   "execution_count": 2,
   "id": "257558db",
   "metadata": {},
   "outputs": [
    {
     "name": "stdout",
     "output_type": "stream",
     "text": [
      "The current working directory is C:\\Users\\john.mayers\\Documents\\27_Day\\Data\\test_data.\n"
     ]
    }
   ],
   "source": [
    "#change working directory to location of pdf files and set to variable\n",
    "    \n",
    "os.chdir('C:/Users/john.mayers/Documents/27_Day/Data/test_data/')\n",
    "directory = 'C:/Users/john.mayers/Documents/27_Day/Data/test_data/'\n",
    "print(f'The current working directory is {os. getcwd()}.')"
   ]
  },
  {
   "cell_type": "markdown",
   "id": "ffc42c8f",
   "metadata": {},
   "source": [
    "**Step 2**: Confirm the number of PDF files in the directory to be converted"
   ]
  },
  {
   "cell_type": "code",
   "execution_count": 3,
   "id": "5d4bcb7a",
   "metadata": {},
   "outputs": [
    {
     "name": "stdout",
     "output_type": "stream",
     "text": [
      "The are 5 PDF files in this folder.\n"
     ]
    }
   ],
   "source": [
    "pdf_ls = []\n",
    "for file in glob.glob(\"*.pdf\"):\n",
    "    pdf_ls.append(file)\n",
    "pdf_ls\n",
    "\n",
    "num_pdfs = len(pdf_ls)\n",
    "\n",
    "print(f'The are {num_pdfs} PDF files in this folder.')"
   ]
  },
  {
   "cell_type": "markdown",
   "id": "e93a50ac",
   "metadata": {},
   "source": [
    "<h3>Preparing to use tabula-py to convert PDF to TXT</h3>"
   ]
  },
  {
   "cell_type": "markdown",
   "id": "b9085df4",
   "metadata": {},
   "source": [
    "The tabula-py wrapper has a specific format *(convert_into(input_filename, output_filename, pages=all)* to read PDF files and convert to TXT. Since hundreds of PDF files will need to be processed, loops will be needed to iterate through input and output filenames."
   ]
  },
  {
   "cell_type": "markdown",
   "id": "ee7893e9",
   "metadata": {},
   "source": [
    "**Step 1**: Create iterable output filenames"
   ]
  },
  {
   "cell_type": "code",
   "execution_count": 4,
   "id": "bde5fc1d",
   "metadata": {},
   "outputs": [
    {
     "name": "stdout",
     "output_type": "stream",
     "text": [
      "The output file paths will look like C:/Users/john.mayers/Documents/27_Day/Data/test_data/prf2314.txt.\n"
     ]
    }
   ],
   "source": [
    "#creating a list of output_filenames from PDF filenames in dir but with .txt extension\n",
    "\n",
    "filenames = os.listdir() #list all PDF files in folder and save to variable\n",
    "filenames = [i.split('.', 1)[0] for i in filenames] #remove file extension from list of files and resave to variable\n",
    "\n",
    "ls=[]\n",
    "\n",
    "for i in range(len(filenames)):\n",
    "    w = os.path.join(directory + filenames[i]+ \".txt\") #concat directory, filenames with .txt extension\n",
    "    ls.append(w)\n",
    "    \n",
    "print(f'The output file paths will look like {ls[0]}.')"
   ]
  },
  {
   "cell_type": "markdown",
   "id": "6fb535de",
   "metadata": {},
   "source": [
    "**Step 2**: Create iterable input filenames"
   ]
  },
  {
   "cell_type": "code",
   "execution_count": 5,
   "id": "ed8c863b",
   "metadata": {},
   "outputs": [
    {
     "name": "stdout",
     "output_type": "stream",
     "text": [
      "The input file paths will look like: C:/Users/john.mayers/Documents/27_Day/Data/test_data/prf2314.pdf.\n"
     ]
    }
   ],
   "source": [
    "#creating a list of input_filenames\n",
    "\n",
    "ls1=[]\n",
    "\n",
    "for i in range(len(filenames)):\n",
    "    r = os.path.join(directory + filenames[i]+ \".pdf\") #concat directory, filenames, with .pdf extension\n",
    "    ls1.append(r)\n",
    "\n",
    "print(f'The input file paths will look like: {ls1[0]}.')"
   ]
  },
  {
   "cell_type": "markdown",
   "id": "26ede028",
   "metadata": {},
   "source": [
    "<h3>Converting PDF to TXT using tabula-py</h3>"
   ]
  },
  {
   "cell_type": "markdown",
   "id": "3befd732",
   "metadata": {},
   "source": [
    "**Step 1**: Using tabula-py, iterate through the input and output files created in the previous step to convert PDF files to TXT files. Note each PDF file can take up to 60 seconds to be converted."
   ]
  },
  {
   "cell_type": "code",
   "execution_count": 6,
   "id": "f1a61926",
   "metadata": {},
   "outputs": [
    {
     "name": "stderr",
     "output_type": "stream",
     "text": [
      "100%|██████████████████████████████████████████████████████████████████████████████████| 53/53 [03:07<00:00,  3.54s/it]\n"
     ]
    }
   ],
   "source": [
    "#using tabula-py convert_into() function to convert PDF files in dir to TXT\n",
    "\n",
    "for pdf in tqdm(directory):\n",
    "    for i in range(len(ls)):\n",
    "        convert_into(ls1[i], ls[i], pages=4) #iterating through input and output filenames from lists above"
   ]
  },
  {
   "cell_type": "markdown",
   "id": "f5ee288a",
   "metadata": {},
   "source": [
    "**Step 2**: Verify all PDF files were converted to TXT files"
   ]
  },
  {
   "cell_type": "code",
   "execution_count": 7,
   "id": "59b0126c",
   "metadata": {},
   "outputs": [
    {
     "name": "stdout",
     "output_type": "stream",
     "text": [
      "All PDF files were successfully converted to TXT files\n"
     ]
    }
   ],
   "source": [
    "#verifying conversion was successful\n",
    "\n",
    "num_txt = len(glob.glob1(directory,\"*.txt\"))\n",
    "\n",
    "if num_pdfs == num_txt:\n",
    "    print(\"All PDF files were successfully converted to TXT files\")\n",
    "else: \n",
    "    print(\"Some PDF files were not successfully converted\")"
   ]
  },
  {
   "cell_type": "markdown",
   "id": "a5a5d8a5",
   "metadata": {},
   "source": [
    "<h3>Converting all TXT files to Pandas Dataframe</h3>"
   ]
  },
  {
   "cell_type": "code",
   "execution_count": 8,
   "id": "619504d0",
   "metadata": {},
   "outputs": [
    {
     "name": "stdout",
     "output_type": "stream",
     "text": [
      "['prf2314.txt', 'prf2315.txt', 'prf2316.txt', 'prf2317.txt', 'prf2318.txt']\n"
     ]
    }
   ],
   "source": [
    "f=[]\n",
    "\n",
    "for file in os.listdir(directory):\n",
    "    if file.endswith(\".txt\"):\n",
    "        f.append(file)\n",
    "print(f)"
   ]
  },
  {
   "cell_type": "markdown",
   "id": "9ca24bd6",
   "metadata": {},
   "source": [
    "Looking at the first couple of TXT files that were converted from the first PDF file"
   ]
  },
  {
   "cell_type": "code",
   "execution_count": 9,
   "id": "b731964b",
   "metadata": {},
   "outputs": [
    {
     "name": "stdout",
     "output_type": "stream",
     "text": [
      "06 Jan,72,12,4,,20 Jan,70,5,2,\n",
      "07,72,5,2,,21,70,5,2,\n",
      "08,72,8,3,,22,70,5,2,\n",
      "09,72,8,3,,23,70,5,2,\n",
      "10,72,8,3,,24,70,5,2,\n",
      "11,72,5,2,,25,71,5,2,\n",
      "12,71,5,2,,26,72,5,2,\n",
      "13,70,5,2,,27,72,5,2,\n",
      "14,70,12,4,,28,72,5,2,\n",
      "15,70,12,4,,29,72,5,2,\n",
      "16,70,5,2,,30,72,5,2,\n",
      "17,70,5,2,,31,72,5,2,\n",
      "18,70,5,2,,01 Feb,72,8,3,\n",
      "19,70,5,2,,,,,,\n",
      "\n"
     ]
    }
   ],
   "source": [
    "file1 = open(f[0], 'r')\n",
    "print(file1.read())\n",
    "file1.close()"
   ]
  },
  {
   "cell_type": "code",
   "execution_count": 10,
   "id": "20c34422",
   "metadata": {},
   "outputs": [
    {
     "name": "stdout",
     "output_type": "stream",
     "text": [
      "13 Jan,71,8,3,,27 Jan,72,5,2,\n",
      "14,70,10,4,,28,72,5,2,\n",
      "15,70,10,4,,29,72,5,2,\n",
      "16,70,8,3,,30,72,5,2,\n",
      "17,70,5,2,,31,72,5,2,\n",
      "18,70,5,2,,01 Feb,72,10,3,\n",
      "19,70,5,2,,02,72,10,4,\n",
      "20,70,5,2,,03,72,10,4,\n",
      "21,70,5,2,,04,72,10,4,\n",
      "22,70,5,2,,05,72,10,3,\n",
      "23,70,5,2,,06,71,5,2,\n",
      "24,71,5,2,,07,70,5,2,\n",
      "25,72,5,2,,08,70,5,2,\n",
      "26,72,5,2,,,,,,\n",
      "\n"
     ]
    }
   ],
   "source": [
    "file2 = open(f[1], 'r')\n",
    "print(file2.read())\n",
    "file2.close()"
   ]
  },
  {
   "cell_type": "code",
   "execution_count": 11,
   "id": "26a5f5bb",
   "metadata": {},
   "outputs": [
    {
     "data": {
      "text/html": [
       "<div>\n",
       "<style scoped>\n",
       "    .dataframe tbody tr th:only-of-type {\n",
       "        vertical-align: middle;\n",
       "    }\n",
       "\n",
       "    .dataframe tbody tr th {\n",
       "        vertical-align: top;\n",
       "    }\n",
       "\n",
       "    .dataframe thead th {\n",
       "        text-align: right;\n",
       "    }\n",
       "</style>\n",
       "<table border=\"1\" class=\"dataframe\">\n",
       "  <thead>\n",
       "    <tr style=\"text-align: right;\">\n",
       "      <th></th>\n",
       "      <th>06 Jan</th>\n",
       "      <th>72</th>\n",
       "      <th>12</th>\n",
       "      <th>4</th>\n",
       "      <th>Unnamed: 4</th>\n",
       "      <th>20 Jan</th>\n",
       "      <th>70</th>\n",
       "      <th>5</th>\n",
       "      <th>2</th>\n",
       "      <th>Unnamed: 9</th>\n",
       "      <th>...</th>\n",
       "      <th>0</th>\n",
       "      <th>1</th>\n",
       "      <th>2</th>\n",
       "      <th>3</th>\n",
       "      <th>4</th>\n",
       "      <th>5</th>\n",
       "      <th>6</th>\n",
       "      <th>7</th>\n",
       "      <th>8</th>\n",
       "      <th>9</th>\n",
       "    </tr>\n",
       "  </thead>\n",
       "  <tbody>\n",
       "    <tr>\n",
       "      <th>0</th>\n",
       "      <td>7.0</td>\n",
       "      <td>72.0</td>\n",
       "      <td>5.0</td>\n",
       "      <td>2.0</td>\n",
       "      <td>NaN</td>\n",
       "      <td>21</td>\n",
       "      <td>70.0</td>\n",
       "      <td>5.0</td>\n",
       "      <td>2.0</td>\n",
       "      <td>NaN</td>\n",
       "      <td>...</td>\n",
       "      <td>03 Feb</td>\n",
       "      <td>70</td>\n",
       "      <td>5</td>\n",
       "      <td>2</td>\n",
       "      <td>NaN</td>\n",
       "      <td>17 Feb</td>\n",
       "      <td>72.0</td>\n",
       "      <td>5.0</td>\n",
       "      <td>2.0</td>\n",
       "      <td>NaN</td>\n",
       "    </tr>\n",
       "    <tr>\n",
       "      <th>1</th>\n",
       "      <td>8.0</td>\n",
       "      <td>72.0</td>\n",
       "      <td>8.0</td>\n",
       "      <td>3.0</td>\n",
       "      <td>NaN</td>\n",
       "      <td>22</td>\n",
       "      <td>70.0</td>\n",
       "      <td>5.0</td>\n",
       "      <td>2.0</td>\n",
       "      <td>NaN</td>\n",
       "      <td>...</td>\n",
       "      <td>04</td>\n",
       "      <td>70</td>\n",
       "      <td>5</td>\n",
       "      <td>2</td>\n",
       "      <td>NaN</td>\n",
       "      <td>18</td>\n",
       "      <td>72.0</td>\n",
       "      <td>5.0</td>\n",
       "      <td>2.0</td>\n",
       "      <td>NaN</td>\n",
       "    </tr>\n",
       "    <tr>\n",
       "      <th>2</th>\n",
       "      <td>9.0</td>\n",
       "      <td>72.0</td>\n",
       "      <td>8.0</td>\n",
       "      <td>3.0</td>\n",
       "      <td>NaN</td>\n",
       "      <td>23</td>\n",
       "      <td>70.0</td>\n",
       "      <td>5.0</td>\n",
       "      <td>2.0</td>\n",
       "      <td>NaN</td>\n",
       "      <td>...</td>\n",
       "      <td>05</td>\n",
       "      <td>70</td>\n",
       "      <td>5</td>\n",
       "      <td>2</td>\n",
       "      <td>NaN</td>\n",
       "      <td>19</td>\n",
       "      <td>72.0</td>\n",
       "      <td>5.0</td>\n",
       "      <td>2.0</td>\n",
       "      <td>NaN</td>\n",
       "    </tr>\n",
       "    <tr>\n",
       "      <th>3</th>\n",
       "      <td>10.0</td>\n",
       "      <td>72.0</td>\n",
       "      <td>8.0</td>\n",
       "      <td>3.0</td>\n",
       "      <td>NaN</td>\n",
       "      <td>24</td>\n",
       "      <td>70.0</td>\n",
       "      <td>5.0</td>\n",
       "      <td>2.0</td>\n",
       "      <td>NaN</td>\n",
       "      <td>...</td>\n",
       "      <td>06</td>\n",
       "      <td>70</td>\n",
       "      <td>12</td>\n",
       "      <td>4</td>\n",
       "      <td>NaN</td>\n",
       "      <td>20</td>\n",
       "      <td>72.0</td>\n",
       "      <td>5.0</td>\n",
       "      <td>2.0</td>\n",
       "      <td>NaN</td>\n",
       "    </tr>\n",
       "    <tr>\n",
       "      <th>4</th>\n",
       "      <td>11.0</td>\n",
       "      <td>72.0</td>\n",
       "      <td>5.0</td>\n",
       "      <td>2.0</td>\n",
       "      <td>NaN</td>\n",
       "      <td>25</td>\n",
       "      <td>71.0</td>\n",
       "      <td>5.0</td>\n",
       "      <td>2.0</td>\n",
       "      <td>NaN</td>\n",
       "      <td>...</td>\n",
       "      <td>07</td>\n",
       "      <td>70</td>\n",
       "      <td>10</td>\n",
       "      <td>3</td>\n",
       "      <td>NaN</td>\n",
       "      <td>21</td>\n",
       "      <td>72.0</td>\n",
       "      <td>5.0</td>\n",
       "      <td>2.0</td>\n",
       "      <td>NaN</td>\n",
       "    </tr>\n",
       "  </tbody>\n",
       "</table>\n",
       "<p>5 rows × 50 columns</p>\n",
       "</div>"
      ],
      "text/plain": [
       "   06 Jan    72   12    4  Unnamed: 4 20 Jan    70    5    2  Unnamed: 9  ...  \\\n",
       "0     7.0  72.0  5.0  2.0         NaN     21  70.0  5.0  2.0         NaN  ...   \n",
       "1     8.0  72.0  8.0  3.0         NaN     22  70.0  5.0  2.0         NaN  ...   \n",
       "2     9.0  72.0  8.0  3.0         NaN     23  70.0  5.0  2.0         NaN  ...   \n",
       "3    10.0  72.0  8.0  3.0         NaN     24  70.0  5.0  2.0         NaN  ...   \n",
       "4    11.0  72.0  5.0  2.0         NaN     25  71.0  5.0  2.0         NaN  ...   \n",
       "\n",
       "        0   1   2  3   4       5     6    7    8   9  \n",
       "0  03 Feb  70   5  2 NaN  17 Feb  72.0  5.0  2.0 NaN  \n",
       "1      04  70   5  2 NaN      18  72.0  5.0  2.0 NaN  \n",
       "2      05  70   5  2 NaN      19  72.0  5.0  2.0 NaN  \n",
       "3      06  70  12  4 NaN      20  72.0  5.0  2.0 NaN  \n",
       "4      07  70  10  3 NaN      21  72.0  5.0  2.0 NaN  \n",
       "\n",
       "[5 rows x 50 columns]"
      ]
     },
     "execution_count": 11,
     "metadata": {},
     "output_type": "execute_result"
    }
   ],
   "source": [
    "main_df = pd.DataFrame(pd.read_csv(f[0]))\n",
    "  \n",
    "for i in range(1,len(f)):\n",
    "    data = pd.read_csv(f[i],header=None)\n",
    "    df = pd.DataFrame(data)\n",
    "    main_df = pd.concat([main_df,df], axis=1)\n",
    "main_df.head()"
   ]
  },
  {
   "cell_type": "markdown",
   "id": "39e43cc3",
   "metadata": {},
   "source": [
    "<h3>Cleaning the Data for Analysis</h3>"
   ]
  },
  {
   "cell_type": "markdown",
   "id": "0e6a7568",
   "metadata": {},
   "source": [
    "<h4>Understanding the table structure</h4>"
   ]
  },
  {
   "cell_type": "code",
   "execution_count": 12,
   "id": "83c0be73",
   "metadata": {},
   "outputs": [],
   "source": [
    "main_copy = main_df.copy() # make a copy of the df"
   ]
  },
  {
   "cell_type": "code",
   "execution_count": 13,
   "id": "673bd0e5",
   "metadata": {},
   "outputs": [
    {
     "name": "stdout",
     "output_type": "stream",
     "text": [
      "This table has 14 rows and 50 columns.\n"
     ]
    }
   ],
   "source": [
    "print(f'This table has {main_copy.shape[0]} rows and {main_copy.shape[1]} columns.')"
   ]
  },
  {
   "cell_type": "markdown",
   "id": "066989f1",
   "metadata": {},
   "source": [
    "<h4>Looking at a subset of the table corresponding to the first forecast</h4>"
   ]
  },
  {
   "cell_type": "code",
   "execution_count": 14,
   "id": "8641d2a8",
   "metadata": {
    "scrolled": true
   },
   "outputs": [
    {
     "data": {
      "text/html": [
       "<div>\n",
       "<style scoped>\n",
       "    .dataframe tbody tr th:only-of-type {\n",
       "        vertical-align: middle;\n",
       "    }\n",
       "\n",
       "    .dataframe tbody tr th {\n",
       "        vertical-align: top;\n",
       "    }\n",
       "\n",
       "    .dataframe thead th {\n",
       "        text-align: right;\n",
       "    }\n",
       "</style>\n",
       "<table border=\"1\" class=\"dataframe\">\n",
       "  <thead>\n",
       "    <tr style=\"text-align: right;\">\n",
       "      <th></th>\n",
       "      <th>06 Jan</th>\n",
       "      <th>72</th>\n",
       "      <th>12</th>\n",
       "      <th>4</th>\n",
       "      <th>Unnamed: 4</th>\n",
       "      <th>20 Jan</th>\n",
       "      <th>70</th>\n",
       "      <th>5</th>\n",
       "      <th>2</th>\n",
       "      <th>Unnamed: 9</th>\n",
       "    </tr>\n",
       "  </thead>\n",
       "  <tbody>\n",
       "    <tr>\n",
       "      <th>0</th>\n",
       "      <td>7.0</td>\n",
       "      <td>72.0</td>\n",
       "      <td>5.0</td>\n",
       "      <td>2.0</td>\n",
       "      <td>NaN</td>\n",
       "      <td>21</td>\n",
       "      <td>70.0</td>\n",
       "      <td>5.0</td>\n",
       "      <td>2.0</td>\n",
       "      <td>NaN</td>\n",
       "    </tr>\n",
       "    <tr>\n",
       "      <th>1</th>\n",
       "      <td>8.0</td>\n",
       "      <td>72.0</td>\n",
       "      <td>8.0</td>\n",
       "      <td>3.0</td>\n",
       "      <td>NaN</td>\n",
       "      <td>22</td>\n",
       "      <td>70.0</td>\n",
       "      <td>5.0</td>\n",
       "      <td>2.0</td>\n",
       "      <td>NaN</td>\n",
       "    </tr>\n",
       "    <tr>\n",
       "      <th>2</th>\n",
       "      <td>9.0</td>\n",
       "      <td>72.0</td>\n",
       "      <td>8.0</td>\n",
       "      <td>3.0</td>\n",
       "      <td>NaN</td>\n",
       "      <td>23</td>\n",
       "      <td>70.0</td>\n",
       "      <td>5.0</td>\n",
       "      <td>2.0</td>\n",
       "      <td>NaN</td>\n",
       "    </tr>\n",
       "    <tr>\n",
       "      <th>3</th>\n",
       "      <td>10.0</td>\n",
       "      <td>72.0</td>\n",
       "      <td>8.0</td>\n",
       "      <td>3.0</td>\n",
       "      <td>NaN</td>\n",
       "      <td>24</td>\n",
       "      <td>70.0</td>\n",
       "      <td>5.0</td>\n",
       "      <td>2.0</td>\n",
       "      <td>NaN</td>\n",
       "    </tr>\n",
       "    <tr>\n",
       "      <th>4</th>\n",
       "      <td>11.0</td>\n",
       "      <td>72.0</td>\n",
       "      <td>5.0</td>\n",
       "      <td>2.0</td>\n",
       "      <td>NaN</td>\n",
       "      <td>25</td>\n",
       "      <td>71.0</td>\n",
       "      <td>5.0</td>\n",
       "      <td>2.0</td>\n",
       "      <td>NaN</td>\n",
       "    </tr>\n",
       "  </tbody>\n",
       "</table>\n",
       "</div>"
      ],
      "text/plain": [
       "   06 Jan    72   12    4  Unnamed: 4 20 Jan    70    5    2  Unnamed: 9\n",
       "0     7.0  72.0  5.0  2.0         NaN     21  70.0  5.0  2.0         NaN\n",
       "1     8.0  72.0  8.0  3.0         NaN     22  70.0  5.0  2.0         NaN\n",
       "2     9.0  72.0  8.0  3.0         NaN     23  70.0  5.0  2.0         NaN\n",
       "3    10.0  72.0  8.0  3.0         NaN     24  70.0  5.0  2.0         NaN\n",
       "4    11.0  72.0  5.0  2.0         NaN     25  71.0  5.0  2.0         NaN"
      ]
     },
     "execution_count": 14,
     "metadata": {},
     "output_type": "execute_result"
    }
   ],
   "source": [
    "pdf1 = main_copy.iloc[:,0:10] #looking at the cols corresponding to the first PDF. Each PDF has 10 cols.\n",
    "pdf1.head()"
   ]
  },
  {
   "cell_type": "markdown",
   "id": "b44a1405",
   "metadata": {},
   "source": [
    "<h4>Fixing col lables</h4>"
   ]
  },
  {
   "cell_type": "code",
   "execution_count": 15,
   "id": "b505d6e8",
   "metadata": {},
   "outputs": [
    {
     "data": {
      "text/html": [
       "<div>\n",
       "<style scoped>\n",
       "    .dataframe tbody tr th:only-of-type {\n",
       "        vertical-align: middle;\n",
       "    }\n",
       "\n",
       "    .dataframe tbody tr th {\n",
       "        vertical-align: top;\n",
       "    }\n",
       "\n",
       "    .dataframe thead th {\n",
       "        text-align: right;\n",
       "    }\n",
       "</style>\n",
       "<table border=\"1\" class=\"dataframe\">\n",
       "  <thead>\n",
       "    <tr style=\"text-align: right;\">\n",
       "      <th></th>\n",
       "      <th>06 Jan</th>\n",
       "      <th>72</th>\n",
       "      <th>12</th>\n",
       "      <th>4</th>\n",
       "      <th>Unnamed: 4</th>\n",
       "      <th>20 Jan</th>\n",
       "      <th>70</th>\n",
       "      <th>5</th>\n",
       "      <th>2</th>\n",
       "      <th>Unnamed: 9</th>\n",
       "      <th>...</th>\n",
       "      <th>0</th>\n",
       "      <th>1</th>\n",
       "      <th>2</th>\n",
       "      <th>3</th>\n",
       "      <th>4</th>\n",
       "      <th>5</th>\n",
       "      <th>6</th>\n",
       "      <th>7</th>\n",
       "      <th>8</th>\n",
       "      <th>9</th>\n",
       "    </tr>\n",
       "  </thead>\n",
       "  <tbody>\n",
       "    <tr>\n",
       "      <th>0</th>\n",
       "      <td>7.0</td>\n",
       "      <td>72.0</td>\n",
       "      <td>5.0</td>\n",
       "      <td>2.0</td>\n",
       "      <td>NaN</td>\n",
       "      <td>21</td>\n",
       "      <td>70.0</td>\n",
       "      <td>5.0</td>\n",
       "      <td>2.0</td>\n",
       "      <td>NaN</td>\n",
       "      <td>...</td>\n",
       "      <td>03 Feb</td>\n",
       "      <td>70</td>\n",
       "      <td>5</td>\n",
       "      <td>2</td>\n",
       "      <td>NaN</td>\n",
       "      <td>17 Feb</td>\n",
       "      <td>72.0</td>\n",
       "      <td>5.0</td>\n",
       "      <td>2.0</td>\n",
       "      <td>NaN</td>\n",
       "    </tr>\n",
       "    <tr>\n",
       "      <th>1</th>\n",
       "      <td>8.0</td>\n",
       "      <td>72.0</td>\n",
       "      <td>8.0</td>\n",
       "      <td>3.0</td>\n",
       "      <td>NaN</td>\n",
       "      <td>22</td>\n",
       "      <td>70.0</td>\n",
       "      <td>5.0</td>\n",
       "      <td>2.0</td>\n",
       "      <td>NaN</td>\n",
       "      <td>...</td>\n",
       "      <td>04</td>\n",
       "      <td>70</td>\n",
       "      <td>5</td>\n",
       "      <td>2</td>\n",
       "      <td>NaN</td>\n",
       "      <td>18</td>\n",
       "      <td>72.0</td>\n",
       "      <td>5.0</td>\n",
       "      <td>2.0</td>\n",
       "      <td>NaN</td>\n",
       "    </tr>\n",
       "    <tr>\n",
       "      <th>2</th>\n",
       "      <td>9.0</td>\n",
       "      <td>72.0</td>\n",
       "      <td>8.0</td>\n",
       "      <td>3.0</td>\n",
       "      <td>NaN</td>\n",
       "      <td>23</td>\n",
       "      <td>70.0</td>\n",
       "      <td>5.0</td>\n",
       "      <td>2.0</td>\n",
       "      <td>NaN</td>\n",
       "      <td>...</td>\n",
       "      <td>05</td>\n",
       "      <td>70</td>\n",
       "      <td>5</td>\n",
       "      <td>2</td>\n",
       "      <td>NaN</td>\n",
       "      <td>19</td>\n",
       "      <td>72.0</td>\n",
       "      <td>5.0</td>\n",
       "      <td>2.0</td>\n",
       "      <td>NaN</td>\n",
       "    </tr>\n",
       "    <tr>\n",
       "      <th>3</th>\n",
       "      <td>10.0</td>\n",
       "      <td>72.0</td>\n",
       "      <td>8.0</td>\n",
       "      <td>3.0</td>\n",
       "      <td>NaN</td>\n",
       "      <td>24</td>\n",
       "      <td>70.0</td>\n",
       "      <td>5.0</td>\n",
       "      <td>2.0</td>\n",
       "      <td>NaN</td>\n",
       "      <td>...</td>\n",
       "      <td>06</td>\n",
       "      <td>70</td>\n",
       "      <td>12</td>\n",
       "      <td>4</td>\n",
       "      <td>NaN</td>\n",
       "      <td>20</td>\n",
       "      <td>72.0</td>\n",
       "      <td>5.0</td>\n",
       "      <td>2.0</td>\n",
       "      <td>NaN</td>\n",
       "    </tr>\n",
       "    <tr>\n",
       "      <th>4</th>\n",
       "      <td>11.0</td>\n",
       "      <td>72.0</td>\n",
       "      <td>5.0</td>\n",
       "      <td>2.0</td>\n",
       "      <td>NaN</td>\n",
       "      <td>25</td>\n",
       "      <td>71.0</td>\n",
       "      <td>5.0</td>\n",
       "      <td>2.0</td>\n",
       "      <td>NaN</td>\n",
       "      <td>...</td>\n",
       "      <td>07</td>\n",
       "      <td>70</td>\n",
       "      <td>10</td>\n",
       "      <td>3</td>\n",
       "      <td>NaN</td>\n",
       "      <td>21</td>\n",
       "      <td>72.0</td>\n",
       "      <td>5.0</td>\n",
       "      <td>2.0</td>\n",
       "      <td>NaN</td>\n",
       "    </tr>\n",
       "  </tbody>\n",
       "</table>\n",
       "<p>5 rows × 50 columns</p>\n",
       "</div>"
      ],
      "text/plain": [
       "   06 Jan    72   12    4  Unnamed: 4 20 Jan    70    5    2  Unnamed: 9  ...  \\\n",
       "0     7.0  72.0  5.0  2.0         NaN     21  70.0  5.0  2.0         NaN  ...   \n",
       "1     8.0  72.0  8.0  3.0         NaN     22  70.0  5.0  2.0         NaN  ...   \n",
       "2     9.0  72.0  8.0  3.0         NaN     23  70.0  5.0  2.0         NaN  ...   \n",
       "3    10.0  72.0  8.0  3.0         NaN     24  70.0  5.0  2.0         NaN  ...   \n",
       "4    11.0  72.0  5.0  2.0         NaN     25  71.0  5.0  2.0         NaN  ...   \n",
       "\n",
       "        0   1   2  3   4       5     6    7    8   9  \n",
       "0  03 Feb  70   5  2 NaN  17 Feb  72.0  5.0  2.0 NaN  \n",
       "1      04  70   5  2 NaN      18  72.0  5.0  2.0 NaN  \n",
       "2      05  70   5  2 NaN      19  72.0  5.0  2.0 NaN  \n",
       "3      06  70  12  4 NaN      20  72.0  5.0  2.0 NaN  \n",
       "4      07  70  10  3 NaN      21  72.0  5.0  2.0 NaN  \n",
       "\n",
       "[5 rows x 50 columns]"
      ]
     },
     "execution_count": 15,
     "metadata": {},
     "output_type": "execute_result"
    }
   ],
   "source": [
    "main_copy.head()"
   ]
  },
  {
   "cell_type": "markdown",
   "id": "f04e1cd5",
   "metadata": {},
   "source": [
    "Every 5th col needs to be dropped"
   ]
  },
  {
   "cell_type": "code",
   "execution_count": 16,
   "id": "00e4aec0",
   "metadata": {},
   "outputs": [
    {
     "data": {
      "text/html": [
       "<div>\n",
       "<style scoped>\n",
       "    .dataframe tbody tr th:only-of-type {\n",
       "        vertical-align: middle;\n",
       "    }\n",
       "\n",
       "    .dataframe tbody tr th {\n",
       "        vertical-align: top;\n",
       "    }\n",
       "\n",
       "    .dataframe thead th {\n",
       "        text-align: right;\n",
       "    }\n",
       "</style>\n",
       "<table border=\"1\" class=\"dataframe\">\n",
       "  <thead>\n",
       "    <tr style=\"text-align: right;\">\n",
       "      <th></th>\n",
       "      <th>06 Jan</th>\n",
       "      <th>72</th>\n",
       "      <th>12</th>\n",
       "      <th>4</th>\n",
       "      <th>20 Jan</th>\n",
       "      <th>70</th>\n",
       "      <th>5</th>\n",
       "      <th>2</th>\n",
       "      <th>0</th>\n",
       "      <th>1</th>\n",
       "      <th>...</th>\n",
       "      <th>7</th>\n",
       "      <th>8</th>\n",
       "      <th>0</th>\n",
       "      <th>1</th>\n",
       "      <th>2</th>\n",
       "      <th>3</th>\n",
       "      <th>5</th>\n",
       "      <th>6</th>\n",
       "      <th>7</th>\n",
       "      <th>8</th>\n",
       "    </tr>\n",
       "  </thead>\n",
       "  <tbody>\n",
       "    <tr>\n",
       "      <th>0</th>\n",
       "      <td>7.0</td>\n",
       "      <td>72.0</td>\n",
       "      <td>5.0</td>\n",
       "      <td>2.0</td>\n",
       "      <td>21</td>\n",
       "      <td>70.0</td>\n",
       "      <td>5.0</td>\n",
       "      <td>2.0</td>\n",
       "      <td>13 Jan</td>\n",
       "      <td>71</td>\n",
       "      <td>...</td>\n",
       "      <td>5.0</td>\n",
       "      <td>2.0</td>\n",
       "      <td>03 Feb</td>\n",
       "      <td>70</td>\n",
       "      <td>5</td>\n",
       "      <td>2</td>\n",
       "      <td>17 Feb</td>\n",
       "      <td>72.0</td>\n",
       "      <td>5.0</td>\n",
       "      <td>2.0</td>\n",
       "    </tr>\n",
       "    <tr>\n",
       "      <th>1</th>\n",
       "      <td>8.0</td>\n",
       "      <td>72.0</td>\n",
       "      <td>8.0</td>\n",
       "      <td>3.0</td>\n",
       "      <td>22</td>\n",
       "      <td>70.0</td>\n",
       "      <td>5.0</td>\n",
       "      <td>2.0</td>\n",
       "      <td>14</td>\n",
       "      <td>70</td>\n",
       "      <td>...</td>\n",
       "      <td>5.0</td>\n",
       "      <td>2.0</td>\n",
       "      <td>04</td>\n",
       "      <td>70</td>\n",
       "      <td>5</td>\n",
       "      <td>2</td>\n",
       "      <td>18</td>\n",
       "      <td>72.0</td>\n",
       "      <td>5.0</td>\n",
       "      <td>2.0</td>\n",
       "    </tr>\n",
       "    <tr>\n",
       "      <th>2</th>\n",
       "      <td>9.0</td>\n",
       "      <td>72.0</td>\n",
       "      <td>8.0</td>\n",
       "      <td>3.0</td>\n",
       "      <td>23</td>\n",
       "      <td>70.0</td>\n",
       "      <td>5.0</td>\n",
       "      <td>2.0</td>\n",
       "      <td>15</td>\n",
       "      <td>70</td>\n",
       "      <td>...</td>\n",
       "      <td>5.0</td>\n",
       "      <td>2.0</td>\n",
       "      <td>05</td>\n",
       "      <td>70</td>\n",
       "      <td>5</td>\n",
       "      <td>2</td>\n",
       "      <td>19</td>\n",
       "      <td>72.0</td>\n",
       "      <td>5.0</td>\n",
       "      <td>2.0</td>\n",
       "    </tr>\n",
       "    <tr>\n",
       "      <th>3</th>\n",
       "      <td>10.0</td>\n",
       "      <td>72.0</td>\n",
       "      <td>8.0</td>\n",
       "      <td>3.0</td>\n",
       "      <td>24</td>\n",
       "      <td>70.0</td>\n",
       "      <td>5.0</td>\n",
       "      <td>2.0</td>\n",
       "      <td>16</td>\n",
       "      <td>70</td>\n",
       "      <td>...</td>\n",
       "      <td>5.0</td>\n",
       "      <td>2.0</td>\n",
       "      <td>06</td>\n",
       "      <td>70</td>\n",
       "      <td>12</td>\n",
       "      <td>4</td>\n",
       "      <td>20</td>\n",
       "      <td>72.0</td>\n",
       "      <td>5.0</td>\n",
       "      <td>2.0</td>\n",
       "    </tr>\n",
       "    <tr>\n",
       "      <th>4</th>\n",
       "      <td>11.0</td>\n",
       "      <td>72.0</td>\n",
       "      <td>5.0</td>\n",
       "      <td>2.0</td>\n",
       "      <td>25</td>\n",
       "      <td>71.0</td>\n",
       "      <td>5.0</td>\n",
       "      <td>2.0</td>\n",
       "      <td>17</td>\n",
       "      <td>70</td>\n",
       "      <td>...</td>\n",
       "      <td>5.0</td>\n",
       "      <td>2.0</td>\n",
       "      <td>07</td>\n",
       "      <td>70</td>\n",
       "      <td>10</td>\n",
       "      <td>3</td>\n",
       "      <td>21</td>\n",
       "      <td>72.0</td>\n",
       "      <td>5.0</td>\n",
       "      <td>2.0</td>\n",
       "    </tr>\n",
       "  </tbody>\n",
       "</table>\n",
       "<p>5 rows × 40 columns</p>\n",
       "</div>"
      ],
      "text/plain": [
       "   06 Jan    72   12    4 20 Jan    70    5    2       0   1  ...    7    8  \\\n",
       "0     7.0  72.0  5.0  2.0     21  70.0  5.0  2.0  13 Jan  71  ...  5.0  2.0   \n",
       "1     8.0  72.0  8.0  3.0     22  70.0  5.0  2.0      14  70  ...  5.0  2.0   \n",
       "2     9.0  72.0  8.0  3.0     23  70.0  5.0  2.0      15  70  ...  5.0  2.0   \n",
       "3    10.0  72.0  8.0  3.0     24  70.0  5.0  2.0      16  70  ...  5.0  2.0   \n",
       "4    11.0  72.0  5.0  2.0     25  71.0  5.0  2.0      17  70  ...  5.0  2.0   \n",
       "\n",
       "        0   1   2  3       5     6    7    8  \n",
       "0  03 Feb  70   5  2  17 Feb  72.0  5.0  2.0  \n",
       "1      04  70   5  2      18  72.0  5.0  2.0  \n",
       "2      05  70   5  2      19  72.0  5.0  2.0  \n",
       "3      06  70  12  4      20  72.0  5.0  2.0  \n",
       "4      07  70  10  3      21  72.0  5.0  2.0  \n",
       "\n",
       "[5 rows x 40 columns]"
      ]
     },
     "execution_count": 16,
     "metadata": {},
     "output_type": "execute_result"
    }
   ],
   "source": [
    "main = main_copy.loc[:, (np.arange(len(main_copy.columns)) + 1) % 5 != 0]\n",
    "main.head()"
   ]
  },
  {
   "cell_type": "markdown",
   "id": "54e25f6f",
   "metadata": {},
   "source": [
    "Creating a list of lists that repeats col labels based on the number of tables in the main df, then flattening that list of lists into a large list to pass into the df as the new col labels"
   ]
  },
  {
   "cell_type": "code",
   "execution_count": 17,
   "id": "9c8d715f",
   "metadata": {},
   "outputs": [],
   "source": [
    "new_cols = [['Date', 'Radio', 'Ap', 'Kp', 'Date', 'Radio', 'Ap', 'Kp']] \n",
    "\n",
    "k=int(len(main.columns)/8)\n",
    "\n",
    "res = [ele for ele in new_cols for i in range(k)] #list of lists of col headers"
   ]
  },
  {
   "cell_type": "code",
   "execution_count": 18,
   "id": "69875d18",
   "metadata": {},
   "outputs": [],
   "source": [
    "flat_list = [item for sublist in res for item in sublist] # flattening into 1 large list"
   ]
  },
  {
   "cell_type": "code",
   "execution_count": 19,
   "id": "3d263c4b",
   "metadata": {},
   "outputs": [
    {
     "data": {
      "text/plain": [
       "40"
      ]
     },
     "execution_count": 19,
     "metadata": {},
     "output_type": "execute_result"
    }
   ],
   "source": [
    "len(main.columns)"
   ]
  },
  {
   "cell_type": "code",
   "execution_count": 20,
   "id": "e20ffcf5",
   "metadata": {},
   "outputs": [
    {
     "data": {
      "text/plain": [
       "Index(['06 Jan',     '72',     '12',      '4', '20 Jan',     '70',      '5',\n",
       "            '2',        0,        1,        2,        3,        5,        6,\n",
       "              7,        8,        0,        1,        2,        3,        5,\n",
       "              6,        7,        8,        0,        1,        2,        3,\n",
       "              5,        6,        7,        8,        0,        1,        2,\n",
       "              3,        5,        6,        7,        8],\n",
       "      dtype='object')"
      ]
     },
     "execution_count": 20,
     "metadata": {},
     "output_type": "execute_result"
    }
   ],
   "source": [
    "row = main.columns # to be transferred into first row\n",
    "row"
   ]
  },
  {
   "cell_type": "code",
   "execution_count": 21,
   "id": "c52f25a2",
   "metadata": {},
   "outputs": [
    {
     "name": "stderr",
     "output_type": "stream",
     "text": [
      "C:\\Users\\john.mayers\\AppData\\Local\\Temp\\2\\ipykernel_24808\\3970645856.py:1: SettingWithCopyWarning: \n",
      "A value is trying to be set on a copy of a slice from a DataFrame\n",
      "\n",
      "See the caveats in the documentation: https://pandas.pydata.org/pandas-docs/stable/user_guide/indexing.html#returning-a-view-versus-a-copy\n",
      "  main.loc[-1] = row # adding a row and setting it to row\n"
     ]
    }
   ],
   "source": [
    "main.loc[-1] = row # adding a row and setting it to row"
   ]
  },
  {
   "cell_type": "code",
   "execution_count": 22,
   "id": "2cb50a03",
   "metadata": {},
   "outputs": [],
   "source": [
    "main.index = main.index + 1 #shifting index"
   ]
  },
  {
   "cell_type": "code",
   "execution_count": 23,
   "id": "2945102a",
   "metadata": {},
   "outputs": [],
   "source": [
    "main = main.sort_index() # sorting by index"
   ]
  },
  {
   "cell_type": "code",
   "execution_count": 24,
   "id": "c9c8a2e7",
   "metadata": {},
   "outputs": [],
   "source": [
    "main.columns = flat_list # setting new col labels"
   ]
  },
  {
   "cell_type": "code",
   "execution_count": 25,
   "id": "f8270fa0",
   "metadata": {},
   "outputs": [
    {
     "data": {
      "text/html": [
       "<div>\n",
       "<style scoped>\n",
       "    .dataframe tbody tr th:only-of-type {\n",
       "        vertical-align: middle;\n",
       "    }\n",
       "\n",
       "    .dataframe tbody tr th {\n",
       "        vertical-align: top;\n",
       "    }\n",
       "\n",
       "    .dataframe thead th {\n",
       "        text-align: right;\n",
       "    }\n",
       "</style>\n",
       "<table border=\"1\" class=\"dataframe\">\n",
       "  <thead>\n",
       "    <tr style=\"text-align: right;\">\n",
       "      <th></th>\n",
       "      <th>Date</th>\n",
       "      <th>Radio</th>\n",
       "      <th>Ap</th>\n",
       "      <th>Kp</th>\n",
       "      <th>Date</th>\n",
       "      <th>Radio</th>\n",
       "      <th>Ap</th>\n",
       "      <th>Kp</th>\n",
       "      <th>Date</th>\n",
       "      <th>Radio</th>\n",
       "      <th>...</th>\n",
       "      <th>Ap</th>\n",
       "      <th>Kp</th>\n",
       "      <th>Date</th>\n",
       "      <th>Radio</th>\n",
       "      <th>Ap</th>\n",
       "      <th>Kp</th>\n",
       "      <th>Date</th>\n",
       "      <th>Radio</th>\n",
       "      <th>Ap</th>\n",
       "      <th>Kp</th>\n",
       "    </tr>\n",
       "  </thead>\n",
       "  <tbody>\n",
       "    <tr>\n",
       "      <th>0</th>\n",
       "      <td>06 Jan</td>\n",
       "      <td>72</td>\n",
       "      <td>12</td>\n",
       "      <td>4</td>\n",
       "      <td>20 Jan</td>\n",
       "      <td>70</td>\n",
       "      <td>5</td>\n",
       "      <td>2</td>\n",
       "      <td>0</td>\n",
       "      <td>1</td>\n",
       "      <td>...</td>\n",
       "      <td>7.0</td>\n",
       "      <td>8.0</td>\n",
       "      <td>0</td>\n",
       "      <td>1</td>\n",
       "      <td>2</td>\n",
       "      <td>3</td>\n",
       "      <td>5</td>\n",
       "      <td>6.0</td>\n",
       "      <td>7.0</td>\n",
       "      <td>8.0</td>\n",
       "    </tr>\n",
       "    <tr>\n",
       "      <th>1</th>\n",
       "      <td>7.0</td>\n",
       "      <td>72.0</td>\n",
       "      <td>5.0</td>\n",
       "      <td>2.0</td>\n",
       "      <td>21</td>\n",
       "      <td>70.0</td>\n",
       "      <td>5.0</td>\n",
       "      <td>2.0</td>\n",
       "      <td>13 Jan</td>\n",
       "      <td>71</td>\n",
       "      <td>...</td>\n",
       "      <td>5.0</td>\n",
       "      <td>2.0</td>\n",
       "      <td>03 Feb</td>\n",
       "      <td>70</td>\n",
       "      <td>5</td>\n",
       "      <td>2</td>\n",
       "      <td>17 Feb</td>\n",
       "      <td>72.0</td>\n",
       "      <td>5.0</td>\n",
       "      <td>2.0</td>\n",
       "    </tr>\n",
       "    <tr>\n",
       "      <th>2</th>\n",
       "      <td>8.0</td>\n",
       "      <td>72.0</td>\n",
       "      <td>8.0</td>\n",
       "      <td>3.0</td>\n",
       "      <td>22</td>\n",
       "      <td>70.0</td>\n",
       "      <td>5.0</td>\n",
       "      <td>2.0</td>\n",
       "      <td>14</td>\n",
       "      <td>70</td>\n",
       "      <td>...</td>\n",
       "      <td>5.0</td>\n",
       "      <td>2.0</td>\n",
       "      <td>04</td>\n",
       "      <td>70</td>\n",
       "      <td>5</td>\n",
       "      <td>2</td>\n",
       "      <td>18</td>\n",
       "      <td>72.0</td>\n",
       "      <td>5.0</td>\n",
       "      <td>2.0</td>\n",
       "    </tr>\n",
       "    <tr>\n",
       "      <th>3</th>\n",
       "      <td>9.0</td>\n",
       "      <td>72.0</td>\n",
       "      <td>8.0</td>\n",
       "      <td>3.0</td>\n",
       "      <td>23</td>\n",
       "      <td>70.0</td>\n",
       "      <td>5.0</td>\n",
       "      <td>2.0</td>\n",
       "      <td>15</td>\n",
       "      <td>70</td>\n",
       "      <td>...</td>\n",
       "      <td>5.0</td>\n",
       "      <td>2.0</td>\n",
       "      <td>05</td>\n",
       "      <td>70</td>\n",
       "      <td>5</td>\n",
       "      <td>2</td>\n",
       "      <td>19</td>\n",
       "      <td>72.0</td>\n",
       "      <td>5.0</td>\n",
       "      <td>2.0</td>\n",
       "    </tr>\n",
       "    <tr>\n",
       "      <th>4</th>\n",
       "      <td>10.0</td>\n",
       "      <td>72.0</td>\n",
       "      <td>8.0</td>\n",
       "      <td>3.0</td>\n",
       "      <td>24</td>\n",
       "      <td>70.0</td>\n",
       "      <td>5.0</td>\n",
       "      <td>2.0</td>\n",
       "      <td>16</td>\n",
       "      <td>70</td>\n",
       "      <td>...</td>\n",
       "      <td>5.0</td>\n",
       "      <td>2.0</td>\n",
       "      <td>06</td>\n",
       "      <td>70</td>\n",
       "      <td>12</td>\n",
       "      <td>4</td>\n",
       "      <td>20</td>\n",
       "      <td>72.0</td>\n",
       "      <td>5.0</td>\n",
       "      <td>2.0</td>\n",
       "    </tr>\n",
       "  </tbody>\n",
       "</table>\n",
       "<p>5 rows × 40 columns</p>\n",
       "</div>"
      ],
      "text/plain": [
       "     Date  Radio   Ap   Kp    Date  Radio   Ap   Kp    Date  Radio  ...   Ap  \\\n",
       "0  06 Jan     72   12    4  20 Jan     70    5    2       0      1  ...  7.0   \n",
       "1     7.0   72.0  5.0  2.0      21   70.0  5.0  2.0  13 Jan     71  ...  5.0   \n",
       "2     8.0   72.0  8.0  3.0      22   70.0  5.0  2.0      14     70  ...  5.0   \n",
       "3     9.0   72.0  8.0  3.0      23   70.0  5.0  2.0      15     70  ...  5.0   \n",
       "4    10.0   72.0  8.0  3.0      24   70.0  5.0  2.0      16     70  ...  5.0   \n",
       "\n",
       "    Kp    Date  Radio  Ap  Kp    Date  Radio   Ap   Kp  \n",
       "0  8.0       0      1   2   3       5    6.0  7.0  8.0  \n",
       "1  2.0  03 Feb     70   5   2  17 Feb   72.0  5.0  2.0  \n",
       "2  2.0      04     70   5   2      18   72.0  5.0  2.0  \n",
       "3  2.0      05     70   5   2      19   72.0  5.0  2.0  \n",
       "4  2.0      06     70  12   4      20   72.0  5.0  2.0  \n",
       "\n",
       "[5 rows x 40 columns]"
      ]
     },
     "execution_count": 25,
     "metadata": {},
     "output_type": "execute_result"
    }
   ],
   "source": [
    "main.head()"
   ]
  },
  {
   "cell_type": "markdown",
   "id": "cc7f5614",
   "metadata": {},
   "source": [
    "<h3>Inspecting individual forecasts from main df</h3>"
   ]
  },
  {
   "cell_type": "code",
   "execution_count": 26,
   "id": "c1aa41dd",
   "metadata": {},
   "outputs": [
    {
     "data": {
      "text/html": [
       "<div>\n",
       "<style scoped>\n",
       "    .dataframe tbody tr th:only-of-type {\n",
       "        vertical-align: middle;\n",
       "    }\n",
       "\n",
       "    .dataframe tbody tr th {\n",
       "        vertical-align: top;\n",
       "    }\n",
       "\n",
       "    .dataframe thead th {\n",
       "        text-align: right;\n",
       "    }\n",
       "</style>\n",
       "<table border=\"1\" class=\"dataframe\">\n",
       "  <thead>\n",
       "    <tr style=\"text-align: right;\">\n",
       "      <th></th>\n",
       "      <th>Date</th>\n",
       "      <th>Radio</th>\n",
       "      <th>Ap</th>\n",
       "      <th>Kp</th>\n",
       "      <th>Date</th>\n",
       "      <th>Radio</th>\n",
       "      <th>Ap</th>\n",
       "      <th>Kp</th>\n",
       "    </tr>\n",
       "  </thead>\n",
       "  <tbody>\n",
       "    <tr>\n",
       "      <th>0</th>\n",
       "      <td>06 Jan</td>\n",
       "      <td>72</td>\n",
       "      <td>12</td>\n",
       "      <td>4</td>\n",
       "      <td>20 Jan</td>\n",
       "      <td>70</td>\n",
       "      <td>5</td>\n",
       "      <td>2</td>\n",
       "    </tr>\n",
       "    <tr>\n",
       "      <th>1</th>\n",
       "      <td>7.0</td>\n",
       "      <td>72.0</td>\n",
       "      <td>5.0</td>\n",
       "      <td>2.0</td>\n",
       "      <td>21</td>\n",
       "      <td>70.0</td>\n",
       "      <td>5.0</td>\n",
       "      <td>2.0</td>\n",
       "    </tr>\n",
       "    <tr>\n",
       "      <th>2</th>\n",
       "      <td>8.0</td>\n",
       "      <td>72.0</td>\n",
       "      <td>8.0</td>\n",
       "      <td>3.0</td>\n",
       "      <td>22</td>\n",
       "      <td>70.0</td>\n",
       "      <td>5.0</td>\n",
       "      <td>2.0</td>\n",
       "    </tr>\n",
       "    <tr>\n",
       "      <th>3</th>\n",
       "      <td>9.0</td>\n",
       "      <td>72.0</td>\n",
       "      <td>8.0</td>\n",
       "      <td>3.0</td>\n",
       "      <td>23</td>\n",
       "      <td>70.0</td>\n",
       "      <td>5.0</td>\n",
       "      <td>2.0</td>\n",
       "    </tr>\n",
       "    <tr>\n",
       "      <th>4</th>\n",
       "      <td>10.0</td>\n",
       "      <td>72.0</td>\n",
       "      <td>8.0</td>\n",
       "      <td>3.0</td>\n",
       "      <td>24</td>\n",
       "      <td>70.0</td>\n",
       "      <td>5.0</td>\n",
       "      <td>2.0</td>\n",
       "    </tr>\n",
       "    <tr>\n",
       "      <th>5</th>\n",
       "      <td>11.0</td>\n",
       "      <td>72.0</td>\n",
       "      <td>5.0</td>\n",
       "      <td>2.0</td>\n",
       "      <td>25</td>\n",
       "      <td>71.0</td>\n",
       "      <td>5.0</td>\n",
       "      <td>2.0</td>\n",
       "    </tr>\n",
       "    <tr>\n",
       "      <th>6</th>\n",
       "      <td>12.0</td>\n",
       "      <td>71.0</td>\n",
       "      <td>5.0</td>\n",
       "      <td>2.0</td>\n",
       "      <td>26</td>\n",
       "      <td>72.0</td>\n",
       "      <td>5.0</td>\n",
       "      <td>2.0</td>\n",
       "    </tr>\n",
       "    <tr>\n",
       "      <th>7</th>\n",
       "      <td>13.0</td>\n",
       "      <td>70.0</td>\n",
       "      <td>5.0</td>\n",
       "      <td>2.0</td>\n",
       "      <td>27</td>\n",
       "      <td>72.0</td>\n",
       "      <td>5.0</td>\n",
       "      <td>2.0</td>\n",
       "    </tr>\n",
       "    <tr>\n",
       "      <th>8</th>\n",
       "      <td>14.0</td>\n",
       "      <td>70.0</td>\n",
       "      <td>12.0</td>\n",
       "      <td>4.0</td>\n",
       "      <td>28</td>\n",
       "      <td>72.0</td>\n",
       "      <td>5.0</td>\n",
       "      <td>2.0</td>\n",
       "    </tr>\n",
       "    <tr>\n",
       "      <th>9</th>\n",
       "      <td>15.0</td>\n",
       "      <td>70.0</td>\n",
       "      <td>12.0</td>\n",
       "      <td>4.0</td>\n",
       "      <td>29</td>\n",
       "      <td>72.0</td>\n",
       "      <td>5.0</td>\n",
       "      <td>2.0</td>\n",
       "    </tr>\n",
       "    <tr>\n",
       "      <th>10</th>\n",
       "      <td>16.0</td>\n",
       "      <td>70.0</td>\n",
       "      <td>5.0</td>\n",
       "      <td>2.0</td>\n",
       "      <td>30</td>\n",
       "      <td>72.0</td>\n",
       "      <td>5.0</td>\n",
       "      <td>2.0</td>\n",
       "    </tr>\n",
       "    <tr>\n",
       "      <th>11</th>\n",
       "      <td>17.0</td>\n",
       "      <td>70.0</td>\n",
       "      <td>5.0</td>\n",
       "      <td>2.0</td>\n",
       "      <td>31</td>\n",
       "      <td>72.0</td>\n",
       "      <td>5.0</td>\n",
       "      <td>2.0</td>\n",
       "    </tr>\n",
       "    <tr>\n",
       "      <th>12</th>\n",
       "      <td>18.0</td>\n",
       "      <td>70.0</td>\n",
       "      <td>5.0</td>\n",
       "      <td>2.0</td>\n",
       "      <td>01 Feb</td>\n",
       "      <td>72.0</td>\n",
       "      <td>8.0</td>\n",
       "      <td>3.0</td>\n",
       "    </tr>\n",
       "    <tr>\n",
       "      <th>13</th>\n",
       "      <td>19.0</td>\n",
       "      <td>70.0</td>\n",
       "      <td>5.0</td>\n",
       "      <td>2.0</td>\n",
       "      <td>NaN</td>\n",
       "      <td>NaN</td>\n",
       "      <td>NaN</td>\n",
       "      <td>NaN</td>\n",
       "    </tr>\n",
       "    <tr>\n",
       "      <th>14</th>\n",
       "      <td>NaN</td>\n",
       "      <td>NaN</td>\n",
       "      <td>NaN</td>\n",
       "      <td>NaN</td>\n",
       "      <td>NaN</td>\n",
       "      <td>NaN</td>\n",
       "      <td>NaN</td>\n",
       "      <td>NaN</td>\n",
       "    </tr>\n",
       "  </tbody>\n",
       "</table>\n",
       "</div>"
      ],
      "text/plain": [
       "      Date Radio    Ap   Kp    Date Radio   Ap   Kp\n",
       "0   06 Jan    72    12    4  20 Jan    70    5    2\n",
       "1      7.0  72.0   5.0  2.0      21  70.0  5.0  2.0\n",
       "2      8.0  72.0   8.0  3.0      22  70.0  5.0  2.0\n",
       "3      9.0  72.0   8.0  3.0      23  70.0  5.0  2.0\n",
       "4     10.0  72.0   8.0  3.0      24  70.0  5.0  2.0\n",
       "5     11.0  72.0   5.0  2.0      25  71.0  5.0  2.0\n",
       "6     12.0  71.0   5.0  2.0      26  72.0  5.0  2.0\n",
       "7     13.0  70.0   5.0  2.0      27  72.0  5.0  2.0\n",
       "8     14.0  70.0  12.0  4.0      28  72.0  5.0  2.0\n",
       "9     15.0  70.0  12.0  4.0      29  72.0  5.0  2.0\n",
       "10    16.0  70.0   5.0  2.0      30  72.0  5.0  2.0\n",
       "11    17.0  70.0   5.0  2.0      31  72.0  5.0  2.0\n",
       "12    18.0  70.0   5.0  2.0  01 Feb  72.0  8.0  3.0\n",
       "13    19.0  70.0   5.0  2.0     NaN   NaN  NaN  NaN\n",
       "14     NaN   NaN   NaN  NaN     NaN   NaN  NaN  NaN"
      ]
     },
     "execution_count": 26,
     "metadata": {},
     "output_type": "execute_result"
    }
   ],
   "source": [
    "main.iloc[:,0:8]"
   ]
  },
  {
   "cell_type": "code",
   "execution_count": 27,
   "id": "05e815be",
   "metadata": {},
   "outputs": [
    {
     "data": {
      "text/html": [
       "<div>\n",
       "<style scoped>\n",
       "    .dataframe tbody tr th:only-of-type {\n",
       "        vertical-align: middle;\n",
       "    }\n",
       "\n",
       "    .dataframe tbody tr th {\n",
       "        vertical-align: top;\n",
       "    }\n",
       "\n",
       "    .dataframe thead th {\n",
       "        text-align: right;\n",
       "    }\n",
       "</style>\n",
       "<table border=\"1\" class=\"dataframe\">\n",
       "  <thead>\n",
       "    <tr style=\"text-align: right;\">\n",
       "      <th></th>\n",
       "      <th>Date</th>\n",
       "      <th>Radio</th>\n",
       "      <th>Ap</th>\n",
       "      <th>Kp</th>\n",
       "      <th>Date</th>\n",
       "      <th>Radio</th>\n",
       "      <th>Ap</th>\n",
       "      <th>Kp</th>\n",
       "    </tr>\n",
       "  </thead>\n",
       "  <tbody>\n",
       "    <tr>\n",
       "      <th>0</th>\n",
       "      <td>0</td>\n",
       "      <td>1</td>\n",
       "      <td>2</td>\n",
       "      <td>3</td>\n",
       "      <td>5</td>\n",
       "      <td>6.0</td>\n",
       "      <td>7.0</td>\n",
       "      <td>8.0</td>\n",
       "    </tr>\n",
       "    <tr>\n",
       "      <th>1</th>\n",
       "      <td>13 Jan</td>\n",
       "      <td>71</td>\n",
       "      <td>8</td>\n",
       "      <td>3</td>\n",
       "      <td>27 Jan</td>\n",
       "      <td>72.0</td>\n",
       "      <td>5.0</td>\n",
       "      <td>2.0</td>\n",
       "    </tr>\n",
       "    <tr>\n",
       "      <th>2</th>\n",
       "      <td>14</td>\n",
       "      <td>70</td>\n",
       "      <td>10</td>\n",
       "      <td>4</td>\n",
       "      <td>28</td>\n",
       "      <td>72.0</td>\n",
       "      <td>5.0</td>\n",
       "      <td>2.0</td>\n",
       "    </tr>\n",
       "    <tr>\n",
       "      <th>3</th>\n",
       "      <td>15</td>\n",
       "      <td>70</td>\n",
       "      <td>10</td>\n",
       "      <td>4</td>\n",
       "      <td>29</td>\n",
       "      <td>72.0</td>\n",
       "      <td>5.0</td>\n",
       "      <td>2.0</td>\n",
       "    </tr>\n",
       "    <tr>\n",
       "      <th>4</th>\n",
       "      <td>16</td>\n",
       "      <td>70</td>\n",
       "      <td>8</td>\n",
       "      <td>3</td>\n",
       "      <td>30</td>\n",
       "      <td>72.0</td>\n",
       "      <td>5.0</td>\n",
       "      <td>2.0</td>\n",
       "    </tr>\n",
       "    <tr>\n",
       "      <th>5</th>\n",
       "      <td>17</td>\n",
       "      <td>70</td>\n",
       "      <td>5</td>\n",
       "      <td>2</td>\n",
       "      <td>31</td>\n",
       "      <td>72.0</td>\n",
       "      <td>5.0</td>\n",
       "      <td>2.0</td>\n",
       "    </tr>\n",
       "    <tr>\n",
       "      <th>6</th>\n",
       "      <td>18</td>\n",
       "      <td>70</td>\n",
       "      <td>5</td>\n",
       "      <td>2</td>\n",
       "      <td>01 Feb</td>\n",
       "      <td>72.0</td>\n",
       "      <td>10.0</td>\n",
       "      <td>3.0</td>\n",
       "    </tr>\n",
       "    <tr>\n",
       "      <th>7</th>\n",
       "      <td>19</td>\n",
       "      <td>70</td>\n",
       "      <td>5</td>\n",
       "      <td>2</td>\n",
       "      <td>02</td>\n",
       "      <td>72.0</td>\n",
       "      <td>10.0</td>\n",
       "      <td>4.0</td>\n",
       "    </tr>\n",
       "    <tr>\n",
       "      <th>8</th>\n",
       "      <td>20</td>\n",
       "      <td>70</td>\n",
       "      <td>5</td>\n",
       "      <td>2</td>\n",
       "      <td>03</td>\n",
       "      <td>72.0</td>\n",
       "      <td>10.0</td>\n",
       "      <td>4.0</td>\n",
       "    </tr>\n",
       "    <tr>\n",
       "      <th>9</th>\n",
       "      <td>21</td>\n",
       "      <td>70</td>\n",
       "      <td>5</td>\n",
       "      <td>2</td>\n",
       "      <td>04</td>\n",
       "      <td>72.0</td>\n",
       "      <td>10.0</td>\n",
       "      <td>4.0</td>\n",
       "    </tr>\n",
       "    <tr>\n",
       "      <th>10</th>\n",
       "      <td>22</td>\n",
       "      <td>70</td>\n",
       "      <td>5</td>\n",
       "      <td>2</td>\n",
       "      <td>05</td>\n",
       "      <td>72.0</td>\n",
       "      <td>10.0</td>\n",
       "      <td>3.0</td>\n",
       "    </tr>\n",
       "    <tr>\n",
       "      <th>11</th>\n",
       "      <td>23</td>\n",
       "      <td>70</td>\n",
       "      <td>5</td>\n",
       "      <td>2</td>\n",
       "      <td>06</td>\n",
       "      <td>71.0</td>\n",
       "      <td>5.0</td>\n",
       "      <td>2.0</td>\n",
       "    </tr>\n",
       "    <tr>\n",
       "      <th>12</th>\n",
       "      <td>24</td>\n",
       "      <td>71</td>\n",
       "      <td>5</td>\n",
       "      <td>2</td>\n",
       "      <td>07</td>\n",
       "      <td>70.0</td>\n",
       "      <td>5.0</td>\n",
       "      <td>2.0</td>\n",
       "    </tr>\n",
       "    <tr>\n",
       "      <th>13</th>\n",
       "      <td>25</td>\n",
       "      <td>72</td>\n",
       "      <td>5</td>\n",
       "      <td>2</td>\n",
       "      <td>08</td>\n",
       "      <td>70.0</td>\n",
       "      <td>5.0</td>\n",
       "      <td>2.0</td>\n",
       "    </tr>\n",
       "    <tr>\n",
       "      <th>14</th>\n",
       "      <td>26</td>\n",
       "      <td>72</td>\n",
       "      <td>5</td>\n",
       "      <td>2</td>\n",
       "      <td>NaN</td>\n",
       "      <td>NaN</td>\n",
       "      <td>NaN</td>\n",
       "      <td>NaN</td>\n",
       "    </tr>\n",
       "  </tbody>\n",
       "</table>\n",
       "</div>"
      ],
      "text/plain": [
       "      Date  Radio  Ap  Kp    Date  Radio    Ap   Kp\n",
       "0        0      1   2   3       5    6.0   7.0  8.0\n",
       "1   13 Jan     71   8   3  27 Jan   72.0   5.0  2.0\n",
       "2       14     70  10   4      28   72.0   5.0  2.0\n",
       "3       15     70  10   4      29   72.0   5.0  2.0\n",
       "4       16     70   8   3      30   72.0   5.0  2.0\n",
       "5       17     70   5   2      31   72.0   5.0  2.0\n",
       "6       18     70   5   2  01 Feb   72.0  10.0  3.0\n",
       "7       19     70   5   2      02   72.0  10.0  4.0\n",
       "8       20     70   5   2      03   72.0  10.0  4.0\n",
       "9       21     70   5   2      04   72.0  10.0  4.0\n",
       "10      22     70   5   2      05   72.0  10.0  3.0\n",
       "11      23     70   5   2      06   71.0   5.0  2.0\n",
       "12      24     71   5   2      07   70.0   5.0  2.0\n",
       "13      25     72   5   2      08   70.0   5.0  2.0\n",
       "14      26     72   5   2     NaN    NaN   NaN  NaN"
      ]
     },
     "execution_count": 27,
     "metadata": {},
     "output_type": "execute_result"
    }
   ],
   "source": [
    "main.iloc[:,8:16]"
   ]
  },
  {
   "cell_type": "code",
   "execution_count": 28,
   "id": "d1881232",
   "metadata": {},
   "outputs": [
    {
     "data": {
      "text/html": [
       "<div>\n",
       "<style scoped>\n",
       "    .dataframe tbody tr th:only-of-type {\n",
       "        vertical-align: middle;\n",
       "    }\n",
       "\n",
       "    .dataframe tbody tr th {\n",
       "        vertical-align: top;\n",
       "    }\n",
       "\n",
       "    .dataframe thead th {\n",
       "        text-align: right;\n",
       "    }\n",
       "</style>\n",
       "<table border=\"1\" class=\"dataframe\">\n",
       "  <thead>\n",
       "    <tr style=\"text-align: right;\">\n",
       "      <th></th>\n",
       "      <th>Date</th>\n",
       "      <th>Radio</th>\n",
       "      <th>Ap</th>\n",
       "      <th>Kp</th>\n",
       "      <th>Date</th>\n",
       "      <th>Radio</th>\n",
       "      <th>Ap</th>\n",
       "      <th>Kp</th>\n",
       "    </tr>\n",
       "  </thead>\n",
       "  <tbody>\n",
       "    <tr>\n",
       "      <th>0</th>\n",
       "      <td>0</td>\n",
       "      <td>1</td>\n",
       "      <td>2</td>\n",
       "      <td>3</td>\n",
       "      <td>5</td>\n",
       "      <td>6.0</td>\n",
       "      <td>7.0</td>\n",
       "      <td>8.0</td>\n",
       "    </tr>\n",
       "    <tr>\n",
       "      <th>1</th>\n",
       "      <td>20 Jan</td>\n",
       "      <td>72</td>\n",
       "      <td>12</td>\n",
       "      <td>4</td>\n",
       "      <td>03 Feb</td>\n",
       "      <td>72.0</td>\n",
       "      <td>10.0</td>\n",
       "      <td>3.0</td>\n",
       "    </tr>\n",
       "    <tr>\n",
       "      <th>2</th>\n",
       "      <td>21</td>\n",
       "      <td>72</td>\n",
       "      <td>12</td>\n",
       "      <td>4</td>\n",
       "      <td>04</td>\n",
       "      <td>72.0</td>\n",
       "      <td>10.0</td>\n",
       "      <td>3.0</td>\n",
       "    </tr>\n",
       "    <tr>\n",
       "      <th>3</th>\n",
       "      <td>22</td>\n",
       "      <td>72</td>\n",
       "      <td>10</td>\n",
       "      <td>3</td>\n",
       "      <td>05</td>\n",
       "      <td>72.0</td>\n",
       "      <td>10.0</td>\n",
       "      <td>3.0</td>\n",
       "    </tr>\n",
       "    <tr>\n",
       "      <th>4</th>\n",
       "      <td>23</td>\n",
       "      <td>72</td>\n",
       "      <td>5</td>\n",
       "      <td>2</td>\n",
       "      <td>06</td>\n",
       "      <td>71.0</td>\n",
       "      <td>5.0</td>\n",
       "      <td>2.0</td>\n",
       "    </tr>\n",
       "    <tr>\n",
       "      <th>5</th>\n",
       "      <td>24</td>\n",
       "      <td>72</td>\n",
       "      <td>5</td>\n",
       "      <td>2</td>\n",
       "      <td>07</td>\n",
       "      <td>71.0</td>\n",
       "      <td>5.0</td>\n",
       "      <td>2.0</td>\n",
       "    </tr>\n",
       "    <tr>\n",
       "      <th>6</th>\n",
       "      <td>25</td>\n",
       "      <td>72</td>\n",
       "      <td>5</td>\n",
       "      <td>2</td>\n",
       "      <td>08</td>\n",
       "      <td>71.0</td>\n",
       "      <td>5.0</td>\n",
       "      <td>2.0</td>\n",
       "    </tr>\n",
       "    <tr>\n",
       "      <th>7</th>\n",
       "      <td>26</td>\n",
       "      <td>72</td>\n",
       "      <td>5</td>\n",
       "      <td>2</td>\n",
       "      <td>09</td>\n",
       "      <td>71.0</td>\n",
       "      <td>5.0</td>\n",
       "      <td>2.0</td>\n",
       "    </tr>\n",
       "    <tr>\n",
       "      <th>8</th>\n",
       "      <td>27</td>\n",
       "      <td>72</td>\n",
       "      <td>5</td>\n",
       "      <td>2</td>\n",
       "      <td>10</td>\n",
       "      <td>71.0</td>\n",
       "      <td>5.0</td>\n",
       "      <td>2.0</td>\n",
       "    </tr>\n",
       "    <tr>\n",
       "      <th>9</th>\n",
       "      <td>28</td>\n",
       "      <td>72</td>\n",
       "      <td>5</td>\n",
       "      <td>2</td>\n",
       "      <td>11</td>\n",
       "      <td>71.0</td>\n",
       "      <td>5.0</td>\n",
       "      <td>2.0</td>\n",
       "    </tr>\n",
       "    <tr>\n",
       "      <th>10</th>\n",
       "      <td>29</td>\n",
       "      <td>72</td>\n",
       "      <td>5</td>\n",
       "      <td>2</td>\n",
       "      <td>12</td>\n",
       "      <td>71.0</td>\n",
       "      <td>5.0</td>\n",
       "      <td>2.0</td>\n",
       "    </tr>\n",
       "    <tr>\n",
       "      <th>11</th>\n",
       "      <td>30</td>\n",
       "      <td>72</td>\n",
       "      <td>5</td>\n",
       "      <td>2</td>\n",
       "      <td>13</td>\n",
       "      <td>71.0</td>\n",
       "      <td>5.0</td>\n",
       "      <td>2.0</td>\n",
       "    </tr>\n",
       "    <tr>\n",
       "      <th>12</th>\n",
       "      <td>31</td>\n",
       "      <td>72</td>\n",
       "      <td>5</td>\n",
       "      <td>2</td>\n",
       "      <td>14</td>\n",
       "      <td>71.0</td>\n",
       "      <td>5.0</td>\n",
       "      <td>2.0</td>\n",
       "    </tr>\n",
       "    <tr>\n",
       "      <th>13</th>\n",
       "      <td>01 Feb</td>\n",
       "      <td>72</td>\n",
       "      <td>10</td>\n",
       "      <td>3</td>\n",
       "      <td>15</td>\n",
       "      <td>71.0</td>\n",
       "      <td>5.0</td>\n",
       "      <td>2.0</td>\n",
       "    </tr>\n",
       "    <tr>\n",
       "      <th>14</th>\n",
       "      <td>02</td>\n",
       "      <td>72</td>\n",
       "      <td>10</td>\n",
       "      <td>3</td>\n",
       "      <td>NaN</td>\n",
       "      <td>NaN</td>\n",
       "      <td>NaN</td>\n",
       "      <td>NaN</td>\n",
       "    </tr>\n",
       "  </tbody>\n",
       "</table>\n",
       "</div>"
      ],
      "text/plain": [
       "      Date  Radio  Ap  Kp    Date  Radio    Ap   Kp\n",
       "0        0      1   2   3       5    6.0   7.0  8.0\n",
       "1   20 Jan     72  12   4  03 Feb   72.0  10.0  3.0\n",
       "2       21     72  12   4      04   72.0  10.0  3.0\n",
       "3       22     72  10   3      05   72.0  10.0  3.0\n",
       "4       23     72   5   2      06   71.0   5.0  2.0\n",
       "5       24     72   5   2      07   71.0   5.0  2.0\n",
       "6       25     72   5   2      08   71.0   5.0  2.0\n",
       "7       26     72   5   2      09   71.0   5.0  2.0\n",
       "8       27     72   5   2      10   71.0   5.0  2.0\n",
       "9       28     72   5   2      11   71.0   5.0  2.0\n",
       "10      29     72   5   2      12   71.0   5.0  2.0\n",
       "11      30     72   5   2      13   71.0   5.0  2.0\n",
       "12      31     72   5   2      14   71.0   5.0  2.0\n",
       "13  01 Feb     72  10   3      15   71.0   5.0  2.0\n",
       "14      02     72  10   3     NaN    NaN   NaN  NaN"
      ]
     },
     "execution_count": 28,
     "metadata": {},
     "output_type": "execute_result"
    }
   ],
   "source": [
    "main.iloc[:,16:24]"
   ]
  },
  {
   "cell_type": "markdown",
   "id": "03b958e6",
   "metadata": {},
   "source": [
    "Starting with col9, all values in row0 should be set to Nan. All these values should be replaced with NaN. They are erroneous."
   ]
  },
  {
   "cell_type": "code",
   "execution_count": 29,
   "id": "ee8352f0",
   "metadata": {},
   "outputs": [
    {
     "data": {
      "text/html": [
       "<div>\n",
       "<style scoped>\n",
       "    .dataframe tbody tr th:only-of-type {\n",
       "        vertical-align: middle;\n",
       "    }\n",
       "\n",
       "    .dataframe tbody tr th {\n",
       "        vertical-align: top;\n",
       "    }\n",
       "\n",
       "    .dataframe thead th {\n",
       "        text-align: right;\n",
       "    }\n",
       "</style>\n",
       "<table border=\"1\" class=\"dataframe\">\n",
       "  <thead>\n",
       "    <tr style=\"text-align: right;\">\n",
       "      <th></th>\n",
       "      <th>Date</th>\n",
       "      <th>Radio</th>\n",
       "      <th>Ap</th>\n",
       "      <th>Kp</th>\n",
       "      <th>Date</th>\n",
       "      <th>Radio</th>\n",
       "      <th>Ap</th>\n",
       "      <th>Kp</th>\n",
       "      <th>Date</th>\n",
       "      <th>Radio</th>\n",
       "      <th>...</th>\n",
       "      <th>Ap</th>\n",
       "      <th>Kp</th>\n",
       "      <th>Date</th>\n",
       "      <th>Radio</th>\n",
       "      <th>Ap</th>\n",
       "      <th>Kp</th>\n",
       "      <th>Date</th>\n",
       "      <th>Radio</th>\n",
       "      <th>Ap</th>\n",
       "      <th>Kp</th>\n",
       "    </tr>\n",
       "  </thead>\n",
       "  <tbody>\n",
       "    <tr>\n",
       "      <th>0</th>\n",
       "      <td>0</td>\n",
       "      <td>1</td>\n",
       "      <td>2</td>\n",
       "      <td>3</td>\n",
       "      <td>5</td>\n",
       "      <td>6.0</td>\n",
       "      <td>7.0</td>\n",
       "      <td>8.0</td>\n",
       "      <td>0</td>\n",
       "      <td>1</td>\n",
       "      <td>...</td>\n",
       "      <td>7.0</td>\n",
       "      <td>8.0</td>\n",
       "      <td>0</td>\n",
       "      <td>1</td>\n",
       "      <td>2</td>\n",
       "      <td>3</td>\n",
       "      <td>5</td>\n",
       "      <td>6.0</td>\n",
       "      <td>7.0</td>\n",
       "      <td>8.0</td>\n",
       "    </tr>\n",
       "  </tbody>\n",
       "</table>\n",
       "<p>1 rows × 32 columns</p>\n",
       "</div>"
      ],
      "text/plain": [
       "  Date  Radio  Ap  Kp Date  Radio   Ap   Kp Date  Radio  ...   Ap   Kp Date  \\\n",
       "0    0      1   2   3    5    6.0  7.0  8.0    0      1  ...  7.0  8.0    0   \n",
       "\n",
       "   Radio  Ap  Kp Date  Radio   Ap   Kp  \n",
       "0      1   2   3    5    6.0  7.0  8.0  \n",
       "\n",
       "[1 rows x 32 columns]"
      ]
     },
     "execution_count": 29,
     "metadata": {},
     "output_type": "execute_result"
    }
   ],
   "source": [
    "main.iloc[:1,8:] "
   ]
  },
  {
   "cell_type": "code",
   "execution_count": 30,
   "id": "61accae7",
   "metadata": {},
   "outputs": [],
   "source": [
    "main.iloc[:1,8:] = np.nan"
   ]
  },
  {
   "cell_type": "code",
   "execution_count": 31,
   "id": "a54b2e4e",
   "metadata": {},
   "outputs": [
    {
     "data": {
      "text/html": [
       "<div>\n",
       "<style scoped>\n",
       "    .dataframe tbody tr th:only-of-type {\n",
       "        vertical-align: middle;\n",
       "    }\n",
       "\n",
       "    .dataframe tbody tr th {\n",
       "        vertical-align: top;\n",
       "    }\n",
       "\n",
       "    .dataframe thead th {\n",
       "        text-align: right;\n",
       "    }\n",
       "</style>\n",
       "<table border=\"1\" class=\"dataframe\">\n",
       "  <thead>\n",
       "    <tr style=\"text-align: right;\">\n",
       "      <th></th>\n",
       "      <th>Date</th>\n",
       "      <th>Radio</th>\n",
       "      <th>Ap</th>\n",
       "      <th>Kp</th>\n",
       "      <th>Date</th>\n",
       "      <th>Radio</th>\n",
       "      <th>Ap</th>\n",
       "      <th>Kp</th>\n",
       "      <th>Date</th>\n",
       "      <th>Radio</th>\n",
       "      <th>...</th>\n",
       "      <th>Ap</th>\n",
       "      <th>Kp</th>\n",
       "      <th>Date</th>\n",
       "      <th>Radio</th>\n",
       "      <th>Ap</th>\n",
       "      <th>Kp</th>\n",
       "      <th>Date</th>\n",
       "      <th>Radio</th>\n",
       "      <th>Ap</th>\n",
       "      <th>Kp</th>\n",
       "    </tr>\n",
       "  </thead>\n",
       "  <tbody>\n",
       "    <tr>\n",
       "      <th>0</th>\n",
       "      <td>06 Jan</td>\n",
       "      <td>72</td>\n",
       "      <td>12</td>\n",
       "      <td>4</td>\n",
       "      <td>20 Jan</td>\n",
       "      <td>70</td>\n",
       "      <td>5</td>\n",
       "      <td>2</td>\n",
       "      <td>NaN</td>\n",
       "      <td>NaN</td>\n",
       "      <td>...</td>\n",
       "      <td>NaN</td>\n",
       "      <td>NaN</td>\n",
       "      <td>NaN</td>\n",
       "      <td>NaN</td>\n",
       "      <td>NaN</td>\n",
       "      <td>NaN</td>\n",
       "      <td>NaN</td>\n",
       "      <td>NaN</td>\n",
       "      <td>NaN</td>\n",
       "      <td>NaN</td>\n",
       "    </tr>\n",
       "    <tr>\n",
       "      <th>1</th>\n",
       "      <td>7.0</td>\n",
       "      <td>72.0</td>\n",
       "      <td>5.0</td>\n",
       "      <td>2.0</td>\n",
       "      <td>21</td>\n",
       "      <td>70.0</td>\n",
       "      <td>5.0</td>\n",
       "      <td>2.0</td>\n",
       "      <td>13 Jan</td>\n",
       "      <td>71.0</td>\n",
       "      <td>...</td>\n",
       "      <td>5.0</td>\n",
       "      <td>2.0</td>\n",
       "      <td>03 Feb</td>\n",
       "      <td>70.0</td>\n",
       "      <td>5.0</td>\n",
       "      <td>2.0</td>\n",
       "      <td>17 Feb</td>\n",
       "      <td>72.0</td>\n",
       "      <td>5.0</td>\n",
       "      <td>2.0</td>\n",
       "    </tr>\n",
       "    <tr>\n",
       "      <th>2</th>\n",
       "      <td>8.0</td>\n",
       "      <td>72.0</td>\n",
       "      <td>8.0</td>\n",
       "      <td>3.0</td>\n",
       "      <td>22</td>\n",
       "      <td>70.0</td>\n",
       "      <td>5.0</td>\n",
       "      <td>2.0</td>\n",
       "      <td>14</td>\n",
       "      <td>70.0</td>\n",
       "      <td>...</td>\n",
       "      <td>5.0</td>\n",
       "      <td>2.0</td>\n",
       "      <td>04</td>\n",
       "      <td>70.0</td>\n",
       "      <td>5.0</td>\n",
       "      <td>2.0</td>\n",
       "      <td>18</td>\n",
       "      <td>72.0</td>\n",
       "      <td>5.0</td>\n",
       "      <td>2.0</td>\n",
       "    </tr>\n",
       "    <tr>\n",
       "      <th>3</th>\n",
       "      <td>9.0</td>\n",
       "      <td>72.0</td>\n",
       "      <td>8.0</td>\n",
       "      <td>3.0</td>\n",
       "      <td>23</td>\n",
       "      <td>70.0</td>\n",
       "      <td>5.0</td>\n",
       "      <td>2.0</td>\n",
       "      <td>15</td>\n",
       "      <td>70.0</td>\n",
       "      <td>...</td>\n",
       "      <td>5.0</td>\n",
       "      <td>2.0</td>\n",
       "      <td>05</td>\n",
       "      <td>70.0</td>\n",
       "      <td>5.0</td>\n",
       "      <td>2.0</td>\n",
       "      <td>19</td>\n",
       "      <td>72.0</td>\n",
       "      <td>5.0</td>\n",
       "      <td>2.0</td>\n",
       "    </tr>\n",
       "    <tr>\n",
       "      <th>4</th>\n",
       "      <td>10.0</td>\n",
       "      <td>72.0</td>\n",
       "      <td>8.0</td>\n",
       "      <td>3.0</td>\n",
       "      <td>24</td>\n",
       "      <td>70.0</td>\n",
       "      <td>5.0</td>\n",
       "      <td>2.0</td>\n",
       "      <td>16</td>\n",
       "      <td>70.0</td>\n",
       "      <td>...</td>\n",
       "      <td>5.0</td>\n",
       "      <td>2.0</td>\n",
       "      <td>06</td>\n",
       "      <td>70.0</td>\n",
       "      <td>12.0</td>\n",
       "      <td>4.0</td>\n",
       "      <td>20</td>\n",
       "      <td>72.0</td>\n",
       "      <td>5.0</td>\n",
       "      <td>2.0</td>\n",
       "    </tr>\n",
       "  </tbody>\n",
       "</table>\n",
       "<p>5 rows × 40 columns</p>\n",
       "</div>"
      ],
      "text/plain": [
       "     Date  Radio   Ap   Kp    Date  Radio   Ap   Kp    Date  Radio  ...   Ap  \\\n",
       "0  06 Jan     72   12    4  20 Jan     70    5    2     NaN    NaN  ...  NaN   \n",
       "1     7.0   72.0  5.0  2.0      21   70.0  5.0  2.0  13 Jan   71.0  ...  5.0   \n",
       "2     8.0   72.0  8.0  3.0      22   70.0  5.0  2.0      14   70.0  ...  5.0   \n",
       "3     9.0   72.0  8.0  3.0      23   70.0  5.0  2.0      15   70.0  ...  5.0   \n",
       "4    10.0   72.0  8.0  3.0      24   70.0  5.0  2.0      16   70.0  ...  5.0   \n",
       "\n",
       "    Kp    Date  Radio    Ap   Kp    Date  Radio   Ap   Kp  \n",
       "0  NaN     NaN    NaN   NaN  NaN     NaN    NaN  NaN  NaN  \n",
       "1  2.0  03 Feb   70.0   5.0  2.0  17 Feb   72.0  5.0  2.0  \n",
       "2  2.0      04   70.0   5.0  2.0      18   72.0  5.0  2.0  \n",
       "3  2.0      05   70.0   5.0  2.0      19   72.0  5.0  2.0  \n",
       "4  2.0      06   70.0  12.0  4.0      20   72.0  5.0  2.0  \n",
       "\n",
       "[5 rows x 40 columns]"
      ]
     },
     "execution_count": 31,
     "metadata": {},
     "output_type": "execute_result"
    }
   ],
   "source": [
    "main.head()"
   ]
  },
  {
   "cell_type": "markdown",
   "id": "1652fa5e",
   "metadata": {},
   "source": [
    "<h3>Cleaning up dates</h3>"
   ]
  },
  {
   "cell_type": "markdown",
   "id": "db9967c0",
   "metadata": {},
   "source": [
    "The dates present a problem, since only the first date is printed, followed by the day only, until the next col or if the month changes before then."
   ]
  },
  {
   "cell_type": "code",
   "execution_count": 32,
   "id": "83ac0d30",
   "metadata": {},
   "outputs": [
    {
     "data": {
      "text/html": [
       "<div>\n",
       "<style scoped>\n",
       "    .dataframe tbody tr th:only-of-type {\n",
       "        vertical-align: middle;\n",
       "    }\n",
       "\n",
       "    .dataframe tbody tr th {\n",
       "        vertical-align: top;\n",
       "    }\n",
       "\n",
       "    .dataframe thead th {\n",
       "        text-align: right;\n",
       "    }\n",
       "</style>\n",
       "<table border=\"1\" class=\"dataframe\">\n",
       "  <thead>\n",
       "    <tr style=\"text-align: right;\">\n",
       "      <th></th>\n",
       "      <th>Date</th>\n",
       "      <th>Date</th>\n",
       "      <th>Date</th>\n",
       "      <th>Date</th>\n",
       "      <th>Date</th>\n",
       "      <th>Date</th>\n",
       "      <th>Date</th>\n",
       "      <th>Date</th>\n",
       "      <th>Date</th>\n",
       "      <th>Date</th>\n",
       "    </tr>\n",
       "  </thead>\n",
       "  <tbody>\n",
       "    <tr>\n",
       "      <th>0</th>\n",
       "      <td>06 Jan</td>\n",
       "      <td>20 Jan</td>\n",
       "      <td>NaN</td>\n",
       "      <td>NaN</td>\n",
       "      <td>NaN</td>\n",
       "      <td>NaN</td>\n",
       "      <td>NaN</td>\n",
       "      <td>NaN</td>\n",
       "      <td>NaN</td>\n",
       "      <td>NaN</td>\n",
       "    </tr>\n",
       "    <tr>\n",
       "      <th>1</th>\n",
       "      <td>7.0</td>\n",
       "      <td>21</td>\n",
       "      <td>13 Jan</td>\n",
       "      <td>27 Jan</td>\n",
       "      <td>20 Jan</td>\n",
       "      <td>03 Feb</td>\n",
       "      <td>27 Jan</td>\n",
       "      <td>10 Feb</td>\n",
       "      <td>03 Feb</td>\n",
       "      <td>17 Feb</td>\n",
       "    </tr>\n",
       "    <tr>\n",
       "      <th>2</th>\n",
       "      <td>8.0</td>\n",
       "      <td>22</td>\n",
       "      <td>14</td>\n",
       "      <td>28</td>\n",
       "      <td>21</td>\n",
       "      <td>04</td>\n",
       "      <td>28</td>\n",
       "      <td>11</td>\n",
       "      <td>04</td>\n",
       "      <td>18</td>\n",
       "    </tr>\n",
       "    <tr>\n",
       "      <th>3</th>\n",
       "      <td>9.0</td>\n",
       "      <td>23</td>\n",
       "      <td>15</td>\n",
       "      <td>29</td>\n",
       "      <td>22</td>\n",
       "      <td>05</td>\n",
       "      <td>29</td>\n",
       "      <td>12</td>\n",
       "      <td>05</td>\n",
       "      <td>19</td>\n",
       "    </tr>\n",
       "    <tr>\n",
       "      <th>4</th>\n",
       "      <td>10.0</td>\n",
       "      <td>24</td>\n",
       "      <td>16</td>\n",
       "      <td>30</td>\n",
       "      <td>23</td>\n",
       "      <td>06</td>\n",
       "      <td>30</td>\n",
       "      <td>13</td>\n",
       "      <td>06</td>\n",
       "      <td>20</td>\n",
       "    </tr>\n",
       "    <tr>\n",
       "      <th>5</th>\n",
       "      <td>11.0</td>\n",
       "      <td>25</td>\n",
       "      <td>17</td>\n",
       "      <td>31</td>\n",
       "      <td>24</td>\n",
       "      <td>07</td>\n",
       "      <td>31</td>\n",
       "      <td>14</td>\n",
       "      <td>07</td>\n",
       "      <td>21</td>\n",
       "    </tr>\n",
       "    <tr>\n",
       "      <th>6</th>\n",
       "      <td>12.0</td>\n",
       "      <td>26</td>\n",
       "      <td>18</td>\n",
       "      <td>01 Feb</td>\n",
       "      <td>25</td>\n",
       "      <td>08</td>\n",
       "      <td>01 Feb</td>\n",
       "      <td>15</td>\n",
       "      <td>08</td>\n",
       "      <td>22</td>\n",
       "    </tr>\n",
       "    <tr>\n",
       "      <th>7</th>\n",
       "      <td>13.0</td>\n",
       "      <td>27</td>\n",
       "      <td>19</td>\n",
       "      <td>02</td>\n",
       "      <td>26</td>\n",
       "      <td>09</td>\n",
       "      <td>02</td>\n",
       "      <td>16</td>\n",
       "      <td>09</td>\n",
       "      <td>23</td>\n",
       "    </tr>\n",
       "    <tr>\n",
       "      <th>8</th>\n",
       "      <td>14.0</td>\n",
       "      <td>28</td>\n",
       "      <td>20</td>\n",
       "      <td>03</td>\n",
       "      <td>27</td>\n",
       "      <td>10</td>\n",
       "      <td>03</td>\n",
       "      <td>17</td>\n",
       "      <td>10</td>\n",
       "      <td>24</td>\n",
       "    </tr>\n",
       "    <tr>\n",
       "      <th>9</th>\n",
       "      <td>15.0</td>\n",
       "      <td>29</td>\n",
       "      <td>21</td>\n",
       "      <td>04</td>\n",
       "      <td>28</td>\n",
       "      <td>11</td>\n",
       "      <td>04</td>\n",
       "      <td>18</td>\n",
       "      <td>11</td>\n",
       "      <td>25</td>\n",
       "    </tr>\n",
       "    <tr>\n",
       "      <th>10</th>\n",
       "      <td>16.0</td>\n",
       "      <td>30</td>\n",
       "      <td>22</td>\n",
       "      <td>05</td>\n",
       "      <td>29</td>\n",
       "      <td>12</td>\n",
       "      <td>05</td>\n",
       "      <td>19</td>\n",
       "      <td>12</td>\n",
       "      <td>26</td>\n",
       "    </tr>\n",
       "    <tr>\n",
       "      <th>11</th>\n",
       "      <td>17.0</td>\n",
       "      <td>31</td>\n",
       "      <td>23</td>\n",
       "      <td>06</td>\n",
       "      <td>30</td>\n",
       "      <td>13</td>\n",
       "      <td>06</td>\n",
       "      <td>20</td>\n",
       "      <td>13</td>\n",
       "      <td>27</td>\n",
       "    </tr>\n",
       "    <tr>\n",
       "      <th>12</th>\n",
       "      <td>18.0</td>\n",
       "      <td>01 Feb</td>\n",
       "      <td>24</td>\n",
       "      <td>07</td>\n",
       "      <td>31</td>\n",
       "      <td>14</td>\n",
       "      <td>07</td>\n",
       "      <td>21</td>\n",
       "      <td>14</td>\n",
       "      <td>28</td>\n",
       "    </tr>\n",
       "    <tr>\n",
       "      <th>13</th>\n",
       "      <td>19.0</td>\n",
       "      <td>NaN</td>\n",
       "      <td>25</td>\n",
       "      <td>08</td>\n",
       "      <td>01 Feb</td>\n",
       "      <td>15</td>\n",
       "      <td>08</td>\n",
       "      <td>22</td>\n",
       "      <td>15</td>\n",
       "      <td>29</td>\n",
       "    </tr>\n",
       "    <tr>\n",
       "      <th>14</th>\n",
       "      <td>NaN</td>\n",
       "      <td>NaN</td>\n",
       "      <td>26</td>\n",
       "      <td>NaN</td>\n",
       "      <td>02</td>\n",
       "      <td>NaN</td>\n",
       "      <td>09</td>\n",
       "      <td>NaN</td>\n",
       "      <td>16</td>\n",
       "      <td>NaN</td>\n",
       "    </tr>\n",
       "  </tbody>\n",
       "</table>\n",
       "</div>"
      ],
      "text/plain": [
       "      Date    Date    Date    Date    Date    Date    Date    Date    Date  \\\n",
       "0   06 Jan  20 Jan     NaN     NaN     NaN     NaN     NaN     NaN     NaN   \n",
       "1      7.0      21  13 Jan  27 Jan  20 Jan  03 Feb  27 Jan  10 Feb  03 Feb   \n",
       "2      8.0      22      14      28      21      04      28      11      04   \n",
       "3      9.0      23      15      29      22      05      29      12      05   \n",
       "4     10.0      24      16      30      23      06      30      13      06   \n",
       "5     11.0      25      17      31      24      07      31      14      07   \n",
       "6     12.0      26      18  01 Feb      25      08  01 Feb      15      08   \n",
       "7     13.0      27      19      02      26      09      02      16      09   \n",
       "8     14.0      28      20      03      27      10      03      17      10   \n",
       "9     15.0      29      21      04      28      11      04      18      11   \n",
       "10    16.0      30      22      05      29      12      05      19      12   \n",
       "11    17.0      31      23      06      30      13      06      20      13   \n",
       "12    18.0  01 Feb      24      07      31      14      07      21      14   \n",
       "13    19.0     NaN      25      08  01 Feb      15      08      22      15   \n",
       "14     NaN     NaN      26     NaN      02     NaN      09     NaN      16   \n",
       "\n",
       "      Date  \n",
       "0      NaN  \n",
       "1   17 Feb  \n",
       "2       18  \n",
       "3       19  \n",
       "4       20  \n",
       "5       21  \n",
       "6       22  \n",
       "7       23  \n",
       "8       24  \n",
       "9       25  \n",
       "10      26  \n",
       "11      27  \n",
       "12      28  \n",
       "13      29  \n",
       "14     NaN  "
      ]
     },
     "execution_count": 32,
     "metadata": {},
     "output_type": "execute_result"
    }
   ],
   "source": [
    "main['Date']"
   ]
  },
  {
   "cell_type": "markdown",
   "id": "dc229356",
   "metadata": {},
   "source": [
    "In the first forecast, the start date is row0, col1"
   ]
  },
  {
   "cell_type": "code",
   "execution_count": 33,
   "id": "499740f9",
   "metadata": {},
   "outputs": [
    {
     "data": {
      "text/html": [
       "<div>\n",
       "<style scoped>\n",
       "    .dataframe tbody tr th:only-of-type {\n",
       "        vertical-align: middle;\n",
       "    }\n",
       "\n",
       "    .dataframe tbody tr th {\n",
       "        vertical-align: top;\n",
       "    }\n",
       "\n",
       "    .dataframe thead th {\n",
       "        text-align: right;\n",
       "    }\n",
       "</style>\n",
       "<table border=\"1\" class=\"dataframe\">\n",
       "  <thead>\n",
       "    <tr style=\"text-align: right;\">\n",
       "      <th></th>\n",
       "      <th>Date</th>\n",
       "    </tr>\n",
       "  </thead>\n",
       "  <tbody>\n",
       "    <tr>\n",
       "      <th>0</th>\n",
       "      <td>06 Jan</td>\n",
       "    </tr>\n",
       "  </tbody>\n",
       "</table>\n",
       "</div>"
      ],
      "text/plain": [
       "     Date\n",
       "0  06 Jan"
      ]
     },
     "execution_count": 33,
     "metadata": {},
     "output_type": "execute_result"
    }
   ],
   "source": [
    "c1 = main['Date'].iloc[0:1,:1]\n",
    "c1"
   ]
  },
  {
   "cell_type": "markdown",
   "id": "4d18abf2",
   "metadata": {},
   "source": [
    "In the second forecast, and all following, the start date is row1, co12, col4, col6, etc."
   ]
  },
  {
   "cell_type": "code",
   "execution_count": 34,
   "id": "07b7c6ff",
   "metadata": {},
   "outputs": [
    {
     "data": {
      "text/html": [
       "<div>\n",
       "<style scoped>\n",
       "    .dataframe tbody tr th:only-of-type {\n",
       "        vertical-align: middle;\n",
       "    }\n",
       "\n",
       "    .dataframe tbody tr th {\n",
       "        vertical-align: top;\n",
       "    }\n",
       "\n",
       "    .dataframe thead th {\n",
       "        text-align: right;\n",
       "    }\n",
       "</style>\n",
       "<table border=\"1\" class=\"dataframe\">\n",
       "  <thead>\n",
       "    <tr style=\"text-align: right;\">\n",
       "      <th></th>\n",
       "      <th>Date</th>\n",
       "    </tr>\n",
       "  </thead>\n",
       "  <tbody>\n",
       "    <tr>\n",
       "      <th>1</th>\n",
       "      <td>13 Jan</td>\n",
       "    </tr>\n",
       "  </tbody>\n",
       "</table>\n",
       "</div>"
      ],
      "text/plain": [
       "     Date\n",
       "1  13 Jan"
      ]
     },
     "execution_count": 34,
     "metadata": {},
     "output_type": "execute_result"
    }
   ],
   "source": [
    "d1 = main['Date'].iloc[1:2,2:3]\n",
    "d1"
   ]
  },
  {
   "cell_type": "markdown",
   "id": "e3cb8b6f",
   "metadata": {},
   "source": [
    "<h3>Building a new df with dates and F10 forecasts</h3>"
   ]
  },
  {
   "cell_type": "markdown",
   "id": "a0e5b62e",
   "metadata": {},
   "source": [
    "In order to avoid some tricky programming to fill in the table, the approach will be to populate 27 days lists beginning with the start time of each forecast. "
   ]
  },
  {
   "cell_type": "markdown",
   "id": "d02b012f",
   "metadata": {},
   "source": [
    "<h4>Extracting start times</h4>"
   ]
  },
  {
   "cell_type": "code",
   "execution_count": 35,
   "id": "56390550",
   "metadata": {},
   "outputs": [
    {
     "data": {
      "text/html": [
       "<div>\n",
       "<style scoped>\n",
       "    .dataframe tbody tr th:only-of-type {\n",
       "        vertical-align: middle;\n",
       "    }\n",
       "\n",
       "    .dataframe tbody tr th {\n",
       "        vertical-align: top;\n",
       "    }\n",
       "\n",
       "    .dataframe thead th {\n",
       "        text-align: right;\n",
       "    }\n",
       "</style>\n",
       "<table border=\"1\" class=\"dataframe\">\n",
       "  <thead>\n",
       "    <tr style=\"text-align: right;\">\n",
       "      <th></th>\n",
       "      <th>Date</th>\n",
       "    </tr>\n",
       "  </thead>\n",
       "  <tbody>\n",
       "    <tr>\n",
       "      <th>0</th>\n",
       "      <td>06 Jan</td>\n",
       "    </tr>\n",
       "  </tbody>\n",
       "</table>\n",
       "</div>"
      ],
      "text/plain": [
       "     Date\n",
       "0  06 Jan"
      ]
     },
     "execution_count": 35,
     "metadata": {},
     "output_type": "execute_result"
    }
   ],
   "source": [
    "c2 = pd.DataFrame(data=c1)\n",
    "c2"
   ]
  },
  {
   "cell_type": "code",
   "execution_count": 36,
   "id": "9af7006b",
   "metadata": {},
   "outputs": [
    {
     "data": {
      "text/plain": [
       "['06 Jan']"
      ]
     },
     "execution_count": 36,
     "metadata": {},
     "output_type": "execute_result"
    }
   ],
   "source": [
    "c2_ls = c2['Date'].tolist()\n",
    "c2_ls"
   ]
  },
  {
   "cell_type": "code",
   "execution_count": 37,
   "id": "8d19aee8",
   "metadata": {},
   "outputs": [
    {
     "data": {
      "text/plain": [
       "['06 Jan', '2020']"
      ]
     },
     "execution_count": 37,
     "metadata": {},
     "output_type": "execute_result"
    }
   ],
   "source": [
    "c2_ls.append('2020')\n",
    "c2_ls"
   ]
  },
  {
   "cell_type": "code",
   "execution_count": 38,
   "id": "131d9487",
   "metadata": {},
   "outputs": [
    {
     "data": {
      "text/plain": [
       "'06 Jan 2020'"
      ]
     },
     "execution_count": 38,
     "metadata": {},
     "output_type": "execute_result"
    }
   ],
   "source": [
    "start = c2_ls[0] + ' ' + c2_ls[1]\n",
    "start"
   ]
  },
  {
   "cell_type": "code",
   "execution_count": 39,
   "id": "5c84c2b9",
   "metadata": {},
   "outputs": [],
   "source": [
    "format ='%d %b %Y'\n",
    "dt = datetime.strptime(start, format).date() #start date"
   ]
  },
  {
   "cell_type": "code",
   "execution_count": 40,
   "id": "b3a9bba8",
   "metadata": {},
   "outputs": [
    {
     "data": {
      "text/plain": [
       "['06 Jan 2020',\n",
       " '07 Jan 2020',\n",
       " '08 Jan 2020',\n",
       " '09 Jan 2020',\n",
       " '10 Jan 2020',\n",
       " '11 Jan 2020',\n",
       " '12 Jan 2020',\n",
       " '13 Jan 2020',\n",
       " '14 Jan 2020',\n",
       " '15 Jan 2020',\n",
       " '16 Jan 2020',\n",
       " '17 Jan 2020',\n",
       " '18 Jan 2020',\n",
       " '19 Jan 2020',\n",
       " '20 Jan 2020',\n",
       " '21 Jan 2020',\n",
       " '22 Jan 2020',\n",
       " '23 Jan 2020',\n",
       " '24 Jan 2020',\n",
       " '25 Jan 2020',\n",
       " '26 Jan 2020',\n",
       " '27 Jan 2020',\n",
       " '28 Jan 2020',\n",
       " '29 Jan 2020',\n",
       " '30 Jan 2020',\n",
       " '31 Jan 2020',\n",
       " '01 Feb 2020']"
      ]
     },
     "execution_count": 40,
     "metadata": {},
     "output_type": "execute_result"
    }
   ],
   "source": [
    "k = 27\n",
    " \n",
    "res = []\n",
    " \n",
    "for day in range(k):\n",
    "    date = (dt + timedelta(days = day))\n",
    "    date = date.strftime('%d %b %Y')\n",
    "    res.append(date)\n",
    "res"
   ]
  },
  {
   "cell_type": "markdown",
   "id": "1eb65419",
   "metadata": {},
   "source": [
    "<h4>Using Regex to find entries with months in dataframe</h4>"
   ]
  },
  {
   "cell_type": "code",
   "execution_count": 41,
   "id": "14e1da3b",
   "metadata": {},
   "outputs": [],
   "source": [
    "import re"
   ]
  },
  {
   "cell_type": "code",
   "execution_count": 42,
   "id": "8b2a5b65",
   "metadata": {},
   "outputs": [],
   "source": [
    "from re import match"
   ]
  },
  {
   "cell_type": "code",
   "execution_count": 43,
   "id": "a14935f8",
   "metadata": {},
   "outputs": [
    {
     "data": {
      "text/plain": [
       "[['06 Jan'],\n",
       " [7.0],\n",
       " [8.0],\n",
       " [9.0],\n",
       " [10.0],\n",
       " [11.0],\n",
       " [12.0],\n",
       " [13.0],\n",
       " [14.0],\n",
       " [15.0],\n",
       " [16.0],\n",
       " [17.0],\n",
       " [18.0],\n",
       " [19.0],\n",
       " [nan]]"
      ]
     },
     "execution_count": 43,
     "metadata": {},
     "output_type": "execute_result"
    }
   ],
   "source": [
    "ls = main['Date'].iloc[:,0:1].values.tolist()\n",
    "ls"
   ]
  },
  {
   "cell_type": "code",
   "execution_count": 44,
   "id": "1a4d6b26",
   "metadata": {},
   "outputs": [
    {
     "data": {
      "text/plain": [
       "'((\\\\d+) [a-zA-Z]+)'"
      ]
     },
     "execution_count": 44,
     "metadata": {},
     "output_type": "execute_result"
    }
   ],
   "source": [
    "regex = r\"((\\d+) [a-zA-Z]+)\" # matches day and 3-digit month df\n",
    "regex"
   ]
  },
  {
   "cell_type": "code",
   "execution_count": 45,
   "id": "88c09d26",
   "metadata": {},
   "outputs": [],
   "source": [
    "flat_list1 = [item for sublist in ls for item in sublist]"
   ]
  },
  {
   "cell_type": "code",
   "execution_count": 46,
   "id": "a942c57b",
   "metadata": {},
   "outputs": [],
   "source": [
    "new_list = [item for item in flat_list1 if not(pd.isnull(item)) == True] # removing nan in list"
   ]
  },
  {
   "cell_type": "code",
   "execution_count": 47,
   "id": "147ee0a5",
   "metadata": {},
   "outputs": [
    {
     "data": {
      "text/plain": [
       "['06 Jan',\n",
       " '7.0',\n",
       " '8.0',\n",
       " '9.0',\n",
       " '10.0',\n",
       " '11.0',\n",
       " '12.0',\n",
       " '13.0',\n",
       " '14.0',\n",
       " '15.0',\n",
       " '16.0',\n",
       " '17.0',\n",
       " '18.0',\n",
       " '19.0']"
      ]
     },
     "execution_count": 47,
     "metadata": {},
     "output_type": "execute_result"
    }
   ],
   "source": [
    "new_list1 = [str(i) for i in new_list] # converting each element to a string\n",
    "new_list1"
   ]
  },
  {
   "cell_type": "code",
   "execution_count": 48,
   "id": "6ba1e189",
   "metadata": {
    "scrolled": true
   },
   "outputs": [
    {
     "data": {
      "text/plain": [
       "['06 Jan']"
      ]
     },
     "execution_count": 48,
     "metadata": {},
     "output_type": "execute_result"
    }
   ],
   "source": [
    "e =list(filter(lambda x: match(regex, x), new_list1))\n",
    "e"
   ]
  },
  {
   "cell_type": "code",
   "execution_count": 49,
   "id": "d29026e4",
   "metadata": {},
   "outputs": [
    {
     "data": {
      "text/plain": [
       "['06 Jan', '2020']"
      ]
     },
     "execution_count": 49,
     "metadata": {},
     "output_type": "execute_result"
    }
   ],
   "source": [
    "e.append('2020')\n",
    "e"
   ]
  },
  {
   "cell_type": "code",
   "execution_count": 50,
   "id": "788cadea",
   "metadata": {},
   "outputs": [
    {
     "data": {
      "text/plain": [
       "'06 Jan 2020'"
      ]
     },
     "execution_count": 50,
     "metadata": {},
     "output_type": "execute_result"
    }
   ],
   "source": [
    "start = e[0] + ' ' + e[1]\n",
    "start"
   ]
  },
  {
   "cell_type": "code",
   "execution_count": 51,
   "id": "c889cd4b",
   "metadata": {},
   "outputs": [],
   "source": [
    "format ='%d %b %Y'\n",
    "dt = datetime.strptime(start, format).date() #start date"
   ]
  },
  {
   "cell_type": "markdown",
   "id": "4a7f6faa",
   "metadata": {},
   "source": [
    "<h4>With initial start date, populating 1st forecast dates</h4>"
   ]
  },
  {
   "cell_type": "code",
   "execution_count": 52,
   "id": "ee9037cf",
   "metadata": {},
   "outputs": [
    {
     "data": {
      "text/plain": [
       "['06 Jan 2020', '07 Jan 2020', '08 Jan 2020', '09 Jan 2020', '10 Jan 2020']"
      ]
     },
     "execution_count": 52,
     "metadata": {},
     "output_type": "execute_result"
    }
   ],
   "source": [
    "k = 27\n",
    " \n",
    "res = []\n",
    " \n",
    "for day in range(k):\n",
    "    date = (dt + timedelta(days = day))\n",
    "    date = date.strftime('%d %b %Y')\n",
    "    res.append(date)\n",
    "res[:5]"
   ]
  },
  {
   "cell_type": "markdown",
   "id": "8fb0119f",
   "metadata": {},
   "source": [
    "So need to extract each forecast's start date"
   ]
  },
  {
   "cell_type": "code",
   "execution_count": 53,
   "id": "0aa3f763",
   "metadata": {},
   "outputs": [
    {
     "data": {
      "text/plain": [
       "['06 Jan 2020', '07 Jan 2020', '08 Jan 2020', '09 Jan 2020', '10 Jan 2020']"
      ]
     },
     "execution_count": 53,
     "metadata": {},
     "output_type": "execute_result"
    }
   ],
   "source": [
    "k = 27\n",
    " \n",
    "date1 = []\n",
    " \n",
    "for day in range(k):\n",
    "    date = (dt + timedelta(days = day))\n",
    "    date = date.strftime('%d %b %Y')\n",
    "    date1.append(date)\n",
    "date1[:5]"
   ]
  },
  {
   "cell_type": "code",
   "execution_count": 54,
   "id": "470fa100",
   "metadata": {},
   "outputs": [
    {
     "data": {
      "text/plain": [
       "'06 Jan 2020'"
      ]
     },
     "execution_count": 54,
     "metadata": {},
     "output_type": "execute_result"
    }
   ],
   "source": [
    "begin = date1[0]\n",
    "begin"
   ]
  },
  {
   "cell_type": "code",
   "execution_count": 55,
   "id": "6d74e019",
   "metadata": {
    "scrolled": true
   },
   "outputs": [
    {
     "data": {
      "text/plain": [
       "datetime.datetime(2020, 1, 6, 0, 0)"
      ]
     },
     "execution_count": 55,
     "metadata": {},
     "output_type": "execute_result"
    }
   ],
   "source": [
    "Begindate = datetime.strptime(begin, \"%d %b %Y\")\n",
    "Begindate"
   ]
  },
  {
   "cell_type": "markdown",
   "id": "893cccf0",
   "metadata": {},
   "source": [
    "<h4>Manually calculating forecast start times from pattern</h4>"
   ]
  },
  {
   "cell_type": "markdown",
   "id": "88823814",
   "metadata": {},
   "source": [
    "Pattern: Each successive forecast increases by 7 days from the previous forecast or n times 7 from the first forecast where n is the number of forecasts from the first."
   ]
  },
  {
   "cell_type": "code",
   "execution_count": 56,
   "id": "d95c37be",
   "metadata": {},
   "outputs": [
    {
     "data": {
      "text/plain": [
       "datetime.datetime(2020, 1, 13, 0, 0)"
      ]
     },
     "execution_count": 56,
     "metadata": {},
     "output_type": "execute_result"
    }
   ],
   "source": [
    "Begindate2 = Begindate + timedelta(days=7)\n",
    "Begindate2"
   ]
  },
  {
   "cell_type": "code",
   "execution_count": 57,
   "id": "9f394e13",
   "metadata": {},
   "outputs": [
    {
     "data": {
      "text/plain": [
       "datetime.datetime(2020, 1, 20, 0, 0)"
      ]
     },
     "execution_count": 57,
     "metadata": {},
     "output_type": "execute_result"
    }
   ],
   "source": [
    "Begindate3 = Begindate + timedelta(days=14)\n",
    "Begindate3"
   ]
  },
  {
   "cell_type": "code",
   "execution_count": 58,
   "id": "b59b6c24",
   "metadata": {},
   "outputs": [
    {
     "data": {
      "text/plain": [
       "datetime.datetime(2020, 1, 27, 0, 0)"
      ]
     },
     "execution_count": 58,
     "metadata": {},
     "output_type": "execute_result"
    }
   ],
   "source": [
    "Begindate4 = Begindate + timedelta(days=21)\n",
    "Begindate4"
   ]
  },
  {
   "cell_type": "code",
   "execution_count": 59,
   "id": "744fa810",
   "metadata": {},
   "outputs": [
    {
     "data": {
      "text/plain": [
       "datetime.datetime(2020, 2, 3, 0, 0)"
      ]
     },
     "execution_count": 59,
     "metadata": {},
     "output_type": "execute_result"
    }
   ],
   "source": [
    "Begindate5 = Begindate + timedelta(days=28)\n",
    "Begindate5"
   ]
  },
  {
   "cell_type": "markdown",
   "id": "20b70e0c",
   "metadata": {},
   "source": [
    "<h4> Automatically calculating start times for n forecasts</h4>"
   ]
  },
  {
   "cell_type": "code",
   "execution_count": 60,
   "id": "6c6ce4a3",
   "metadata": {},
   "outputs": [
    {
     "name": "stdout",
     "output_type": "stream",
     "text": [
      "2020-01-13 00:00:00\n",
      "2020-01-20 00:00:00\n",
      "2020-01-27 00:00:00\n",
      "2020-02-03 00:00:00\n"
     ]
    }
   ],
   "source": [
    "#iterate the number of forecasts\n",
    "Begindate = datetime.strptime(begin, \"%d %b %Y\")\n",
    "mult = list(range(0,num_pdfs*7,7))\n",
    "mult = mult[1:]\n",
    "\n",
    "for j in mult: #multiples of 7 starting with 7\n",
    "    x = Begindate + timedelta(days=j)\n",
    "    print(x)"
   ]
  },
  {
   "cell_type": "code",
   "execution_count": 61,
   "id": "7175ef59",
   "metadata": {},
   "outputs": [],
   "source": [
    "#iterate the number of forecasts\n",
    "Begindate = datetime.strptime(begin, \"%d %b %Y\")\n",
    "mult = list(range(0,num_pdfs*7,7)) #multiples of 7 \n",
    "mult = mult[1:] #multiples of 7 starting with 7\n",
    "\n",
    "ls=[]\n",
    "\n",
    "for j in mult:\n",
    "    x = Begindate + timedelta(days=j)\n",
    "    ls.append(x)"
   ]
  },
  {
   "cell_type": "markdown",
   "id": "7af4c4db",
   "metadata": {},
   "source": [
    "<h4>List of dates corresponding to 2nd forecast</h4>"
   ]
  },
  {
   "cell_type": "code",
   "execution_count": 62,
   "id": "9f1c42c7",
   "metadata": {},
   "outputs": [],
   "source": [
    "k = 27\n",
    " \n",
    "res = []\n",
    " \n",
    "for day in range(k):\n",
    "    date = (ls[0] + timedelta(days = day))\n",
    "    date = date.strftime('%d %b %Y')\n",
    "    res.append(date)"
   ]
  },
  {
   "cell_type": "markdown",
   "id": "47d3b708",
   "metadata": {},
   "source": [
    "<h4>List of dates corresponding to 3rd forecast</h4>"
   ]
  },
  {
   "cell_type": "code",
   "execution_count": 63,
   "id": "21b5d1da",
   "metadata": {},
   "outputs": [],
   "source": [
    "k = 27\n",
    " \n",
    "res = []\n",
    " \n",
    "for day in range(k):\n",
    "    date = (ls[1] + timedelta(days = day))\n",
    "    date = date.strftime('%d %b %Y')\n",
    "    res.append(date)"
   ]
  },
  {
   "cell_type": "markdown",
   "id": "50e062c9",
   "metadata": {},
   "source": [
    "<h4> Manually compiling all forecast dates into a list</h4>"
   ]
  },
  {
   "cell_type": "code",
   "execution_count": 64,
   "id": "b3d0e4be",
   "metadata": {},
   "outputs": [],
   "source": [
    "k = 27\n",
    " \n",
    "res = []\n",
    "\n",
    "format ='%d %b %Y'\n",
    "dt = datetime.strptime(start, format).date() \n",
    " \n",
    "for day in range(k):\n",
    "    date = (dt + timedelta(days = day))\n",
    "    date = date.strftime('%d %b %Y')\n",
    "    res.append(date)\n",
    "    \n",
    "res\n",
    " \n",
    "for day in range(k):\n",
    "    date = (ls[0] + timedelta(days = day))\n",
    "    date = date.strftime('%d %b %Y')\n",
    "    res.append(date)\n",
    "res\n",
    "\n",
    "\n",
    "for day in range(k):\n",
    "    date = (ls[1] + timedelta(days = day))\n",
    "    date = date.strftime('%d %b %Y')\n",
    "    res.append(date)\n",
    "res\n",
    "\n",
    "for day in range(k):\n",
    "    date = (ls[2] + timedelta(days = day))\n",
    "    date = date.strftime('%d %b %Y')\n",
    "    res.append(date)\n",
    "res\n",
    "\n",
    "for day in range(k):\n",
    "    date = (ls[3] + timedelta(days = day))\n",
    "    date = date.strftime('%d %b %Y')\n",
    "    res.append(date)"
   ]
  },
  {
   "cell_type": "code",
   "execution_count": 65,
   "id": "8c056957",
   "metadata": {},
   "outputs": [
    {
     "data": {
      "text/plain": [
       "135"
      ]
     },
     "execution_count": 65,
     "metadata": {},
     "output_type": "execute_result"
    }
   ],
   "source": [
    "len(res)"
   ]
  },
  {
   "cell_type": "markdown",
   "id": "41923fcb",
   "metadata": {},
   "source": [
    "<h4>Automatically compile n forecast dates into a list</h4>"
   ]
  },
  {
   "cell_type": "code",
   "execution_count": 66,
   "id": "08b686fd",
   "metadata": {},
   "outputs": [],
   "source": [
    "k = 27 #iterates through all elements of ls to append dates in correct order\n",
    "\n",
    "res2=[]\n",
    "\n",
    "for i in range(len(ls)):\n",
    "    for day in range(k):\n",
    "        date = (ls[i] + timedelta(days = day))\n",
    "        date = date.strftime('%d %b %Y')\n",
    "        res2.append(date)"
   ]
  },
  {
   "cell_type": "code",
   "execution_count": 67,
   "id": "a2952d9c",
   "metadata": {},
   "outputs": [
    {
     "name": "stdout",
     "output_type": "stream",
     "text": [
      "There are 108 dates. Recall the first forecast is missing.\n"
     ]
    }
   ],
   "source": [
    "print(f'There are {len(res2)} dates. Recall the first forecast is missing.')"
   ]
  },
  {
   "cell_type": "markdown",
   "id": "351da80a",
   "metadata": {},
   "source": [
    "<h4>Adding in first forecast to list</h4>"
   ]
  },
  {
   "cell_type": "code",
   "execution_count": 68,
   "id": "29aaac4d",
   "metadata": {},
   "outputs": [
    {
     "data": {
      "text/plain": [
       "['06 Jan 2020', '07 Jan 2020', '08 Jan 2020', '09 Jan 2020', '10 Jan 2020']"
      ]
     },
     "execution_count": 68,
     "metadata": {},
     "output_type": "execute_result"
    }
   ],
   "source": [
    "k = 27 #now let's append the first forecast \n",
    "\n",
    "res11 = []\n",
    " \n",
    "for day in range(k):\n",
    "    date = (dt + timedelta(days = day))\n",
    "    date = date.strftime('%d %b %Y')\n",
    "    res11.append(date)\n",
    "\n",
    "for i in range(len(ls)):\n",
    "    for day in range(k):\n",
    "        date = (ls[i] + timedelta(days = day))\n",
    "        date = date.strftime('%d %b %Y')\n",
    "        res11.append(date)\n",
    "res11[:5]"
   ]
  },
  {
   "cell_type": "code",
   "execution_count": 69,
   "id": "b7175cad",
   "metadata": {
    "scrolled": true
   },
   "outputs": [
    {
     "name": "stdout",
     "output_type": "stream",
     "text": [
      "There are 135 dates corresponding to 135 rows from 5 forecasts.\n"
     ]
    }
   ],
   "source": [
    "print(f'There are {len(res11)} dates corresponding to {num_pdfs*27} rows from {num_pdfs} forecasts.') #matches number of forecasts"
   ]
  },
  {
   "cell_type": "markdown",
   "id": "2049cbc5",
   "metadata": {},
   "source": [
    "<h4>Extracting F10 forecast values from the main df and creating a new df</h4>"
   ]
  },
  {
   "cell_type": "code",
   "execution_count": 70,
   "id": "b2e2a08e",
   "metadata": {},
   "outputs": [
    {
     "data": {
      "text/html": [
       "<div>\n",
       "<style scoped>\n",
       "    .dataframe tbody tr th:only-of-type {\n",
       "        vertical-align: middle;\n",
       "    }\n",
       "\n",
       "    .dataframe tbody tr th {\n",
       "        vertical-align: top;\n",
       "    }\n",
       "\n",
       "    .dataframe thead th {\n",
       "        text-align: right;\n",
       "    }\n",
       "</style>\n",
       "<table border=\"1\" class=\"dataframe\">\n",
       "  <thead>\n",
       "    <tr style=\"text-align: right;\">\n",
       "      <th></th>\n",
       "      <th>Radio</th>\n",
       "      <th>Radio</th>\n",
       "      <th>Radio</th>\n",
       "      <th>Radio</th>\n",
       "      <th>Radio</th>\n",
       "      <th>Radio</th>\n",
       "      <th>Radio</th>\n",
       "      <th>Radio</th>\n",
       "      <th>Radio</th>\n",
       "      <th>Radio</th>\n",
       "    </tr>\n",
       "  </thead>\n",
       "  <tbody>\n",
       "    <tr>\n",
       "      <th>0</th>\n",
       "      <td>72</td>\n",
       "      <td>70</td>\n",
       "      <td>NaN</td>\n",
       "      <td>NaN</td>\n",
       "      <td>NaN</td>\n",
       "      <td>NaN</td>\n",
       "      <td>NaN</td>\n",
       "      <td>NaN</td>\n",
       "      <td>NaN</td>\n",
       "      <td>NaN</td>\n",
       "    </tr>\n",
       "    <tr>\n",
       "      <th>1</th>\n",
       "      <td>72.0</td>\n",
       "      <td>70.0</td>\n",
       "      <td>71.0</td>\n",
       "      <td>72.0</td>\n",
       "      <td>72.0</td>\n",
       "      <td>72.0</td>\n",
       "      <td>74.0</td>\n",
       "      <td>71.0</td>\n",
       "      <td>70.0</td>\n",
       "      <td>72.0</td>\n",
       "    </tr>\n",
       "    <tr>\n",
       "      <th>2</th>\n",
       "      <td>72.0</td>\n",
       "      <td>70.0</td>\n",
       "      <td>70.0</td>\n",
       "      <td>72.0</td>\n",
       "      <td>72.0</td>\n",
       "      <td>72.0</td>\n",
       "      <td>74.0</td>\n",
       "      <td>71.0</td>\n",
       "      <td>70.0</td>\n",
       "      <td>72.0</td>\n",
       "    </tr>\n",
       "    <tr>\n",
       "      <th>3</th>\n",
       "      <td>72.0</td>\n",
       "      <td>70.0</td>\n",
       "      <td>70.0</td>\n",
       "      <td>72.0</td>\n",
       "      <td>72.0</td>\n",
       "      <td>72.0</td>\n",
       "      <td>74.0</td>\n",
       "      <td>71.0</td>\n",
       "      <td>70.0</td>\n",
       "      <td>72.0</td>\n",
       "    </tr>\n",
       "    <tr>\n",
       "      <th>4</th>\n",
       "      <td>72.0</td>\n",
       "      <td>70.0</td>\n",
       "      <td>70.0</td>\n",
       "      <td>72.0</td>\n",
       "      <td>72.0</td>\n",
       "      <td>71.0</td>\n",
       "      <td>74.0</td>\n",
       "      <td>71.0</td>\n",
       "      <td>70.0</td>\n",
       "      <td>72.0</td>\n",
       "    </tr>\n",
       "    <tr>\n",
       "      <th>5</th>\n",
       "      <td>72.0</td>\n",
       "      <td>71.0</td>\n",
       "      <td>70.0</td>\n",
       "      <td>72.0</td>\n",
       "      <td>72.0</td>\n",
       "      <td>71.0</td>\n",
       "      <td>74.0</td>\n",
       "      <td>72.0</td>\n",
       "      <td>70.0</td>\n",
       "      <td>72.0</td>\n",
       "    </tr>\n",
       "    <tr>\n",
       "      <th>6</th>\n",
       "      <td>71.0</td>\n",
       "      <td>72.0</td>\n",
       "      <td>70.0</td>\n",
       "      <td>72.0</td>\n",
       "      <td>72.0</td>\n",
       "      <td>71.0</td>\n",
       "      <td>74.0</td>\n",
       "      <td>72.0</td>\n",
       "      <td>70.0</td>\n",
       "      <td>72.0</td>\n",
       "    </tr>\n",
       "    <tr>\n",
       "      <th>7</th>\n",
       "      <td>70.0</td>\n",
       "      <td>72.0</td>\n",
       "      <td>70.0</td>\n",
       "      <td>72.0</td>\n",
       "      <td>72.0</td>\n",
       "      <td>71.0</td>\n",
       "      <td>74.0</td>\n",
       "      <td>72.0</td>\n",
       "      <td>70.0</td>\n",
       "      <td>72.0</td>\n",
       "    </tr>\n",
       "    <tr>\n",
       "      <th>8</th>\n",
       "      <td>70.0</td>\n",
       "      <td>72.0</td>\n",
       "      <td>70.0</td>\n",
       "      <td>72.0</td>\n",
       "      <td>72.0</td>\n",
       "      <td>71.0</td>\n",
       "      <td>72.0</td>\n",
       "      <td>72.0</td>\n",
       "      <td>70.0</td>\n",
       "      <td>72.0</td>\n",
       "    </tr>\n",
       "    <tr>\n",
       "      <th>9</th>\n",
       "      <td>70.0</td>\n",
       "      <td>72.0</td>\n",
       "      <td>70.0</td>\n",
       "      <td>72.0</td>\n",
       "      <td>72.0</td>\n",
       "      <td>71.0</td>\n",
       "      <td>72.0</td>\n",
       "      <td>72.0</td>\n",
       "      <td>70.0</td>\n",
       "      <td>72.0</td>\n",
       "    </tr>\n",
       "    <tr>\n",
       "      <th>10</th>\n",
       "      <td>70.0</td>\n",
       "      <td>72.0</td>\n",
       "      <td>70.0</td>\n",
       "      <td>72.0</td>\n",
       "      <td>72.0</td>\n",
       "      <td>71.0</td>\n",
       "      <td>72.0</td>\n",
       "      <td>72.0</td>\n",
       "      <td>70.0</td>\n",
       "      <td>72.0</td>\n",
       "    </tr>\n",
       "    <tr>\n",
       "      <th>11</th>\n",
       "      <td>70.0</td>\n",
       "      <td>72.0</td>\n",
       "      <td>70.0</td>\n",
       "      <td>71.0</td>\n",
       "      <td>72.0</td>\n",
       "      <td>71.0</td>\n",
       "      <td>71.0</td>\n",
       "      <td>72.0</td>\n",
       "      <td>70.0</td>\n",
       "      <td>72.0</td>\n",
       "    </tr>\n",
       "    <tr>\n",
       "      <th>12</th>\n",
       "      <td>70.0</td>\n",
       "      <td>72.0</td>\n",
       "      <td>71.0</td>\n",
       "      <td>70.0</td>\n",
       "      <td>72.0</td>\n",
       "      <td>71.0</td>\n",
       "      <td>71.0</td>\n",
       "      <td>73.0</td>\n",
       "      <td>70.0</td>\n",
       "      <td>72.0</td>\n",
       "    </tr>\n",
       "    <tr>\n",
       "      <th>13</th>\n",
       "      <td>70.0</td>\n",
       "      <td>NaN</td>\n",
       "      <td>72.0</td>\n",
       "      <td>70.0</td>\n",
       "      <td>72.0</td>\n",
       "      <td>71.0</td>\n",
       "      <td>71.0</td>\n",
       "      <td>73.0</td>\n",
       "      <td>70.0</td>\n",
       "      <td>72.0</td>\n",
       "    </tr>\n",
       "    <tr>\n",
       "      <th>14</th>\n",
       "      <td>NaN</td>\n",
       "      <td>NaN</td>\n",
       "      <td>72.0</td>\n",
       "      <td>NaN</td>\n",
       "      <td>72.0</td>\n",
       "      <td>NaN</td>\n",
       "      <td>71.0</td>\n",
       "      <td>NaN</td>\n",
       "      <td>71.0</td>\n",
       "      <td>NaN</td>\n",
       "    </tr>\n",
       "  </tbody>\n",
       "</table>\n",
       "</div>"
      ],
      "text/plain": [
       "    Radio  Radio  Radio  Radio  Radio  Radio  Radio  Radio  Radio  Radio\n",
       "0      72     70    NaN    NaN    NaN    NaN    NaN    NaN    NaN    NaN\n",
       "1    72.0   70.0   71.0   72.0   72.0   72.0   74.0   71.0   70.0   72.0\n",
       "2    72.0   70.0   70.0   72.0   72.0   72.0   74.0   71.0   70.0   72.0\n",
       "3    72.0   70.0   70.0   72.0   72.0   72.0   74.0   71.0   70.0   72.0\n",
       "4    72.0   70.0   70.0   72.0   72.0   71.0   74.0   71.0   70.0   72.0\n",
       "5    72.0   71.0   70.0   72.0   72.0   71.0   74.0   72.0   70.0   72.0\n",
       "6    71.0   72.0   70.0   72.0   72.0   71.0   74.0   72.0   70.0   72.0\n",
       "7    70.0   72.0   70.0   72.0   72.0   71.0   74.0   72.0   70.0   72.0\n",
       "8    70.0   72.0   70.0   72.0   72.0   71.0   72.0   72.0   70.0   72.0\n",
       "9    70.0   72.0   70.0   72.0   72.0   71.0   72.0   72.0   70.0   72.0\n",
       "10   70.0   72.0   70.0   72.0   72.0   71.0   72.0   72.0   70.0   72.0\n",
       "11   70.0   72.0   70.0   71.0   72.0   71.0   71.0   72.0   70.0   72.0\n",
       "12   70.0   72.0   71.0   70.0   72.0   71.0   71.0   73.0   70.0   72.0\n",
       "13   70.0    NaN   72.0   70.0   72.0   71.0   71.0   73.0   70.0   72.0\n",
       "14    NaN    NaN   72.0    NaN   72.0    NaN   71.0    NaN   71.0    NaN"
      ]
     },
     "execution_count": 70,
     "metadata": {},
     "output_type": "execute_result"
    }
   ],
   "source": [
    "f10_wide = main['Radio']\n",
    "f10_wide"
   ]
  },
  {
   "cell_type": "code",
   "execution_count": 71,
   "id": "2d08403c",
   "metadata": {},
   "outputs": [
    {
     "data": {
      "text/html": [
       "<div>\n",
       "<style scoped>\n",
       "    .dataframe tbody tr th:only-of-type {\n",
       "        vertical-align: middle;\n",
       "    }\n",
       "\n",
       "    .dataframe tbody tr th {\n",
       "        vertical-align: top;\n",
       "    }\n",
       "\n",
       "    .dataframe thead th {\n",
       "        text-align: right;\n",
       "    }\n",
       "</style>\n",
       "<table border=\"1\" class=\"dataframe\">\n",
       "  <thead>\n",
       "    <tr style=\"text-align: right;\">\n",
       "      <th></th>\n",
       "      <th>variable</th>\n",
       "      <th>value</th>\n",
       "    </tr>\n",
       "  </thead>\n",
       "  <tbody>\n",
       "    <tr>\n",
       "      <th>0</th>\n",
       "      <td>Radio</td>\n",
       "      <td>72</td>\n",
       "    </tr>\n",
       "    <tr>\n",
       "      <th>1</th>\n",
       "      <td>Radio</td>\n",
       "      <td>72.0</td>\n",
       "    </tr>\n",
       "    <tr>\n",
       "      <th>2</th>\n",
       "      <td>Radio</td>\n",
       "      <td>72.0</td>\n",
       "    </tr>\n",
       "    <tr>\n",
       "      <th>3</th>\n",
       "      <td>Radio</td>\n",
       "      <td>72.0</td>\n",
       "    </tr>\n",
       "    <tr>\n",
       "      <th>4</th>\n",
       "      <td>Radio</td>\n",
       "      <td>72.0</td>\n",
       "    </tr>\n",
       "    <tr>\n",
       "      <th>...</th>\n",
       "      <td>...</td>\n",
       "      <td>...</td>\n",
       "    </tr>\n",
       "    <tr>\n",
       "      <th>145</th>\n",
       "      <td>Radio</td>\n",
       "      <td>72.0</td>\n",
       "    </tr>\n",
       "    <tr>\n",
       "      <th>146</th>\n",
       "      <td>Radio</td>\n",
       "      <td>72.0</td>\n",
       "    </tr>\n",
       "    <tr>\n",
       "      <th>147</th>\n",
       "      <td>Radio</td>\n",
       "      <td>72.0</td>\n",
       "    </tr>\n",
       "    <tr>\n",
       "      <th>148</th>\n",
       "      <td>Radio</td>\n",
       "      <td>72.0</td>\n",
       "    </tr>\n",
       "    <tr>\n",
       "      <th>149</th>\n",
       "      <td>Radio</td>\n",
       "      <td>NaN</td>\n",
       "    </tr>\n",
       "  </tbody>\n",
       "</table>\n",
       "<p>150 rows × 2 columns</p>\n",
       "</div>"
      ],
      "text/plain": [
       "    variable value\n",
       "0      Radio    72\n",
       "1      Radio  72.0\n",
       "2      Radio  72.0\n",
       "3      Radio  72.0\n",
       "4      Radio  72.0\n",
       "..       ...   ...\n",
       "145    Radio  72.0\n",
       "146    Radio  72.0\n",
       "147    Radio  72.0\n",
       "148    Radio  72.0\n",
       "149    Radio   NaN\n",
       "\n",
       "[150 rows x 2 columns]"
      ]
     },
     "execution_count": 71,
     "metadata": {},
     "output_type": "execute_result"
    }
   ],
   "source": [
    "f10_long_nan = f10_wide.melt()\n",
    "f10_long_nan"
   ]
  },
  {
   "cell_type": "code",
   "execution_count": 72,
   "id": "5e88a849",
   "metadata": {},
   "outputs": [],
   "source": [
    "f10_long = f10_long_nan.dropna(axis=0) # delete all rows with nan"
   ]
  },
  {
   "cell_type": "code",
   "execution_count": 73,
   "id": "ed4c8b64",
   "metadata": {},
   "outputs": [
    {
     "data": {
      "text/html": [
       "<div>\n",
       "<style scoped>\n",
       "    .dataframe tbody tr th:only-of-type {\n",
       "        vertical-align: middle;\n",
       "    }\n",
       "\n",
       "    .dataframe tbody tr th {\n",
       "        vertical-align: top;\n",
       "    }\n",
       "\n",
       "    .dataframe thead th {\n",
       "        text-align: right;\n",
       "    }\n",
       "</style>\n",
       "<table border=\"1\" class=\"dataframe\">\n",
       "  <thead>\n",
       "    <tr style=\"text-align: right;\">\n",
       "      <th></th>\n",
       "      <th>value</th>\n",
       "    </tr>\n",
       "  </thead>\n",
       "  <tbody>\n",
       "    <tr>\n",
       "      <th>0</th>\n",
       "      <td>72</td>\n",
       "    </tr>\n",
       "    <tr>\n",
       "      <th>1</th>\n",
       "      <td>72.0</td>\n",
       "    </tr>\n",
       "    <tr>\n",
       "      <th>2</th>\n",
       "      <td>72.0</td>\n",
       "    </tr>\n",
       "    <tr>\n",
       "      <th>3</th>\n",
       "      <td>72.0</td>\n",
       "    </tr>\n",
       "    <tr>\n",
       "      <th>4</th>\n",
       "      <td>72.0</td>\n",
       "    </tr>\n",
       "    <tr>\n",
       "      <th>...</th>\n",
       "      <td>...</td>\n",
       "    </tr>\n",
       "    <tr>\n",
       "      <th>144</th>\n",
       "      <td>72.0</td>\n",
       "    </tr>\n",
       "    <tr>\n",
       "      <th>145</th>\n",
       "      <td>72.0</td>\n",
       "    </tr>\n",
       "    <tr>\n",
       "      <th>146</th>\n",
       "      <td>72.0</td>\n",
       "    </tr>\n",
       "    <tr>\n",
       "      <th>147</th>\n",
       "      <td>72.0</td>\n",
       "    </tr>\n",
       "    <tr>\n",
       "      <th>148</th>\n",
       "      <td>72.0</td>\n",
       "    </tr>\n",
       "  </tbody>\n",
       "</table>\n",
       "<p>135 rows × 1 columns</p>\n",
       "</div>"
      ],
      "text/plain": [
       "    value\n",
       "0      72\n",
       "1    72.0\n",
       "2    72.0\n",
       "3    72.0\n",
       "4    72.0\n",
       "..    ...\n",
       "144  72.0\n",
       "145  72.0\n",
       "146  72.0\n",
       "147  72.0\n",
       "148  72.0\n",
       "\n",
       "[135 rows x 1 columns]"
      ]
     },
     "execution_count": 73,
     "metadata": {},
     "output_type": "execute_result"
    }
   ],
   "source": [
    "f10_long = f10_long.drop(['variable'], axis=1)\n",
    "f10_long"
   ]
  },
  {
   "cell_type": "code",
   "execution_count": 74,
   "id": "171f4f88",
   "metadata": {},
   "outputs": [],
   "source": [
    "f10_long = f10_long.rename(columns={\"value\": \"Kp\"})"
   ]
  },
  {
   "cell_type": "code",
   "execution_count": 75,
   "id": "480fe428",
   "metadata": {},
   "outputs": [],
   "source": [
    "f10_long = f10_long.reset_index()"
   ]
  },
  {
   "cell_type": "code",
   "execution_count": 76,
   "id": "d88f9ec4",
   "metadata": {},
   "outputs": [],
   "source": [
    "f10_long = f10_long.drop(['index'], axis=1)"
   ]
  },
  {
   "cell_type": "code",
   "execution_count": 77,
   "id": "a6ff73f1",
   "metadata": {
    "scrolled": true
   },
   "outputs": [],
   "source": [
    "final_df = pd.DataFrame(res11, columns=['res']) #res11 (dates) needs to be transformed into a pandas df"
   ]
  },
  {
   "cell_type": "code",
   "execution_count": 78,
   "id": "bf67f8a0",
   "metadata": {},
   "outputs": [],
   "source": [
    "final_df = final_df.rename(columns={\"res\": \"Date\"})"
   ]
  },
  {
   "cell_type": "code",
   "execution_count": 79,
   "id": "68100e96",
   "metadata": {},
   "outputs": [],
   "source": [
    "final_df['Radio'] = f10_long"
   ]
  },
  {
   "cell_type": "markdown",
   "id": "12568d7e",
   "metadata": {},
   "source": [
    "<h4>The final table that observed F10 can be added to for analysis</h4>"
   ]
  },
  {
   "cell_type": "code",
   "execution_count": 80,
   "id": "38d41524",
   "metadata": {},
   "outputs": [
    {
     "data": {
      "text/html": [
       "<div>\n",
       "<style scoped>\n",
       "    .dataframe tbody tr th:only-of-type {\n",
       "        vertical-align: middle;\n",
       "    }\n",
       "\n",
       "    .dataframe tbody tr th {\n",
       "        vertical-align: top;\n",
       "    }\n",
       "\n",
       "    .dataframe thead th {\n",
       "        text-align: right;\n",
       "    }\n",
       "</style>\n",
       "<table border=\"1\" class=\"dataframe\">\n",
       "  <thead>\n",
       "    <tr style=\"text-align: right;\">\n",
       "      <th></th>\n",
       "      <th>Date</th>\n",
       "      <th>Radio</th>\n",
       "    </tr>\n",
       "  </thead>\n",
       "  <tbody>\n",
       "    <tr>\n",
       "      <th>0</th>\n",
       "      <td>06 Jan 2020</td>\n",
       "      <td>72</td>\n",
       "    </tr>\n",
       "    <tr>\n",
       "      <th>1</th>\n",
       "      <td>07 Jan 2020</td>\n",
       "      <td>72.0</td>\n",
       "    </tr>\n",
       "    <tr>\n",
       "      <th>2</th>\n",
       "      <td>08 Jan 2020</td>\n",
       "      <td>72.0</td>\n",
       "    </tr>\n",
       "    <tr>\n",
       "      <th>3</th>\n",
       "      <td>09 Jan 2020</td>\n",
       "      <td>72.0</td>\n",
       "    </tr>\n",
       "    <tr>\n",
       "      <th>4</th>\n",
       "      <td>10 Jan 2020</td>\n",
       "      <td>72.0</td>\n",
       "    </tr>\n",
       "    <tr>\n",
       "      <th>5</th>\n",
       "      <td>11 Jan 2020</td>\n",
       "      <td>72.0</td>\n",
       "    </tr>\n",
       "    <tr>\n",
       "      <th>6</th>\n",
       "      <td>12 Jan 2020</td>\n",
       "      <td>71.0</td>\n",
       "    </tr>\n",
       "    <tr>\n",
       "      <th>7</th>\n",
       "      <td>13 Jan 2020</td>\n",
       "      <td>70.0</td>\n",
       "    </tr>\n",
       "    <tr>\n",
       "      <th>8</th>\n",
       "      <td>14 Jan 2020</td>\n",
       "      <td>70.0</td>\n",
       "    </tr>\n",
       "    <tr>\n",
       "      <th>9</th>\n",
       "      <td>15 Jan 2020</td>\n",
       "      <td>70.0</td>\n",
       "    </tr>\n",
       "    <tr>\n",
       "      <th>10</th>\n",
       "      <td>16 Jan 2020</td>\n",
       "      <td>70.0</td>\n",
       "    </tr>\n",
       "    <tr>\n",
       "      <th>11</th>\n",
       "      <td>17 Jan 2020</td>\n",
       "      <td>70.0</td>\n",
       "    </tr>\n",
       "    <tr>\n",
       "      <th>12</th>\n",
       "      <td>18 Jan 2020</td>\n",
       "      <td>70.0</td>\n",
       "    </tr>\n",
       "    <tr>\n",
       "      <th>13</th>\n",
       "      <td>19 Jan 2020</td>\n",
       "      <td>70.0</td>\n",
       "    </tr>\n",
       "    <tr>\n",
       "      <th>14</th>\n",
       "      <td>20 Jan 2020</td>\n",
       "      <td>70</td>\n",
       "    </tr>\n",
       "    <tr>\n",
       "      <th>15</th>\n",
       "      <td>21 Jan 2020</td>\n",
       "      <td>70.0</td>\n",
       "    </tr>\n",
       "    <tr>\n",
       "      <th>16</th>\n",
       "      <td>22 Jan 2020</td>\n",
       "      <td>70.0</td>\n",
       "    </tr>\n",
       "    <tr>\n",
       "      <th>17</th>\n",
       "      <td>23 Jan 2020</td>\n",
       "      <td>70.0</td>\n",
       "    </tr>\n",
       "    <tr>\n",
       "      <th>18</th>\n",
       "      <td>24 Jan 2020</td>\n",
       "      <td>70.0</td>\n",
       "    </tr>\n",
       "    <tr>\n",
       "      <th>19</th>\n",
       "      <td>25 Jan 2020</td>\n",
       "      <td>71.0</td>\n",
       "    </tr>\n",
       "    <tr>\n",
       "      <th>20</th>\n",
       "      <td>26 Jan 2020</td>\n",
       "      <td>72.0</td>\n",
       "    </tr>\n",
       "    <tr>\n",
       "      <th>21</th>\n",
       "      <td>27 Jan 2020</td>\n",
       "      <td>72.0</td>\n",
       "    </tr>\n",
       "    <tr>\n",
       "      <th>22</th>\n",
       "      <td>28 Jan 2020</td>\n",
       "      <td>72.0</td>\n",
       "    </tr>\n",
       "    <tr>\n",
       "      <th>23</th>\n",
       "      <td>29 Jan 2020</td>\n",
       "      <td>72.0</td>\n",
       "    </tr>\n",
       "    <tr>\n",
       "      <th>24</th>\n",
       "      <td>30 Jan 2020</td>\n",
       "      <td>72.0</td>\n",
       "    </tr>\n",
       "    <tr>\n",
       "      <th>25</th>\n",
       "      <td>31 Jan 2020</td>\n",
       "      <td>72.0</td>\n",
       "    </tr>\n",
       "    <tr>\n",
       "      <th>26</th>\n",
       "      <td>01 Feb 2020</td>\n",
       "      <td>72.0</td>\n",
       "    </tr>\n",
       "    <tr>\n",
       "      <th>27</th>\n",
       "      <td>13 Jan 2020</td>\n",
       "      <td>71.0</td>\n",
       "    </tr>\n",
       "    <tr>\n",
       "      <th>28</th>\n",
       "      <td>14 Jan 2020</td>\n",
       "      <td>70.0</td>\n",
       "    </tr>\n",
       "    <tr>\n",
       "      <th>29</th>\n",
       "      <td>15 Jan 2020</td>\n",
       "      <td>70.0</td>\n",
       "    </tr>\n",
       "    <tr>\n",
       "      <th>30</th>\n",
       "      <td>16 Jan 2020</td>\n",
       "      <td>70.0</td>\n",
       "    </tr>\n",
       "    <tr>\n",
       "      <th>31</th>\n",
       "      <td>17 Jan 2020</td>\n",
       "      <td>70.0</td>\n",
       "    </tr>\n",
       "  </tbody>\n",
       "</table>\n",
       "</div>"
      ],
      "text/plain": [
       "           Date Radio\n",
       "0   06 Jan 2020    72\n",
       "1   07 Jan 2020  72.0\n",
       "2   08 Jan 2020  72.0\n",
       "3   09 Jan 2020  72.0\n",
       "4   10 Jan 2020  72.0\n",
       "5   11 Jan 2020  72.0\n",
       "6   12 Jan 2020  71.0\n",
       "7   13 Jan 2020  70.0\n",
       "8   14 Jan 2020  70.0\n",
       "9   15 Jan 2020  70.0\n",
       "10  16 Jan 2020  70.0\n",
       "11  17 Jan 2020  70.0\n",
       "12  18 Jan 2020  70.0\n",
       "13  19 Jan 2020  70.0\n",
       "14  20 Jan 2020    70\n",
       "15  21 Jan 2020  70.0\n",
       "16  22 Jan 2020  70.0\n",
       "17  23 Jan 2020  70.0\n",
       "18  24 Jan 2020  70.0\n",
       "19  25 Jan 2020  71.0\n",
       "20  26 Jan 2020  72.0\n",
       "21  27 Jan 2020  72.0\n",
       "22  28 Jan 2020  72.0\n",
       "23  29 Jan 2020  72.0\n",
       "24  30 Jan 2020  72.0\n",
       "25  31 Jan 2020  72.0\n",
       "26  01 Feb 2020  72.0\n",
       "27  13 Jan 2020  71.0\n",
       "28  14 Jan 2020  70.0\n",
       "29  15 Jan 2020  70.0\n",
       "30  16 Jan 2020  70.0\n",
       "31  17 Jan 2020  70.0"
      ]
     },
     "execution_count": 80,
     "metadata": {},
     "output_type": "execute_result"
    }
   ],
   "source": [
    "final_df.head(32)"
   ]
  },
  {
   "cell_type": "markdown",
   "id": "bd1d1ada",
   "metadata": {},
   "source": [
    "Above you can see that the after Feb 1, the date does not continue with 2 Feb, but with 13 Feb, which is the starting date in the next forecast."
   ]
  },
  {
   "cell_type": "markdown",
   "id": "a7c1c054",
   "metadata": {},
   "source": [
    "<h3>Importing Observed F10 Data</h3><br/>\n",
    "Observed F10.7 from Government of Canada."
   ]
  },
  {
   "cell_type": "code",
   "execution_count": 81,
   "id": "ed9870e6",
   "metadata": {},
   "outputs": [
    {
     "data": {
      "text/html": [
       "<div>\n",
       "<style scoped>\n",
       "    .dataframe tbody tr th:only-of-type {\n",
       "        vertical-align: middle;\n",
       "    }\n",
       "\n",
       "    .dataframe tbody tr th {\n",
       "        vertical-align: top;\n",
       "    }\n",
       "\n",
       "    .dataframe thead th {\n",
       "        text-align: right;\n",
       "    }\n",
       "</style>\n",
       "<table border=\"1\" class=\"dataframe\">\n",
       "  <thead>\n",
       "    <tr style=\"text-align: right;\">\n",
       "      <th></th>\n",
       "      <th>Date</th>\n",
       "      <th>Time</th>\n",
       "      <th>Julian day</th>\n",
       "      <th>Carrington\\nrotation</th>\n",
       "      <th>Observed Flux</th>\n",
       "      <th>Adjusted Flux</th>\n",
       "      <th>URSI Flux</th>\n",
       "      <th>Unnamed: 7</th>\n",
       "      <th>Unnamed: 8</th>\n",
       "      <th>Unnamed: 9</th>\n",
       "      <th>Unnamed: 10</th>\n",
       "      <th>Unnamed: 11</th>\n",
       "      <th>Date.1</th>\n",
       "      <th>Noon Flux</th>\n",
       "    </tr>\n",
       "  </thead>\n",
       "  <tbody>\n",
       "    <tr>\n",
       "      <th>0</th>\n",
       "      <td>2020-01-01</td>\n",
       "      <td>18:00:00</td>\n",
       "      <td>2458850.239</td>\n",
       "      <td>2225.833</td>\n",
       "      <td>71.5</td>\n",
       "      <td>69.2</td>\n",
       "      <td>62.3</td>\n",
       "      <td>NaN</td>\n",
       "      <td>NaN</td>\n",
       "      <td>NaN</td>\n",
       "      <td>NaN</td>\n",
       "      <td>NaN</td>\n",
       "      <td>2020-01-02</td>\n",
       "      <td>71.9</td>\n",
       "    </tr>\n",
       "    <tr>\n",
       "      <th>1</th>\n",
       "      <td>2020-01-01</td>\n",
       "      <td>20:00:00</td>\n",
       "      <td>2458850.322</td>\n",
       "      <td>2225.836</td>\n",
       "      <td>71.8</td>\n",
       "      <td>69.4</td>\n",
       "      <td>62.5</td>\n",
       "      <td>NaN</td>\n",
       "      <td>NaN</td>\n",
       "      <td>NaN</td>\n",
       "      <td>NaN</td>\n",
       "      <td>NaN</td>\n",
       "      <td>2020-01-03</td>\n",
       "      <td>71.2</td>\n",
       "    </tr>\n",
       "    <tr>\n",
       "      <th>2</th>\n",
       "      <td>2020-01-01</td>\n",
       "      <td>22:00:00</td>\n",
       "      <td>2458850.416</td>\n",
       "      <td>2225.830</td>\n",
       "      <td>71.8</td>\n",
       "      <td>69.5</td>\n",
       "      <td>62.5</td>\n",
       "      <td>NaN</td>\n",
       "      <td>NaN</td>\n",
       "      <td>NaN</td>\n",
       "      <td>NaN</td>\n",
       "      <td>NaN</td>\n",
       "      <td>2020-01-04</td>\n",
       "      <td>72.2</td>\n",
       "    </tr>\n",
       "    <tr>\n",
       "      <th>3</th>\n",
       "      <td>2020-01-02</td>\n",
       "      <td>18:00:00</td>\n",
       "      <td>2458851.248</td>\n",
       "      <td>2225.860</td>\n",
       "      <td>71.1</td>\n",
       "      <td>68.8</td>\n",
       "      <td>61.9</td>\n",
       "      <td>NaN</td>\n",
       "      <td>NaN</td>\n",
       "      <td>NaN</td>\n",
       "      <td>NaN</td>\n",
       "      <td>NaN</td>\n",
       "      <td>2020-01-05</td>\n",
       "      <td>71.8</td>\n",
       "    </tr>\n",
       "    <tr>\n",
       "      <th>4</th>\n",
       "      <td>2020-01-02</td>\n",
       "      <td>20:00:00</td>\n",
       "      <td>2458851.322</td>\n",
       "      <td>2225.872</td>\n",
       "      <td>71.9</td>\n",
       "      <td>69.5</td>\n",
       "      <td>62.6</td>\n",
       "      <td>NaN</td>\n",
       "      <td>NaN</td>\n",
       "      <td>NaN</td>\n",
       "      <td>NaN</td>\n",
       "      <td>NaN</td>\n",
       "      <td>2020-01-06</td>\n",
       "      <td>70.5</td>\n",
       "    </tr>\n",
       "  </tbody>\n",
       "</table>\n",
       "</div>"
      ],
      "text/plain": [
       "        Date      Time   Julian day  Carrington\\nrotation  Observed Flux  \\\n",
       "0 2020-01-01  18:00:00  2458850.239              2225.833           71.5   \n",
       "1 2020-01-01  20:00:00  2458850.322              2225.836           71.8   \n",
       "2 2020-01-01  22:00:00  2458850.416              2225.830           71.8   \n",
       "3 2020-01-02  18:00:00  2458851.248              2225.860           71.1   \n",
       "4 2020-01-02  20:00:00  2458851.322              2225.872           71.9   \n",
       "\n",
       "   Adjusted Flux  URSI Flux  Unnamed: 7  Unnamed: 8  Unnamed: 9  Unnamed: 10  \\\n",
       "0           69.2       62.3         NaN         NaN         NaN          NaN   \n",
       "1           69.4       62.5         NaN         NaN         NaN          NaN   \n",
       "2           69.5       62.5         NaN         NaN         NaN          NaN   \n",
       "3           68.8       61.9         NaN         NaN         NaN          NaN   \n",
       "4           69.5       62.6         NaN         NaN         NaN          NaN   \n",
       "\n",
       "   Unnamed: 11     Date.1  Noon Flux  \n",
       "0          NaN 2020-01-02       71.9  \n",
       "1          NaN 2020-01-03       71.2  \n",
       "2          NaN 2020-01-04       72.2  \n",
       "3          NaN 2020-01-05       71.8  \n",
       "4          NaN 2020-01-06       70.5  "
      ]
     },
     "execution_count": 81,
     "metadata": {},
     "output_type": "execute_result"
    }
   ],
   "source": [
    "f10obs = pd.read_excel('C:/Users/john.mayers/Documents/27_Day/Data/noon_flux2020.xlsx')\n",
    "f10obs.head()"
   ]
  },
  {
   "cell_type": "code",
   "execution_count": 82,
   "id": "c8e0e5d3",
   "metadata": {},
   "outputs": [
    {
     "data": {
      "text/html": [
       "<div>\n",
       "<style scoped>\n",
       "    .dataframe tbody tr th:only-of-type {\n",
       "        vertical-align: middle;\n",
       "    }\n",
       "\n",
       "    .dataframe tbody tr th {\n",
       "        vertical-align: top;\n",
       "    }\n",
       "\n",
       "    .dataframe thead th {\n",
       "        text-align: right;\n",
       "    }\n",
       "</style>\n",
       "<table border=\"1\" class=\"dataframe\">\n",
       "  <thead>\n",
       "    <tr style=\"text-align: right;\">\n",
       "      <th></th>\n",
       "      <th>Date.1</th>\n",
       "      <th>Noon Flux</th>\n",
       "    </tr>\n",
       "  </thead>\n",
       "  <tbody>\n",
       "    <tr>\n",
       "      <th>0</th>\n",
       "      <td>2020-01-02</td>\n",
       "      <td>71.9</td>\n",
       "    </tr>\n",
       "    <tr>\n",
       "      <th>1</th>\n",
       "      <td>2020-01-03</td>\n",
       "      <td>71.2</td>\n",
       "    </tr>\n",
       "    <tr>\n",
       "      <th>2</th>\n",
       "      <td>2020-01-04</td>\n",
       "      <td>72.2</td>\n",
       "    </tr>\n",
       "    <tr>\n",
       "      <th>3</th>\n",
       "      <td>2020-01-05</td>\n",
       "      <td>71.8</td>\n",
       "    </tr>\n",
       "    <tr>\n",
       "      <th>4</th>\n",
       "      <td>2020-01-06</td>\n",
       "      <td>70.5</td>\n",
       "    </tr>\n",
       "  </tbody>\n",
       "</table>\n",
       "</div>"
      ],
      "text/plain": [
       "      Date.1  Noon Flux\n",
       "0 2020-01-02       71.9\n",
       "1 2020-01-03       71.2\n",
       "2 2020-01-04       72.2\n",
       "3 2020-01-05       71.8\n",
       "4 2020-01-06       70.5"
      ]
     },
     "execution_count": 82,
     "metadata": {},
     "output_type": "execute_result"
    }
   ],
   "source": [
    "f10obs = f10obs[['Date.1','Noon Flux']] \n",
    "f10obs.head()"
   ]
  },
  {
   "cell_type": "markdown",
   "id": "745358d1",
   "metadata": {},
   "source": [
    "<h3>Matching observed F10 with forecast F10</h3>"
   ]
  },
  {
   "cell_type": "markdown",
   "id": "9fda4019",
   "metadata": {},
   "source": [
    "<h4>Creating a subset of obs that match up to the days corresponding to the n forecasts</h4>"
   ]
  },
  {
   "cell_type": "code",
   "execution_count": 83,
   "id": "03d9c32c",
   "metadata": {},
   "outputs": [
    {
     "data": {
      "text/plain": [
       "datetime.datetime(2020, 1, 13, 0, 0)"
      ]
     },
     "execution_count": 83,
     "metadata": {},
     "output_type": "execute_result"
    }
   ],
   "source": [
    "Begindate + timedelta(days=7)"
   ]
  },
  {
   "cell_type": "code",
   "execution_count": 84,
   "id": "9b00f9e0",
   "metadata": {},
   "outputs": [
    {
     "data": {
      "text/html": [
       "<div>\n",
       "<style scoped>\n",
       "    .dataframe tbody tr th:only-of-type {\n",
       "        vertical-align: middle;\n",
       "    }\n",
       "\n",
       "    .dataframe tbody tr th {\n",
       "        vertical-align: top;\n",
       "    }\n",
       "\n",
       "    .dataframe thead th {\n",
       "        text-align: right;\n",
       "    }\n",
       "</style>\n",
       "<table border=\"1\" class=\"dataframe\">\n",
       "  <thead>\n",
       "    <tr style=\"text-align: right;\">\n",
       "      <th></th>\n",
       "      <th>Date.1</th>\n",
       "      <th>Noon Flux</th>\n",
       "    </tr>\n",
       "  </thead>\n",
       "  <tbody>\n",
       "    <tr>\n",
       "      <th>5</th>\n",
       "      <td>2020-01-07</td>\n",
       "      <td>71.6</td>\n",
       "    </tr>\n",
       "    <tr>\n",
       "      <th>6</th>\n",
       "      <td>2020-01-08</td>\n",
       "      <td>73.7</td>\n",
       "    </tr>\n",
       "    <tr>\n",
       "      <th>7</th>\n",
       "      <td>2020-01-09</td>\n",
       "      <td>74.4</td>\n",
       "    </tr>\n",
       "    <tr>\n",
       "      <th>8</th>\n",
       "      <td>2020-01-10</td>\n",
       "      <td>72.8</td>\n",
       "    </tr>\n",
       "    <tr>\n",
       "      <th>9</th>\n",
       "      <td>2020-01-11</td>\n",
       "      <td>73.5</td>\n",
       "    </tr>\n",
       "    <tr>\n",
       "      <th>10</th>\n",
       "      <td>2020-01-12</td>\n",
       "      <td>71.9</td>\n",
       "    </tr>\n",
       "    <tr>\n",
       "      <th>11</th>\n",
       "      <td>2020-01-13</td>\n",
       "      <td>71.5</td>\n",
       "    </tr>\n",
       "    <tr>\n",
       "      <th>12</th>\n",
       "      <td>2020-01-14</td>\n",
       "      <td>71.9</td>\n",
       "    </tr>\n",
       "    <tr>\n",
       "      <th>13</th>\n",
       "      <td>2020-01-15</td>\n",
       "      <td>71.2</td>\n",
       "    </tr>\n",
       "    <tr>\n",
       "      <th>14</th>\n",
       "      <td>2020-01-16</td>\n",
       "      <td>71.8</td>\n",
       "    </tr>\n",
       "    <tr>\n",
       "      <th>15</th>\n",
       "      <td>2020-01-17</td>\n",
       "      <td>70.1</td>\n",
       "    </tr>\n",
       "    <tr>\n",
       "      <th>16</th>\n",
       "      <td>2020-01-18</td>\n",
       "      <td>71.3</td>\n",
       "    </tr>\n",
       "    <tr>\n",
       "      <th>17</th>\n",
       "      <td>2020-01-19</td>\n",
       "      <td>71.8</td>\n",
       "    </tr>\n",
       "    <tr>\n",
       "      <th>18</th>\n",
       "      <td>2020-01-20</td>\n",
       "      <td>71.2</td>\n",
       "    </tr>\n",
       "    <tr>\n",
       "      <th>19</th>\n",
       "      <td>2020-01-21</td>\n",
       "      <td>70.5</td>\n",
       "    </tr>\n",
       "    <tr>\n",
       "      <th>20</th>\n",
       "      <td>2020-01-22</td>\n",
       "      <td>71.9</td>\n",
       "    </tr>\n",
       "    <tr>\n",
       "      <th>21</th>\n",
       "      <td>2020-01-23</td>\n",
       "      <td>70.8</td>\n",
       "    </tr>\n",
       "    <tr>\n",
       "      <th>22</th>\n",
       "      <td>2020-01-24</td>\n",
       "      <td>71.0</td>\n",
       "    </tr>\n",
       "    <tr>\n",
       "      <th>23</th>\n",
       "      <td>2020-01-25</td>\n",
       "      <td>72.7</td>\n",
       "    </tr>\n",
       "    <tr>\n",
       "      <th>24</th>\n",
       "      <td>2020-01-26</td>\n",
       "      <td>74.7</td>\n",
       "    </tr>\n",
       "    <tr>\n",
       "      <th>25</th>\n",
       "      <td>2020-01-27</td>\n",
       "      <td>72.9</td>\n",
       "    </tr>\n",
       "    <tr>\n",
       "      <th>26</th>\n",
       "      <td>2020-01-28</td>\n",
       "      <td>74.2</td>\n",
       "    </tr>\n",
       "    <tr>\n",
       "      <th>27</th>\n",
       "      <td>2020-01-29</td>\n",
       "      <td>74.3</td>\n",
       "    </tr>\n",
       "    <tr>\n",
       "      <th>28</th>\n",
       "      <td>2020-01-30</td>\n",
       "      <td>74.1</td>\n",
       "    </tr>\n",
       "    <tr>\n",
       "      <th>29</th>\n",
       "      <td>2020-01-31</td>\n",
       "      <td>73.9</td>\n",
       "    </tr>\n",
       "    <tr>\n",
       "      <th>30</th>\n",
       "      <td>2020-02-01</td>\n",
       "      <td>72.5</td>\n",
       "    </tr>\n",
       "    <tr>\n",
       "      <th>31</th>\n",
       "      <td>2020-02-02</td>\n",
       "      <td>72.2</td>\n",
       "    </tr>\n",
       "  </tbody>\n",
       "</table>\n",
       "</div>"
      ],
      "text/plain": [
       "       Date.1  Noon Flux\n",
       "5  2020-01-07       71.6\n",
       "6  2020-01-08       73.7\n",
       "7  2020-01-09       74.4\n",
       "8  2020-01-10       72.8\n",
       "9  2020-01-11       73.5\n",
       "10 2020-01-12       71.9\n",
       "11 2020-01-13       71.5\n",
       "12 2020-01-14       71.9\n",
       "13 2020-01-15       71.2\n",
       "14 2020-01-16       71.8\n",
       "15 2020-01-17       70.1\n",
       "16 2020-01-18       71.3\n",
       "17 2020-01-19       71.8\n",
       "18 2020-01-20       71.2\n",
       "19 2020-01-21       70.5\n",
       "20 2020-01-22       71.9\n",
       "21 2020-01-23       70.8\n",
       "22 2020-01-24       71.0\n",
       "23 2020-01-25       72.7\n",
       "24 2020-01-26       74.7\n",
       "25 2020-01-27       72.9\n",
       "26 2020-01-28       74.2\n",
       "27 2020-01-29       74.3\n",
       "28 2020-01-30       74.1\n",
       "29 2020-01-31       73.9\n",
       "30 2020-02-01       72.5\n",
       "31 2020-02-02       72.2"
      ]
     },
     "execution_count": 84,
     "metadata": {},
     "output_type": "execute_result"
    }
   ],
   "source": [
    "f10obs.iloc[5:27+5,0:2] # obs corresponding forecast 1"
   ]
  },
  {
   "cell_type": "code",
   "execution_count": 85,
   "id": "6d5d7670",
   "metadata": {
    "scrolled": true
   },
   "outputs": [
    {
     "data": {
      "text/html": [
       "<div>\n",
       "<style scoped>\n",
       "    .dataframe tbody tr th:only-of-type {\n",
       "        vertical-align: middle;\n",
       "    }\n",
       "\n",
       "    .dataframe tbody tr th {\n",
       "        vertical-align: top;\n",
       "    }\n",
       "\n",
       "    .dataframe thead th {\n",
       "        text-align: right;\n",
       "    }\n",
       "</style>\n",
       "<table border=\"1\" class=\"dataframe\">\n",
       "  <thead>\n",
       "    <tr style=\"text-align: right;\">\n",
       "      <th></th>\n",
       "      <th>Date.1</th>\n",
       "      <th>Noon Flux</th>\n",
       "    </tr>\n",
       "  </thead>\n",
       "  <tbody>\n",
       "    <tr>\n",
       "      <th>12</th>\n",
       "      <td>2020-01-14</td>\n",
       "      <td>71.9</td>\n",
       "    </tr>\n",
       "    <tr>\n",
       "      <th>13</th>\n",
       "      <td>2020-01-15</td>\n",
       "      <td>71.2</td>\n",
       "    </tr>\n",
       "    <tr>\n",
       "      <th>14</th>\n",
       "      <td>2020-01-16</td>\n",
       "      <td>71.8</td>\n",
       "    </tr>\n",
       "    <tr>\n",
       "      <th>15</th>\n",
       "      <td>2020-01-17</td>\n",
       "      <td>70.1</td>\n",
       "    </tr>\n",
       "    <tr>\n",
       "      <th>16</th>\n",
       "      <td>2020-01-18</td>\n",
       "      <td>71.3</td>\n",
       "    </tr>\n",
       "    <tr>\n",
       "      <th>17</th>\n",
       "      <td>2020-01-19</td>\n",
       "      <td>71.8</td>\n",
       "    </tr>\n",
       "    <tr>\n",
       "      <th>18</th>\n",
       "      <td>2020-01-20</td>\n",
       "      <td>71.2</td>\n",
       "    </tr>\n",
       "    <tr>\n",
       "      <th>19</th>\n",
       "      <td>2020-01-21</td>\n",
       "      <td>70.5</td>\n",
       "    </tr>\n",
       "    <tr>\n",
       "      <th>20</th>\n",
       "      <td>2020-01-22</td>\n",
       "      <td>71.9</td>\n",
       "    </tr>\n",
       "    <tr>\n",
       "      <th>21</th>\n",
       "      <td>2020-01-23</td>\n",
       "      <td>70.8</td>\n",
       "    </tr>\n",
       "    <tr>\n",
       "      <th>22</th>\n",
       "      <td>2020-01-24</td>\n",
       "      <td>71.0</td>\n",
       "    </tr>\n",
       "    <tr>\n",
       "      <th>23</th>\n",
       "      <td>2020-01-25</td>\n",
       "      <td>72.7</td>\n",
       "    </tr>\n",
       "    <tr>\n",
       "      <th>24</th>\n",
       "      <td>2020-01-26</td>\n",
       "      <td>74.7</td>\n",
       "    </tr>\n",
       "    <tr>\n",
       "      <th>25</th>\n",
       "      <td>2020-01-27</td>\n",
       "      <td>72.9</td>\n",
       "    </tr>\n",
       "    <tr>\n",
       "      <th>26</th>\n",
       "      <td>2020-01-28</td>\n",
       "      <td>74.2</td>\n",
       "    </tr>\n",
       "    <tr>\n",
       "      <th>27</th>\n",
       "      <td>2020-01-29</td>\n",
       "      <td>74.3</td>\n",
       "    </tr>\n",
       "    <tr>\n",
       "      <th>28</th>\n",
       "      <td>2020-01-30</td>\n",
       "      <td>74.1</td>\n",
       "    </tr>\n",
       "    <tr>\n",
       "      <th>29</th>\n",
       "      <td>2020-01-31</td>\n",
       "      <td>73.9</td>\n",
       "    </tr>\n",
       "    <tr>\n",
       "      <th>30</th>\n",
       "      <td>2020-02-01</td>\n",
       "      <td>72.5</td>\n",
       "    </tr>\n",
       "    <tr>\n",
       "      <th>31</th>\n",
       "      <td>2020-02-02</td>\n",
       "      <td>72.2</td>\n",
       "    </tr>\n",
       "    <tr>\n",
       "      <th>32</th>\n",
       "      <td>2020-02-03</td>\n",
       "      <td>72.1</td>\n",
       "    </tr>\n",
       "    <tr>\n",
       "      <th>33</th>\n",
       "      <td>2020-02-04</td>\n",
       "      <td>70.3</td>\n",
       "    </tr>\n",
       "    <tr>\n",
       "      <th>34</th>\n",
       "      <td>2020-02-05</td>\n",
       "      <td>70.6</td>\n",
       "    </tr>\n",
       "    <tr>\n",
       "      <th>35</th>\n",
       "      <td>2020-02-06</td>\n",
       "      <td>71.3</td>\n",
       "    </tr>\n",
       "    <tr>\n",
       "      <th>36</th>\n",
       "      <td>2020-02-07</td>\n",
       "      <td>70.8</td>\n",
       "    </tr>\n",
       "    <tr>\n",
       "      <th>37</th>\n",
       "      <td>2020-02-08</td>\n",
       "      <td>72.0</td>\n",
       "    </tr>\n",
       "    <tr>\n",
       "      <th>38</th>\n",
       "      <td>2020-02-09</td>\n",
       "      <td>70.6</td>\n",
       "    </tr>\n",
       "  </tbody>\n",
       "</table>\n",
       "</div>"
      ],
      "text/plain": [
       "       Date.1  Noon Flux\n",
       "12 2020-01-14       71.9\n",
       "13 2020-01-15       71.2\n",
       "14 2020-01-16       71.8\n",
       "15 2020-01-17       70.1\n",
       "16 2020-01-18       71.3\n",
       "17 2020-01-19       71.8\n",
       "18 2020-01-20       71.2\n",
       "19 2020-01-21       70.5\n",
       "20 2020-01-22       71.9\n",
       "21 2020-01-23       70.8\n",
       "22 2020-01-24       71.0\n",
       "23 2020-01-25       72.7\n",
       "24 2020-01-26       74.7\n",
       "25 2020-01-27       72.9\n",
       "26 2020-01-28       74.2\n",
       "27 2020-01-29       74.3\n",
       "28 2020-01-30       74.1\n",
       "29 2020-01-31       73.9\n",
       "30 2020-02-01       72.5\n",
       "31 2020-02-02       72.2\n",
       "32 2020-02-03       72.1\n",
       "33 2020-02-04       70.3\n",
       "34 2020-02-05       70.6\n",
       "35 2020-02-06       71.3\n",
       "36 2020-02-07       70.8\n",
       "37 2020-02-08       72.0\n",
       "38 2020-02-09       70.6"
      ]
     },
     "execution_count": 85,
     "metadata": {},
     "output_type": "execute_result"
    }
   ],
   "source": [
    "f10obs.iloc[12:12+27,0:2] # obs corresponding to forecast 2"
   ]
  },
  {
   "cell_type": "code",
   "execution_count": 86,
   "id": "295184cd",
   "metadata": {},
   "outputs": [
    {
     "data": {
      "text/html": [
       "<div>\n",
       "<style scoped>\n",
       "    .dataframe tbody tr th:only-of-type {\n",
       "        vertical-align: middle;\n",
       "    }\n",
       "\n",
       "    .dataframe tbody tr th {\n",
       "        vertical-align: top;\n",
       "    }\n",
       "\n",
       "    .dataframe thead th {\n",
       "        text-align: right;\n",
       "    }\n",
       "</style>\n",
       "<table border=\"1\" class=\"dataframe\">\n",
       "  <thead>\n",
       "    <tr style=\"text-align: right;\">\n",
       "      <th></th>\n",
       "      <th>Date.1</th>\n",
       "      <th>Noon Flux</th>\n",
       "    </tr>\n",
       "  </thead>\n",
       "  <tbody>\n",
       "    <tr>\n",
       "      <th>19</th>\n",
       "      <td>2020-01-21</td>\n",
       "      <td>70.5</td>\n",
       "    </tr>\n",
       "    <tr>\n",
       "      <th>20</th>\n",
       "      <td>2020-01-22</td>\n",
       "      <td>71.9</td>\n",
       "    </tr>\n",
       "    <tr>\n",
       "      <th>21</th>\n",
       "      <td>2020-01-23</td>\n",
       "      <td>70.8</td>\n",
       "    </tr>\n",
       "    <tr>\n",
       "      <th>22</th>\n",
       "      <td>2020-01-24</td>\n",
       "      <td>71.0</td>\n",
       "    </tr>\n",
       "    <tr>\n",
       "      <th>23</th>\n",
       "      <td>2020-01-25</td>\n",
       "      <td>72.7</td>\n",
       "    </tr>\n",
       "    <tr>\n",
       "      <th>24</th>\n",
       "      <td>2020-01-26</td>\n",
       "      <td>74.7</td>\n",
       "    </tr>\n",
       "    <tr>\n",
       "      <th>25</th>\n",
       "      <td>2020-01-27</td>\n",
       "      <td>72.9</td>\n",
       "    </tr>\n",
       "    <tr>\n",
       "      <th>26</th>\n",
       "      <td>2020-01-28</td>\n",
       "      <td>74.2</td>\n",
       "    </tr>\n",
       "    <tr>\n",
       "      <th>27</th>\n",
       "      <td>2020-01-29</td>\n",
       "      <td>74.3</td>\n",
       "    </tr>\n",
       "    <tr>\n",
       "      <th>28</th>\n",
       "      <td>2020-01-30</td>\n",
       "      <td>74.1</td>\n",
       "    </tr>\n",
       "    <tr>\n",
       "      <th>29</th>\n",
       "      <td>2020-01-31</td>\n",
       "      <td>73.9</td>\n",
       "    </tr>\n",
       "    <tr>\n",
       "      <th>30</th>\n",
       "      <td>2020-02-01</td>\n",
       "      <td>72.5</td>\n",
       "    </tr>\n",
       "    <tr>\n",
       "      <th>31</th>\n",
       "      <td>2020-02-02</td>\n",
       "      <td>72.2</td>\n",
       "    </tr>\n",
       "    <tr>\n",
       "      <th>32</th>\n",
       "      <td>2020-02-03</td>\n",
       "      <td>72.1</td>\n",
       "    </tr>\n",
       "    <tr>\n",
       "      <th>33</th>\n",
       "      <td>2020-02-04</td>\n",
       "      <td>70.3</td>\n",
       "    </tr>\n",
       "    <tr>\n",
       "      <th>34</th>\n",
       "      <td>2020-02-05</td>\n",
       "      <td>70.6</td>\n",
       "    </tr>\n",
       "    <tr>\n",
       "      <th>35</th>\n",
       "      <td>2020-02-06</td>\n",
       "      <td>71.3</td>\n",
       "    </tr>\n",
       "    <tr>\n",
       "      <th>36</th>\n",
       "      <td>2020-02-07</td>\n",
       "      <td>70.8</td>\n",
       "    </tr>\n",
       "    <tr>\n",
       "      <th>37</th>\n",
       "      <td>2020-02-08</td>\n",
       "      <td>72.0</td>\n",
       "    </tr>\n",
       "    <tr>\n",
       "      <th>38</th>\n",
       "      <td>2020-02-09</td>\n",
       "      <td>70.6</td>\n",
       "    </tr>\n",
       "    <tr>\n",
       "      <th>39</th>\n",
       "      <td>2020-02-10</td>\n",
       "      <td>70.2</td>\n",
       "    </tr>\n",
       "    <tr>\n",
       "      <th>40</th>\n",
       "      <td>2020-02-11</td>\n",
       "      <td>71.1</td>\n",
       "    </tr>\n",
       "    <tr>\n",
       "      <th>41</th>\n",
       "      <td>2020-02-12</td>\n",
       "      <td>71.6</td>\n",
       "    </tr>\n",
       "    <tr>\n",
       "      <th>42</th>\n",
       "      <td>2020-02-13</td>\n",
       "      <td>71.2</td>\n",
       "    </tr>\n",
       "    <tr>\n",
       "      <th>43</th>\n",
       "      <td>2020-02-14</td>\n",
       "      <td>71.3</td>\n",
       "    </tr>\n",
       "    <tr>\n",
       "      <th>44</th>\n",
       "      <td>2020-02-15</td>\n",
       "      <td>70.6</td>\n",
       "    </tr>\n",
       "    <tr>\n",
       "      <th>45</th>\n",
       "      <td>2020-02-16</td>\n",
       "      <td>70.5</td>\n",
       "    </tr>\n",
       "  </tbody>\n",
       "</table>\n",
       "</div>"
      ],
      "text/plain": [
       "       Date.1  Noon Flux\n",
       "19 2020-01-21       70.5\n",
       "20 2020-01-22       71.9\n",
       "21 2020-01-23       70.8\n",
       "22 2020-01-24       71.0\n",
       "23 2020-01-25       72.7\n",
       "24 2020-01-26       74.7\n",
       "25 2020-01-27       72.9\n",
       "26 2020-01-28       74.2\n",
       "27 2020-01-29       74.3\n",
       "28 2020-01-30       74.1\n",
       "29 2020-01-31       73.9\n",
       "30 2020-02-01       72.5\n",
       "31 2020-02-02       72.2\n",
       "32 2020-02-03       72.1\n",
       "33 2020-02-04       70.3\n",
       "34 2020-02-05       70.6\n",
       "35 2020-02-06       71.3\n",
       "36 2020-02-07       70.8\n",
       "37 2020-02-08       72.0\n",
       "38 2020-02-09       70.6\n",
       "39 2020-02-10       70.2\n",
       "40 2020-02-11       71.1\n",
       "41 2020-02-12       71.6\n",
       "42 2020-02-13       71.2\n",
       "43 2020-02-14       71.3\n",
       "44 2020-02-15       70.6\n",
       "45 2020-02-16       70.5"
      ]
     },
     "execution_count": 86,
     "metadata": {},
     "output_type": "execute_result"
    }
   ],
   "source": [
    "f10obs.iloc[19:19+27,0:2] # obs corresponding to forecast 3"
   ]
  },
  {
   "cell_type": "markdown",
   "id": "7ad25cea",
   "metadata": {},
   "source": [
    "<h4> Writing a loop to populate a list of obs corresponding to forecast dates </h4>"
   ]
  },
  {
   "cell_type": "markdown",
   "id": "95e6d413",
   "metadata": {},
   "source": [
    "The pattern emerges... 7 gets added each iteration to the start and end position of the row"
   ]
  },
  {
   "cell_type": "code",
   "execution_count": 87,
   "id": "32ddc8c2",
   "metadata": {},
   "outputs": [
    {
     "data": {
      "text/plain": [
       "[0, 7, 14, 21, 28]"
      ]
     },
     "execution_count": 87,
     "metadata": {},
     "output_type": "execute_result"
    }
   ],
   "source": [
    "list(range(0,num_pdfs*7,7)) # recalling multiples of 7"
   ]
  },
  {
   "cell_type": "code",
   "execution_count": 88,
   "id": "832d605f",
   "metadata": {},
   "outputs": [],
   "source": [
    "dates =[]\n",
    "\n",
    "for i in range(0,num_pdfs*7,7):\n",
    "    r = f10obs.iloc[5 + (i):5 +(i) +27,0:2]\n",
    "    dates.append(r)    "
   ]
  },
  {
   "cell_type": "code",
   "execution_count": 89,
   "id": "844ef2f8",
   "metadata": {},
   "outputs": [],
   "source": [
    "dates =[] \n",
    "\n",
    "for i in range(0,num_pdfs*7,7):\n",
    "    r = f10obs.iloc[5 + (i):5 +(i) +27,1:2] # just the values without dates\n",
    "    dates.append(r)"
   ]
  },
  {
   "cell_type": "code",
   "execution_count": 90,
   "id": "37a3e700",
   "metadata": {
    "scrolled": true
   },
   "outputs": [
    {
     "name": "stdout",
     "output_type": "stream",
     "text": [
      "This \"pandas list\" has 5 elements but we need 135, so we will flatten the list.\n"
     ]
    }
   ],
   "source": [
    "print(f'This \"pandas list\" has {len(dates)} elements but we need {num_pdfs *27 }, so we will flatten the list.')"
   ]
  },
  {
   "cell_type": "code",
   "execution_count": 91,
   "id": "cde3ba07",
   "metadata": {},
   "outputs": [
    {
     "data": {
      "text/plain": [
       "[[71.6],\n",
       " [73.7],\n",
       " [74.4],\n",
       " [72.8],\n",
       " [73.5],\n",
       " [71.9],\n",
       " [71.5],\n",
       " [71.9],\n",
       " [71.2],\n",
       " [71.8],\n",
       " [70.1],\n",
       " [71.3],\n",
       " [71.8],\n",
       " [71.2],\n",
       " [70.5],\n",
       " [71.9],\n",
       " [70.8],\n",
       " [71.0],\n",
       " [72.7],\n",
       " [74.7],\n",
       " [72.9],\n",
       " [74.2],\n",
       " [74.3],\n",
       " [74.1],\n",
       " [73.9],\n",
       " [72.5],\n",
       " [72.2]]"
      ]
     },
     "execution_count": 91,
     "metadata": {},
     "output_type": "execute_result"
    }
   ],
   "source": [
    "dates[0].values.tolist()"
   ]
  },
  {
   "cell_type": "markdown",
   "id": "bf561f13",
   "metadata": {},
   "source": [
    "Interating through each pandas list to convert to a list."
   ]
  },
  {
   "cell_type": "code",
   "execution_count": 92,
   "id": "15e4b326",
   "metadata": {},
   "outputs": [],
   "source": [
    "ll=[]\n",
    "\n",
    "for l in range(num_pdfs):\n",
    "    a = dates[l].values.tolist()\n",
    "    ll.append(a)"
   ]
  },
  {
   "cell_type": "markdown",
   "id": "160b0fae",
   "metadata": {},
   "source": [
    "Flattening the list twice"
   ]
  },
  {
   "cell_type": "code",
   "execution_count": 93,
   "id": "a05ab1c4",
   "metadata": {},
   "outputs": [],
   "source": [
    "flat=[]\n",
    "\n",
    "for sublist in ll:\n",
    "    for element in sublist:\n",
    "        flat.append(element)"
   ]
  },
  {
   "cell_type": "code",
   "execution_count": 94,
   "id": "6814e064",
   "metadata": {},
   "outputs": [],
   "source": [
    "flat2=[]\n",
    "\n",
    "for sublist in flat:\n",
    "    for element in sublist:\n",
    "        flat2.append(element)"
   ]
  },
  {
   "cell_type": "code",
   "execution_count": 95,
   "id": "75ece2d2",
   "metadata": {},
   "outputs": [
    {
     "name": "stdout",
     "output_type": "stream",
     "text": [
      "There are now 135 observed values corresponding to 135 forecasts in the correct order which can now be merged into 1 df.\n"
     ]
    }
   ],
   "source": [
    "print(f'There are now {len(flat2)} observed values corresponding to {num_pdfs*27} forecasts in the correct order which can now be merged into 1 df.')"
   ]
  },
  {
   "cell_type": "markdown",
   "id": "e2a619b6",
   "metadata": {},
   "source": [
    "<h4>Final Merge</h4>"
   ]
  },
  {
   "cell_type": "code",
   "execution_count": 96,
   "id": "cbcf24be",
   "metadata": {},
   "outputs": [],
   "source": [
    "complete_df = final_df.copy()"
   ]
  },
  {
   "cell_type": "code",
   "execution_count": 97,
   "id": "780aa981",
   "metadata": {},
   "outputs": [
    {
     "data": {
      "text/html": [
       "<div>\n",
       "<style scoped>\n",
       "    .dataframe tbody tr th:only-of-type {\n",
       "        vertical-align: middle;\n",
       "    }\n",
       "\n",
       "    .dataframe tbody tr th {\n",
       "        vertical-align: top;\n",
       "    }\n",
       "\n",
       "    .dataframe thead th {\n",
       "        text-align: right;\n",
       "    }\n",
       "</style>\n",
       "<table border=\"1\" class=\"dataframe\">\n",
       "  <thead>\n",
       "    <tr style=\"text-align: right;\">\n",
       "      <th></th>\n",
       "      <th>Date</th>\n",
       "      <th>Radio</th>\n",
       "    </tr>\n",
       "  </thead>\n",
       "  <tbody>\n",
       "    <tr>\n",
       "      <th>0</th>\n",
       "      <td>06 Jan 2020</td>\n",
       "      <td>72</td>\n",
       "    </tr>\n",
       "    <tr>\n",
       "      <th>1</th>\n",
       "      <td>07 Jan 2020</td>\n",
       "      <td>72.0</td>\n",
       "    </tr>\n",
       "    <tr>\n",
       "      <th>2</th>\n",
       "      <td>08 Jan 2020</td>\n",
       "      <td>72.0</td>\n",
       "    </tr>\n",
       "    <tr>\n",
       "      <th>3</th>\n",
       "      <td>09 Jan 2020</td>\n",
       "      <td>72.0</td>\n",
       "    </tr>\n",
       "    <tr>\n",
       "      <th>4</th>\n",
       "      <td>10 Jan 2020</td>\n",
       "      <td>72.0</td>\n",
       "    </tr>\n",
       "  </tbody>\n",
       "</table>\n",
       "</div>"
      ],
      "text/plain": [
       "          Date Radio\n",
       "0  06 Jan 2020    72\n",
       "1  07 Jan 2020  72.0\n",
       "2  08 Jan 2020  72.0\n",
       "3  09 Jan 2020  72.0\n",
       "4  10 Jan 2020  72.0"
      ]
     },
     "execution_count": 97,
     "metadata": {},
     "output_type": "execute_result"
    }
   ],
   "source": [
    "complete_df = complete_df.rename(columns={\"Kp\": \"Forecast Kp\"})\n",
    "complete_df.head()"
   ]
  },
  {
   "cell_type": "code",
   "execution_count": 98,
   "id": "4e2da720",
   "metadata": {
    "scrolled": true
   },
   "outputs": [
    {
     "data": {
      "text/html": [
       "<div>\n",
       "<style scoped>\n",
       "    .dataframe tbody tr th:only-of-type {\n",
       "        vertical-align: middle;\n",
       "    }\n",
       "\n",
       "    .dataframe tbody tr th {\n",
       "        vertical-align: top;\n",
       "    }\n",
       "\n",
       "    .dataframe thead th {\n",
       "        text-align: right;\n",
       "    }\n",
       "</style>\n",
       "<table border=\"1\" class=\"dataframe\">\n",
       "  <thead>\n",
       "    <tr style=\"text-align: right;\">\n",
       "      <th></th>\n",
       "      <th>Date</th>\n",
       "      <th>Radio</th>\n",
       "      <th>Observed F10</th>\n",
       "    </tr>\n",
       "  </thead>\n",
       "  <tbody>\n",
       "    <tr>\n",
       "      <th>0</th>\n",
       "      <td>06 Jan 2020</td>\n",
       "      <td>72</td>\n",
       "      <td>71.6</td>\n",
       "    </tr>\n",
       "    <tr>\n",
       "      <th>1</th>\n",
       "      <td>07 Jan 2020</td>\n",
       "      <td>72.0</td>\n",
       "      <td>73.7</td>\n",
       "    </tr>\n",
       "    <tr>\n",
       "      <th>2</th>\n",
       "      <td>08 Jan 2020</td>\n",
       "      <td>72.0</td>\n",
       "      <td>74.4</td>\n",
       "    </tr>\n",
       "    <tr>\n",
       "      <th>3</th>\n",
       "      <td>09 Jan 2020</td>\n",
       "      <td>72.0</td>\n",
       "      <td>72.8</td>\n",
       "    </tr>\n",
       "    <tr>\n",
       "      <th>4</th>\n",
       "      <td>10 Jan 2020</td>\n",
       "      <td>72.0</td>\n",
       "      <td>73.5</td>\n",
       "    </tr>\n",
       "  </tbody>\n",
       "</table>\n",
       "</div>"
      ],
      "text/plain": [
       "          Date Radio  Observed F10\n",
       "0  06 Jan 2020    72          71.6\n",
       "1  07 Jan 2020  72.0          73.7\n",
       "2  08 Jan 2020  72.0          74.4\n",
       "3  09 Jan 2020  72.0          72.8\n",
       "4  10 Jan 2020  72.0          73.5"
      ]
     },
     "execution_count": 98,
     "metadata": {},
     "output_type": "execute_result"
    }
   ],
   "source": [
    "complete_df['Observed F10'] = flat2\n",
    "complete_df.head()"
   ]
  },
  {
   "cell_type": "code",
   "execution_count": 99,
   "id": "0331385d",
   "metadata": {},
   "outputs": [
    {
     "data": {
      "text/html": [
       "<div>\n",
       "<style scoped>\n",
       "    .dataframe tbody tr th:only-of-type {\n",
       "        vertical-align: middle;\n",
       "    }\n",
       "\n",
       "    .dataframe tbody tr th {\n",
       "        vertical-align: top;\n",
       "    }\n",
       "\n",
       "    .dataframe thead th {\n",
       "        text-align: right;\n",
       "    }\n",
       "</style>\n",
       "<table border=\"1\" class=\"dataframe\">\n",
       "  <thead>\n",
       "    <tr style=\"text-align: right;\">\n",
       "      <th></th>\n",
       "      <th>Date</th>\n",
       "      <th>Forecast F10</th>\n",
       "      <th>Observed F10</th>\n",
       "    </tr>\n",
       "  </thead>\n",
       "  <tbody>\n",
       "    <tr>\n",
       "      <th>0</th>\n",
       "      <td>06 Jan 2020</td>\n",
       "      <td>72</td>\n",
       "      <td>71.6</td>\n",
       "    </tr>\n",
       "    <tr>\n",
       "      <th>1</th>\n",
       "      <td>07 Jan 2020</td>\n",
       "      <td>72.0</td>\n",
       "      <td>73.7</td>\n",
       "    </tr>\n",
       "    <tr>\n",
       "      <th>2</th>\n",
       "      <td>08 Jan 2020</td>\n",
       "      <td>72.0</td>\n",
       "      <td>74.4</td>\n",
       "    </tr>\n",
       "    <tr>\n",
       "      <th>3</th>\n",
       "      <td>09 Jan 2020</td>\n",
       "      <td>72.0</td>\n",
       "      <td>72.8</td>\n",
       "    </tr>\n",
       "    <tr>\n",
       "      <th>4</th>\n",
       "      <td>10 Jan 2020</td>\n",
       "      <td>72.0</td>\n",
       "      <td>73.5</td>\n",
       "    </tr>\n",
       "  </tbody>\n",
       "</table>\n",
       "</div>"
      ],
      "text/plain": [
       "          Date Forecast F10  Observed F10\n",
       "0  06 Jan 2020           72          71.6\n",
       "1  07 Jan 2020         72.0          73.7\n",
       "2  08 Jan 2020         72.0          74.4\n",
       "3  09 Jan 2020         72.0          72.8\n",
       "4  10 Jan 2020         72.0          73.5"
      ]
     },
     "execution_count": 99,
     "metadata": {},
     "output_type": "execute_result"
    }
   ],
   "source": [
    "complete_df = complete_df.rename(columns={\"Radio\": \"Forecast F10\"})\n",
    "complete_df.head()"
   ]
  },
  {
   "cell_type": "code",
   "execution_count": 100,
   "id": "3bdb7d54",
   "metadata": {},
   "outputs": [
    {
     "data": {
      "text/html": [
       "<div>\n",
       "<style scoped>\n",
       "    .dataframe tbody tr th:only-of-type {\n",
       "        vertical-align: middle;\n",
       "    }\n",
       "\n",
       "    .dataframe tbody tr th {\n",
       "        vertical-align: top;\n",
       "    }\n",
       "\n",
       "    .dataframe thead th {\n",
       "        text-align: right;\n",
       "    }\n",
       "</style>\n",
       "<table border=\"1\" class=\"dataframe\">\n",
       "  <thead>\n",
       "    <tr style=\"text-align: right;\">\n",
       "      <th></th>\n",
       "      <th>Date</th>\n",
       "      <th>Forecast F10</th>\n",
       "      <th>Observed F10</th>\n",
       "    </tr>\n",
       "  </thead>\n",
       "  <tbody>\n",
       "    <tr>\n",
       "      <th>0</th>\n",
       "      <td>06 Jan 2020</td>\n",
       "      <td>72</td>\n",
       "      <td>72.0</td>\n",
       "    </tr>\n",
       "    <tr>\n",
       "      <th>1</th>\n",
       "      <td>07 Jan 2020</td>\n",
       "      <td>72.0</td>\n",
       "      <td>74.0</td>\n",
       "    </tr>\n",
       "    <tr>\n",
       "      <th>2</th>\n",
       "      <td>08 Jan 2020</td>\n",
       "      <td>72.0</td>\n",
       "      <td>74.0</td>\n",
       "    </tr>\n",
       "    <tr>\n",
       "      <th>3</th>\n",
       "      <td>09 Jan 2020</td>\n",
       "      <td>72.0</td>\n",
       "      <td>73.0</td>\n",
       "    </tr>\n",
       "    <tr>\n",
       "      <th>4</th>\n",
       "      <td>10 Jan 2020</td>\n",
       "      <td>72.0</td>\n",
       "      <td>74.0</td>\n",
       "    </tr>\n",
       "  </tbody>\n",
       "</table>\n",
       "</div>"
      ],
      "text/plain": [
       "          Date Forecast F10  Observed F10\n",
       "0  06 Jan 2020           72          72.0\n",
       "1  07 Jan 2020         72.0          74.0\n",
       "2  08 Jan 2020         72.0          74.0\n",
       "3  09 Jan 2020         72.0          73.0\n",
       "4  10 Jan 2020         72.0          74.0"
      ]
     },
     "execution_count": 100,
     "metadata": {},
     "output_type": "execute_result"
    }
   ],
   "source": [
    "#Rounding Observed Kp to nearest integer\n",
    "\n",
    "complete_df['Observed F10'] = complete_df['Observed F10'].round()\n",
    "complete_df.head()"
   ]
  },
  {
   "cell_type": "markdown",
   "id": "09041973",
   "metadata": {},
   "source": [
    "<h3>Final Table for Analysis</h3>"
   ]
  },
  {
   "cell_type": "code",
   "execution_count": 101,
   "id": "87e9ee9a",
   "metadata": {},
   "outputs": [],
   "source": [
    "complete_df.dropna(how=\"any\", inplace=True)"
   ]
  },
  {
   "cell_type": "code",
   "execution_count": 102,
   "id": "715d5872",
   "metadata": {},
   "outputs": [
    {
     "data": {
      "text/html": [
       "<div>\n",
       "<style scoped>\n",
       "    .dataframe tbody tr th:only-of-type {\n",
       "        vertical-align: middle;\n",
       "    }\n",
       "\n",
       "    .dataframe tbody tr th {\n",
       "        vertical-align: top;\n",
       "    }\n",
       "\n",
       "    .dataframe thead th {\n",
       "        text-align: right;\n",
       "    }\n",
       "</style>\n",
       "<table border=\"1\" class=\"dataframe\">\n",
       "  <thead>\n",
       "    <tr style=\"text-align: right;\">\n",
       "      <th></th>\n",
       "      <th>Date</th>\n",
       "      <th>Forecast F10</th>\n",
       "      <th>Observed F10</th>\n",
       "    </tr>\n",
       "  </thead>\n",
       "  <tbody>\n",
       "    <tr>\n",
       "      <th>0</th>\n",
       "      <td>06 Jan 2020</td>\n",
       "      <td>72</td>\n",
       "      <td>72</td>\n",
       "    </tr>\n",
       "    <tr>\n",
       "      <th>1</th>\n",
       "      <td>07 Jan 2020</td>\n",
       "      <td>72</td>\n",
       "      <td>74</td>\n",
       "    </tr>\n",
       "    <tr>\n",
       "      <th>2</th>\n",
       "      <td>08 Jan 2020</td>\n",
       "      <td>72</td>\n",
       "      <td>74</td>\n",
       "    </tr>\n",
       "    <tr>\n",
       "      <th>3</th>\n",
       "      <td>09 Jan 2020</td>\n",
       "      <td>72</td>\n",
       "      <td>73</td>\n",
       "    </tr>\n",
       "    <tr>\n",
       "      <th>4</th>\n",
       "      <td>10 Jan 2020</td>\n",
       "      <td>72</td>\n",
       "      <td>74</td>\n",
       "    </tr>\n",
       "  </tbody>\n",
       "</table>\n",
       "</div>"
      ],
      "text/plain": [
       "          Date  Forecast F10  Observed F10\n",
       "0  06 Jan 2020            72            72\n",
       "1  07 Jan 2020            72            74\n",
       "2  08 Jan 2020            72            74\n",
       "3  09 Jan 2020            72            73\n",
       "4  10 Jan 2020            72            74"
      ]
     },
     "execution_count": 102,
     "metadata": {},
     "output_type": "execute_result"
    }
   ],
   "source": [
    "complete_df['Forecast F10']= complete_df['Forecast F10'].astype('int')\n",
    "complete_df['Observed F10']= complete_df['Observed F10'].astype('int')\n",
    "complete_df.head()"
   ]
  },
  {
   "cell_type": "markdown",
   "id": "ae144c3e",
   "metadata": {},
   "source": [
    "<h3>Forecast Performance</h3>"
   ]
  },
  {
   "cell_type": "code",
   "execution_count": 103,
   "id": "c8454c2f",
   "metadata": {},
   "outputs": [
    {
     "data": {
      "text/html": [
       "<div>\n",
       "<style scoped>\n",
       "    .dataframe tbody tr th:only-of-type {\n",
       "        vertical-align: middle;\n",
       "    }\n",
       "\n",
       "    .dataframe tbody tr th {\n",
       "        vertical-align: top;\n",
       "    }\n",
       "\n",
       "    .dataframe thead th {\n",
       "        text-align: right;\n",
       "    }\n",
       "</style>\n",
       "<table border=\"1\" class=\"dataframe\">\n",
       "  <thead>\n",
       "    <tr style=\"text-align: right;\">\n",
       "      <th></th>\n",
       "      <th>Date</th>\n",
       "      <th>Forecast F10</th>\n",
       "      <th>Observed F10</th>\n",
       "      <th>Forecast Error</th>\n",
       "    </tr>\n",
       "  </thead>\n",
       "  <tbody>\n",
       "    <tr>\n",
       "      <th>0</th>\n",
       "      <td>06 Jan 2020</td>\n",
       "      <td>72</td>\n",
       "      <td>72</td>\n",
       "      <td>0</td>\n",
       "    </tr>\n",
       "    <tr>\n",
       "      <th>1</th>\n",
       "      <td>07 Jan 2020</td>\n",
       "      <td>72</td>\n",
       "      <td>74</td>\n",
       "      <td>-2</td>\n",
       "    </tr>\n",
       "    <tr>\n",
       "      <th>2</th>\n",
       "      <td>08 Jan 2020</td>\n",
       "      <td>72</td>\n",
       "      <td>74</td>\n",
       "      <td>-2</td>\n",
       "    </tr>\n",
       "    <tr>\n",
       "      <th>3</th>\n",
       "      <td>09 Jan 2020</td>\n",
       "      <td>72</td>\n",
       "      <td>73</td>\n",
       "      <td>-1</td>\n",
       "    </tr>\n",
       "    <tr>\n",
       "      <th>4</th>\n",
       "      <td>10 Jan 2020</td>\n",
       "      <td>72</td>\n",
       "      <td>74</td>\n",
       "      <td>-2</td>\n",
       "    </tr>\n",
       "  </tbody>\n",
       "</table>\n",
       "</div>"
      ],
      "text/plain": [
       "          Date  Forecast F10  Observed F10  Forecast Error\n",
       "0  06 Jan 2020            72            72               0\n",
       "1  07 Jan 2020            72            74              -2\n",
       "2  08 Jan 2020            72            74              -2\n",
       "3  09 Jan 2020            72            73              -1\n",
       "4  10 Jan 2020            72            74              -2"
      ]
     },
     "execution_count": 103,
     "metadata": {},
     "output_type": "execute_result"
    }
   ],
   "source": [
    "complete_df[\"Forecast Error\"] = complete_df[\"Forecast F10\"] - complete_df[\"Observed F10\"] \n",
    "complete_df.head()\n",
    "\n",
    "# negative under forecast\n",
    "# positive over forecast"
   ]
  },
  {
   "cell_type": "code",
   "execution_count": 104,
   "id": "cd23d67c",
   "metadata": {},
   "outputs": [
    {
     "data": {
      "text/html": [
       "<div>\n",
       "<style scoped>\n",
       "    .dataframe tbody tr th:only-of-type {\n",
       "        vertical-align: middle;\n",
       "    }\n",
       "\n",
       "    .dataframe tbody tr th {\n",
       "        vertical-align: top;\n",
       "    }\n",
       "\n",
       "    .dataframe thead th {\n",
       "        text-align: right;\n",
       "    }\n",
       "</style>\n",
       "<table border=\"1\" class=\"dataframe\">\n",
       "  <thead>\n",
       "    <tr style=\"text-align: right;\">\n",
       "      <th></th>\n",
       "      <th>Date</th>\n",
       "      <th>Forecast F10</th>\n",
       "      <th>Observed F10</th>\n",
       "      <th>Forecast Error</th>\n",
       "      <th>Abs Error</th>\n",
       "    </tr>\n",
       "  </thead>\n",
       "  <tbody>\n",
       "    <tr>\n",
       "      <th>0</th>\n",
       "      <td>06 Jan 2020</td>\n",
       "      <td>72</td>\n",
       "      <td>72</td>\n",
       "      <td>0</td>\n",
       "      <td>0</td>\n",
       "    </tr>\n",
       "    <tr>\n",
       "      <th>1</th>\n",
       "      <td>07 Jan 2020</td>\n",
       "      <td>72</td>\n",
       "      <td>74</td>\n",
       "      <td>-2</td>\n",
       "      <td>2</td>\n",
       "    </tr>\n",
       "    <tr>\n",
       "      <th>2</th>\n",
       "      <td>08 Jan 2020</td>\n",
       "      <td>72</td>\n",
       "      <td>74</td>\n",
       "      <td>-2</td>\n",
       "      <td>2</td>\n",
       "    </tr>\n",
       "    <tr>\n",
       "      <th>3</th>\n",
       "      <td>09 Jan 2020</td>\n",
       "      <td>72</td>\n",
       "      <td>73</td>\n",
       "      <td>-1</td>\n",
       "      <td>1</td>\n",
       "    </tr>\n",
       "    <tr>\n",
       "      <th>4</th>\n",
       "      <td>10 Jan 2020</td>\n",
       "      <td>72</td>\n",
       "      <td>74</td>\n",
       "      <td>-2</td>\n",
       "      <td>2</td>\n",
       "    </tr>\n",
       "  </tbody>\n",
       "</table>\n",
       "</div>"
      ],
      "text/plain": [
       "          Date  Forecast F10  Observed F10  Forecast Error  Abs Error\n",
       "0  06 Jan 2020            72            72               0          0\n",
       "1  07 Jan 2020            72            74              -2          2\n",
       "2  08 Jan 2020            72            74              -2          2\n",
       "3  09 Jan 2020            72            73              -1          1\n",
       "4  10 Jan 2020            72            74              -2          2"
      ]
     },
     "execution_count": 104,
     "metadata": {},
     "output_type": "execute_result"
    }
   ],
   "source": [
    "complete_df['Abs Error'] = complete_df['Forecast Error'].abs()\n",
    "complete_df.head()"
   ]
  },
  {
   "cell_type": "code",
   "execution_count": 105,
   "id": "a6f2fda9",
   "metadata": {
    "scrolled": true
   },
   "outputs": [
    {
     "name": "stdout",
     "output_type": "stream",
     "text": [
      "For the 5 forecasts, beginning on 06 Jan 2020 and ending on 29 Feb 2020, the average forecast error was 1.1111111111111112 sfu.\n"
     ]
    }
   ],
   "source": [
    "last = final_df['Date'].iloc[-1]\n",
    "\n",
    "print(f'For the {num_pdfs} forecasts, beginning on {begin} and ending on {last}, the average forecast error was {sum(complete_df[\"Abs Error\"])/len(complete_df)} sfu.')"
   ]
  },
  {
   "cell_type": "code",
   "execution_count": 106,
   "id": "ecac2ea2",
   "metadata": {},
   "outputs": [
    {
     "name": "stdout",
     "output_type": "stream",
     "text": [
      "On average, F10 was underforecast by -0.2962962962962963.\n"
     ]
    }
   ],
   "source": [
    "x = sum(complete_df[\"Forecast Error\"])/len(complete_df)\n",
    "y=abs(x)\n",
    "\n",
    "if sum(complete_df[\"Forecast Error\"])/len(complete_df) < 0:\n",
    "    print(f'On average, F10 was underforecast by {x}.')\n",
    "    \n",
    "else:\n",
    "    print(f'On average, F10 was overforecast by {y}.')\n",
    "          "
   ]
  },
  {
   "cell_type": "code",
   "execution_count": 107,
   "id": "407e328f",
   "metadata": {},
   "outputs": [
    {
     "name": "stdout",
     "output_type": "stream",
     "text": [
      " The max forecast error was [4] sfu.\n"
     ]
    }
   ],
   "source": [
    "max_err = complete_df[['Abs Error']].max().tolist()\n",
    "print(f' The max forecast error was {max_err} sfu.')"
   ]
  },
  {
   "cell_type": "code",
   "execution_count": 108,
   "id": "d7fde07c",
   "metadata": {},
   "outputs": [],
   "source": [
    "count5 = complete_df['Abs Error'][complete_df['Abs Error'] > 5].count()\n",
    "count10 = complete_df['Abs Error'][complete_df['Abs Error'] > 10].count()\n",
    "count20 = complete_df['Abs Error'][complete_df['Abs Error'] > 20].count()"
   ]
  },
  {
   "cell_type": "code",
   "execution_count": 109,
   "id": "7e0a9b6e",
   "metadata": {},
   "outputs": [
    {
     "name": "stdout",
     "output_type": "stream",
     "text": [
      "The forecast was off by more the 5 sfu 0 times, 10 sfu 0 times and more than 20 sfu, 0 times.\n"
     ]
    }
   ],
   "source": [
    "print(f'The forecast was off by more the 5 sfu {count5} times, 10 sfu {count10} times and more than 20 sfu, {count20} times.')"
   ]
  },
  {
   "cell_type": "code",
   "execution_count": 110,
   "id": "fdb45bdb",
   "metadata": {},
   "outputs": [
    {
     "name": "stdout",
     "output_type": "stream",
     "text": [
      "The forecast was still perfect 36 times or 26.666666666666668 percent of the time.\n"
     ]
    }
   ],
   "source": [
    "perfect = complete_df['Forecast Error'].value_counts()[0]\n",
    "print(f'The forecast was still perfect {perfect} times or {perfect/len(complete_df) * 100} percent of the time.')"
   ]
  },
  {
   "cell_type": "code",
   "execution_count": 111,
   "id": "fd1e2041",
   "metadata": {},
   "outputs": [],
   "source": [
    "freq = complete_df['Abs Error'].value_counts()"
   ]
  },
  {
   "cell_type": "code",
   "execution_count": 112,
   "id": "48c50982",
   "metadata": {},
   "outputs": [
    {
     "data": {
      "image/png": "[encoded data removed]",
      "text/plain": [
       "<Figure size 640x480 with 1 Axes>"
      ]
     },
     "metadata": {},
     "output_type": "display_data"
    }
   ],
   "source": [
    "plt.scatter(freq.index, freq.values)\n",
    "\n",
    "plt.xlabel(\"Forecast Error\", size=10)\n",
    "plt.ylabel(\"Frequency\", size=10)\n",
    "plt.title(\"Frequency and Magnitude of Errors for F10\", size=15)\n",
    "\n",
    "plt.show()"
   ]
  },
  {
   "cell_type": "markdown",
   "id": "42556eab",
   "metadata": {},
   "source": [
    "<h4> Fitting a Regression </h4>"
   ]
  },
  {
   "cell_type": "code",
   "execution_count": 113,
   "id": "7d52e0bf",
   "metadata": {},
   "outputs": [],
   "source": [
    "lr = Ridge()"
   ]
  },
  {
   "cell_type": "code",
   "execution_count": 114,
   "id": "74e4fa37",
   "metadata": {},
   "outputs": [
    {
     "data": {
      "text/html": [
       "<style>#sk-container-id-1 {color: black;background-color: white;}#sk-container-id-1 pre{padding: 0;}#sk-container-id-1 div.sk-toggleable {background-color: white;}#sk-container-id-1 label.sk-toggleable__label {cursor: pointer;display: block;width: 100%;margin-bottom: 0;padding: 0.3em;box-sizing: border-box;text-align: center;}#sk-container-id-1 label.sk-toggleable__label-arrow:before {content: \"▸\";float: left;margin-right: 0.25em;color: #696969;}#sk-container-id-1 label.sk-toggleable__label-arrow:hover:before {color: black;}#sk-container-id-1 div.sk-estimator:hover label.sk-toggleable__label-arrow:before {color: black;}#sk-container-id-1 div.sk-toggleable__content {max-height: 0;max-width: 0;overflow: hidden;text-align: left;background-color: #f0f8ff;}#sk-container-id-1 div.sk-toggleable__content pre {margin: 0.2em;color: black;border-radius: 0.25em;background-color: #f0f8ff;}#sk-container-id-1 input.sk-toggleable__control:checked~div.sk-toggleable__content {max-height: 200px;max-width: 100%;overflow: auto;}#sk-container-id-1 input.sk-toggleable__control:checked~label.sk-toggleable__label-arrow:before {content: \"▾\";}#sk-container-id-1 div.sk-estimator input.sk-toggleable__control:checked~label.sk-toggleable__label {background-color: #d4ebff;}#sk-container-id-1 div.sk-label input.sk-toggleable__control:checked~label.sk-toggleable__label {background-color: #d4ebff;}#sk-container-id-1 input.sk-hidden--visually {border: 0;clip: rect(1px 1px 1px 1px);clip: rect(1px, 1px, 1px, 1px);height: 1px;margin: -1px;overflow: hidden;padding: 0;position: absolute;width: 1px;}#sk-container-id-1 div.sk-estimator {font-family: monospace;background-color: #f0f8ff;border: 1px dotted black;border-radius: 0.25em;box-sizing: border-box;margin-bottom: 0.5em;}#sk-container-id-1 div.sk-estimator:hover {background-color: #d4ebff;}#sk-container-id-1 div.sk-parallel-item::after {content: \"\";width: 100%;border-bottom: 1px solid gray;flex-grow: 1;}#sk-container-id-1 div.sk-label:hover label.sk-toggleable__label {background-color: #d4ebff;}#sk-container-id-1 div.sk-serial::before {content: \"\";position: absolute;border-left: 1px solid gray;box-sizing: border-box;top: 0;bottom: 0;left: 50%;z-index: 0;}#sk-container-id-1 div.sk-serial {display: flex;flex-direction: column;align-items: center;background-color: white;padding-right: 0.2em;padding-left: 0.2em;position: relative;}#sk-container-id-1 div.sk-item {position: relative;z-index: 1;}#sk-container-id-1 div.sk-parallel {display: flex;align-items: stretch;justify-content: center;background-color: white;position: relative;}#sk-container-id-1 div.sk-item::before, #sk-container-id-1 div.sk-parallel-item::before {content: \"\";position: absolute;border-left: 1px solid gray;box-sizing: border-box;top: 0;bottom: 0;left: 50%;z-index: -1;}#sk-container-id-1 div.sk-parallel-item {display: flex;flex-direction: column;z-index: 1;position: relative;background-color: white;}#sk-container-id-1 div.sk-parallel-item:first-child::after {align-self: flex-end;width: 50%;}#sk-container-id-1 div.sk-parallel-item:last-child::after {align-self: flex-start;width: 50%;}#sk-container-id-1 div.sk-parallel-item:only-child::after {width: 0;}#sk-container-id-1 div.sk-dashed-wrapped {border: 1px dashed gray;margin: 0 0.4em 0.5em 0.4em;box-sizing: border-box;padding-bottom: 0.4em;background-color: white;}#sk-container-id-1 div.sk-label label {font-family: monospace;font-weight: bold;display: inline-block;line-height: 1.2em;}#sk-container-id-1 div.sk-label-container {text-align: center;}#sk-container-id-1 div.sk-container {/* jupyter's `normalize.less` sets `[hidden] { display: none; }` but bootstrap.min.css set `[hidden] { display: none !important; }` so we also need the `!important` here to be able to override the default hidden behavior on the sphinx rendered scikit-learn.org. See: https://github.com/scikit-learn/scikit-learn/issues/21755 */display: inline-block !important;position: relative;}#sk-container-id-1 div.sk-text-repr-fallback {display: none;}</style><div id=\"sk-container-id-1\" class=\"sk-top-container\"><div class=\"sk-text-repr-fallback\"><pre>Ridge()</pre><b>In a Jupyter environment, please rerun this cell to show the HTML representation or trust the notebook. <br />On GitHub, the HTML representation is unable to render, please try loading this page with nbviewer.org.</b></div><div class=\"sk-container\" hidden><div class=\"sk-item\"><div class=\"sk-estimator sk-toggleable\"><input class=\"sk-toggleable__control sk-hidden--visually\" id=\"sk-estimator-id-1\" type=\"checkbox\" checked><label for=\"sk-estimator-id-1\" class=\"sk-toggleable__label sk-toggleable__label-arrow\">Ridge</label><div class=\"sk-toggleable__content\"><pre>Ridge()</pre></div></div></div></div></div>"
      ],
      "text/plain": [
       "Ridge()"
      ]
     },
     "execution_count": 114,
     "metadata": {},
     "output_type": "execute_result"
    }
   ],
   "source": [
    "X=complete_df['Date']\n",
    "X_axis=np.arange(len(X))\n",
    "lr.fit(X_axis.reshape(-1,1), complete_df['Abs Error'])"
   ]
  },
  {
   "cell_type": "code",
   "execution_count": 116,
   "id": "e4af06f4",
   "metadata": {},
   "outputs": [
    {
     "data": {
      "image/png": "[encoded data removed]",
      "text/plain": [
       "<Figure size 7000x4000 with 1 Axes>"
      ]
     },
     "metadata": {},
     "output_type": "display_data"
    }
   ],
   "source": [
    "figure(figsize=(70, 40), dpi=100)\n",
    "\n",
    "plt.bar(X_axis, complete_df['Abs Error'])\n",
    "plt.plot(X_axis, lr.coef_*X_axis+lr.intercept_, color='red', linewidth=20)\n",
    "\n",
    "plt.xticks(fontsize=40)\n",
    "plt.yticks(fontsize=40)\n",
    "\n",
    "\n",
    "plt.xlabel(\"Days\", size=50)\n",
    "plt.ylabel(\"F10 Error\", size=50)\n",
    "plt.title(\"Daily F10 Forecast Errors for [test_data]\",fontsize=75)\n",
    "plt.legend(['Trend'], fontsize=50)\n",
    "\n",
    "plt.show()"
   ]
  },
  {
   "cell_type": "markdown",
   "id": "c7fb5634",
   "metadata": {},
   "source": [
    "<h3>Conclusions</h3>"
   ]
  },
  {
   "cell_type": "markdown",
   "id": "ff8364ed",
   "metadata": {},
   "source": []
  }
 ],
 "metadata": {
  "kernelspec": {
   "display_name": "Python 3 (ipykernel)",
   "language": "python",
   "name": "python3"
  },
  "language_info": {
   "codemirror_mode": {
    "name": "ipython",
    "version": 3
   },
   "file_extension": ".py",
   "mimetype": "text/x-python",
   "name": "python",
   "nbconvert_exporter": "python",
   "pygments_lexer": "ipython3",
   "version": "3.9.16"
  }
 },
 "nbformat": 4,
 "nbformat_minor": 5
}
